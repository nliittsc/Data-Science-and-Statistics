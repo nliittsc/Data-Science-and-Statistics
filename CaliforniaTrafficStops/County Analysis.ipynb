{
 "cells": [
  {
   "cell_type": "markdown",
   "metadata": {},
   "source": [
    "This notebook will be for analysis of the data at the county level. In particular, we want to take a closer look at our missing data, since we want to have an idea of how it compares to other counties. \n",
    "\n",
    "# What are we interested in?\n",
    "\n",
    "Our primary question to answer is *do the data suggest that there are forms of racial profiling or bias present in the ways California Police Officers conduct traffic stops*?\n",
    "\n",
    "Why California? Aside from being a California native that is interested in the dynamics of his own state, one claim I sometimes see or hear is that racism in the more liberal states of the USA is dead, and is more reserved for the \"Deep South\". This is not a claim on my part, but rather a sentiment that Californians often espouse. California, aside from some counties, is a very blue state, with a large social justice community. Does that then imply that California police are relatively unbiased? Presently, we have no other state to compare to, and that's for several reasons. \n",
    "\n",
    "First, any comparison I make is an implicit criticism, since I would have to select a state to compare to, which turns into a judgement on what I apriori believe to be a more racist state. I'm not sure I can make this judgement fairly. Why not compare to all states? Because there are 30+ datasets that would each require exploration and cleaning, which is time consuming. Also, it's not very interesting, because Pierson et al. at https://openpolicing.stanford.edu/findings/ has already done the aggregate analysis for most of the states in the USA, and since I likely could not do a better job, I defer the reader to here. \n",
    "\n",
    "Second, California is a huge state, with a large amount of data, and I think that exploring California on its own makes for an interesting project.\n",
    "\n",
    "Since our concern is bias in the police, we have to think of ways we can look at bias. With the data we have, our primary concern has to do with the search, arrest and contraband \"hit\" rates for the counties in California. In particular, we want to take a look at the county level data and get an idea of whether counties in California are approximately homogeneous or if there are some systemic differences in the counties. If counties are fairly different, then the search, arrest and hit rates will be different in each county, and we'll need to take that information into account when we take on the task of actually modeling data. "
   ]
  },
  {
   "cell_type": "code",
   "execution_count": 1,
   "metadata": {},
   "outputs": [
    {
     "name": "stderr",
     "output_type": "stream",
     "text": [
      "Warning message:\n",
      "\"package 'dplyr' was built under R version 3.5.2\"\n",
      "Attaching package: 'dplyr'\n",
      "\n",
      "The following objects are masked from 'package:stats':\n",
      "\n",
      "    filter, lag\n",
      "\n",
      "The following objects are masked from 'package:base':\n",
      "\n",
      "    intersect, setdiff, setequal, union\n",
      "\n",
      "Warning message:\n",
      "\"package 'ggplot2' was built under R version 3.5.2\"Loading required package: Matrix\n"
     ]
    }
   ],
   "source": [
    "library(binom)\n",
    "library(dplyr)\n",
    "library(ggplot2)\n",
    "library(geeM)"
   ]
  },
  {
   "cell_type": "code",
   "execution_count": 2,
   "metadata": {},
   "outputs": [],
   "source": [
    "f <- \"caTrafficAgg.csv\"\n",
    "data <- read.csv(f)"
   ]
  },
  {
   "cell_type": "markdown",
   "metadata": {},
   "source": [
    "## The data\n",
    "\n",
    "The data in this notebook consists of an aggregated version of the California traffic stop data. The original data is at an individual level, where each row consists of a particular traffic stop and its details. In previous scripts and notebooks, I have aggregated this data so that instead a row consists of information on the year/county/race level. This can be more readily seen by inspecting the head provided blow. Each row has a year, has a county, and has a demographic, as well as the number of traffic stops for that race, the number of searches, tickets, traffic collisions, etc. Right now, we mostly want to get a big picture view of the data by exploring these aggregate data instead of the individual level data, which is so large as to be computationally burdensome. \n",
    "\n",
    "While we will do a little bit of modeling here, nothing that may allow us to really infer if police are acting biased or not. Mostly, we will just get some idea of how frequent searches are for each county and (potentially) each demographic. This will give us an idea of whether California's counties could be treated as homogeneous or not. \n",
    "\n",
    "## A simple model for searches, arrests, hits\n",
    "\n",
    "To better understand our data, we can come up with a simple model. Each county has a number of stops, a number of searches, arrests, etc. Since a car can only get searched by the police after it has been stopped by the police, we can think of each search or arrest as the outcome of a bernoullii trial, where the \"trial\" was the traffic stop itself. Let $X_i$ be a bernoulli random variable denoting the $i$th traffic stop, then\n",
    "\n",
    "$$X_i = \\begin{cases}\n",
    "    1, \\quad \\text{Police earches the car} \\\\\n",
    "    0, \\quad \\text{Police does not search}\n",
    "    \\end{cases}$$\n",
    "    \n",
    "So now, if we have $1000$ traffic stops, we really have 1000 bernoulli random variables, where the outcome is 1 if a search was conducted, and 0 if a search was not conducted. This lets us cast our data into a probabilistic light: What is the probability of being searched? That is, what $P(X = 1)$? Note that the probability here is actually the expected value:\n",
    "\n",
    "$$\\begin{align}\n",
    "E[X] & = (1)P(X = 1) + (0)P(X=0)\\\\\n",
    "& = P(X=1)\n",
    "\\end{align}$$\n",
    "\n",
    "which we can estimate with statistics.\n",
    "\n",
    "We can actually generalize this notion by realizing that a bernoulli random variable is actually a special case of a binomial random variable, which describes the following: \"Out of $n$ trials, what is the probability of $k$ successes?\" Put to our traffic data, we can ask, \"Out of $1000$ traffic stops, what is the probability of $k = 1, 2, ..., 1000$ searches?\" The binomial random variable has the following probability distribution:\n",
    "\n",
    "$$P(X = k) = {n \\choose k} p^k (1 - p)^{n-k}$$\n",
    "\n",
    "Here we have $n$, the number of traffic stops, from the data, and we can estimate the probability of a search $p$ with some statistical estimators. If we replace \"search\" with \"arrest\" then we have a model for estimating the probability of an arrest. We can also look at the contraband hit rates by changing $n$ to be the number of *searches* and $k$ to be the number of \"hits\" for *finding contraband*. The bernoulli case follows by taking $n=1$ and $k = 0, 1$. \n",
    "\n",
    "However, we don't neccesarily have the same probability of a search for every traffic stop. It can depend on various things, including county. Police departments in different counties may have different standards, counties may have different kinds of populations, and even different demographics may carry contraband or induldge in criminal behaviour at different rates. To fully understand this, we will need a more expressive model that can account for these things. *We're going to get there.* But for now, we will take this simple binomial model and apply it to the aggregated data at the county level, because first we want to answer the question: *Are the counties different?*\n",
    "\n",
    "## Estimation\n",
    "\n",
    "We have the data, how do we estimate the probability of a search/arrest/hit? That is, in the binomial model, how do we estimate $p$ above? For each county, we have a binomial distribution, as above. We also have multiple years. Assuming that the data are identitally distributed for each year, the likelihood function of the binomial model (for a county $j$) is\n",
    "\n",
    "$$L(p_j|n_i, y_i) = \\prod_{i = 1}^m {n_i \\choose y_i} p_j^{y_i} (1 - p_j) ^ {n_i - y_i} \\quad (1)$$\n",
    "\n",
    "where $m$ is the number of years the data was recorded. That is, for each year $i = 1, 2, ..., m$, we have a number of traffic stops $n_i$, and searches, arrests, tickets, etc, which can all be denoted by $y_i$. By choosing $p_j$ that maximizes this equation, we get an estimate of $p$ that is most likely to explain the data we have on hand. The $j$ index is just indicating that we are looking at the $j$th county, instead of pooling them all together. The estimate $\\hat{p}_j$ can be found by taking the log transformation of the above equation, taking the derivative with respect to $p_j$, setting equal to $0$ and solving. We'll omit some steps, but taking the log gives\n",
    "\n",
    "$$\\sum_i^m log {n_i \\choose y_i} + y_i log p_j + (n_i - y_i) log(1 - p_j) \\quad (2)$$\n",
    "\n",
    "and the first order condition is\n",
    "\n",
    "$$\\sum_i^m \\frac{y_i}{p_j} - \\frac{n_i - y_i}{1 - p_j} = 0 \\quad (3)$$.\n",
    "\n",
    "Solving for $p_j$ then gives the maximum likelihood estimate\n",
    "\n",
    "$$\\hat{p}_j = \\frac{\\sum_i^m y_i}{\\sum_i^m n_i} \\quad (4)$$\n",
    "\n",
    "which is just the sample mean from the data over all years. Note that this model is limited, but it will be useful for our purposes."
   ]
  },
  {
   "cell_type": "code",
   "execution_count": 3,
   "metadata": {},
   "outputs": [
    {
     "data": {
      "text/html": [
       "<table>\n",
       "<thead><tr><th scope=col>X</th><th scope=col>year</th><th scope=col>county_name</th><th scope=col>driver_race</th><th scope=col>stops</th><th scope=col>num_males</th><th scope=col>suspect_dui</th><th scope=col>move_violation</th><th scope=col>searches</th><th scope=col>non_arrest_srch</th><th scope=col>consent</th><th scope=col>probable</th><th scope=col>hits</th><th scope=col>arrests</th><th scope=col>warnings</th><th scope=col>chp215</th><th scope=col>collisions</th><th scope=col>chp281</th></tr></thead>\n",
       "<tbody>\n",
       "\t<tr><td>1             </td><td>2009          </td><td>Alameda County</td><td>Asian         </td><td>13866         </td><td> 9284         </td><td> 729          </td><td> 5160         </td><td> 288          </td><td> 109          </td><td>0             </td><td> 7            </td><td> 4            </td><td>254           </td><td>2068          </td><td> 6586         </td><td>1163          </td><td>305           </td></tr>\n",
       "\t<tr><td>2             </td><td>2009          </td><td>Alameda County</td><td>Black         </td><td>20905         </td><td>12575         </td><td>1001          </td><td> 6531         </td><td>1372          </td><td> 656          </td><td>1             </td><td>44            </td><td>34            </td><td>957           </td><td>3098          </td><td>11143         </td><td> 937          </td><td>176           </td></tr>\n",
       "\t<tr><td>3             </td><td>2009          </td><td>Alameda County</td><td>Hispanic      </td><td>25616         </td><td>20236         </td><td> 973          </td><td> 7263         </td><td>1663          </td><td>1006          </td><td>2             </td><td>33            </td><td>24            </td><td>909           </td><td>3036          </td><td>11743         </td><td>1371          </td><td>962           </td></tr>\n",
       "\t<tr><td>4             </td><td>2009          </td><td>Alameda County</td><td>Other         </td><td>13053         </td><td> 9709         </td><td> 410          </td><td> 5000         </td><td> 307          </td><td> 143          </td><td>0             </td><td>14            </td><td>12            </td><td>229           </td><td>1475          </td><td> 7093         </td><td> 801          </td><td>387           </td></tr>\n",
       "\t<tr><td>5             </td><td>2009          </td><td>Alameda County</td><td>White         </td><td>40714         </td><td>27633         </td><td>1123          </td><td>14600         </td><td> 849          </td><td> 379          </td><td>1             </td><td>34            </td><td>24            </td><td>707           </td><td>5585          </td><td>19495         </td><td>2734          </td><td>918           </td></tr>\n",
       "\t<tr><td>6             </td><td>2009          </td><td>Alpine County </td><td>Asian         </td><td>  341         </td><td>  264         </td><td>  22          </td><td>  168         </td><td>   2          </td><td>   1          </td><td>0             </td><td> 1            </td><td> 1            </td><td>  4           </td><td> 120          </td><td>  108         </td><td>   6          </td><td>  9           </td></tr>\n",
       "</tbody>\n",
       "</table>\n"
      ],
      "text/latex": [
       "\\begin{tabular}{r|llllllllllllllllll}\n",
       " X & year & county\\_name & driver\\_race & stops & num\\_males & suspect\\_dui & move\\_violation & searches & non\\_arrest\\_srch & consent & probable & hits & arrests & warnings & chp215 & collisions & chp281\\\\\n",
       "\\hline\n",
       "\t 1              & 2009           & Alameda County & Asian          & 13866          &  9284          &  729           &  5160          &  288           &  109           & 0              &  7             &  4             & 254            & 2068           &  6586          & 1163           & 305           \\\\\n",
       "\t 2              & 2009           & Alameda County & Black          & 20905          & 12575          & 1001           &  6531          & 1372           &  656           & 1              & 44             & 34             & 957            & 3098           & 11143          &  937           & 176           \\\\\n",
       "\t 3              & 2009           & Alameda County & Hispanic       & 25616          & 20236          &  973           &  7263          & 1663           & 1006           & 2              & 33             & 24             & 909            & 3036           & 11743          & 1371           & 962           \\\\\n",
       "\t 4              & 2009           & Alameda County & Other          & 13053          &  9709          &  410           &  5000          &  307           &  143           & 0              & 14             & 12             & 229            & 1475           &  7093          &  801           & 387           \\\\\n",
       "\t 5              & 2009           & Alameda County & White          & 40714          & 27633          & 1123           & 14600          &  849           &  379           & 1              & 34             & 24             & 707            & 5585           & 19495          & 2734           & 918           \\\\\n",
       "\t 6              & 2009           & Alpine County  & Asian          &   341          &   264          &   22           &   168          &    2           &    1           & 0              &  1             &  1             &   4            &  120           &   108          &    6           &   9           \\\\\n",
       "\\end{tabular}\n"
      ],
      "text/markdown": [
       "\n",
       "| X | year | county_name | driver_race | stops | num_males | suspect_dui | move_violation | searches | non_arrest_srch | consent | probable | hits | arrests | warnings | chp215 | collisions | chp281 |\n",
       "|---|---|---|---|---|---|---|---|---|---|---|---|---|---|---|---|---|---|\n",
       "| 1              | 2009           | Alameda County | Asian          | 13866          |  9284          |  729           |  5160          |  288           |  109           | 0              |  7             |  4             | 254            | 2068           |  6586          | 1163           | 305            |\n",
       "| 2              | 2009           | Alameda County | Black          | 20905          | 12575          | 1001           |  6531          | 1372           |  656           | 1              | 44             | 34             | 957            | 3098           | 11143          |  937           | 176            |\n",
       "| 3              | 2009           | Alameda County | Hispanic       | 25616          | 20236          |  973           |  7263          | 1663           | 1006           | 2              | 33             | 24             | 909            | 3036           | 11743          | 1371           | 962            |\n",
       "| 4              | 2009           | Alameda County | Other          | 13053          |  9709          |  410           |  5000          |  307           |  143           | 0              | 14             | 12             | 229            | 1475           |  7093          |  801           | 387            |\n",
       "| 5              | 2009           | Alameda County | White          | 40714          | 27633          | 1123           | 14600          |  849           |  379           | 1              | 34             | 24             | 707            | 5585           | 19495          | 2734           | 918            |\n",
       "| 6              | 2009           | Alpine County  | Asian          |   341          |   264          |   22           |   168          |    2           |    1           | 0              |  1             |  1             |   4            |  120           |   108          |    6           |   9            |\n",
       "\n"
      ],
      "text/plain": [
       "  X year county_name    driver_race stops num_males suspect_dui move_violation\n",
       "1 1 2009 Alameda County Asian       13866  9284      729         5160         \n",
       "2 2 2009 Alameda County Black       20905 12575     1001         6531         \n",
       "3 3 2009 Alameda County Hispanic    25616 20236      973         7263         \n",
       "4 4 2009 Alameda County Other       13053  9709      410         5000         \n",
       "5 5 2009 Alameda County White       40714 27633     1123        14600         \n",
       "6 6 2009 Alpine County  Asian         341   264       22          168         \n",
       "  searches non_arrest_srch consent probable hits arrests warnings chp215\n",
       "1  288      109            0        7        4   254     2068      6586 \n",
       "2 1372      656            1       44       34   957     3098     11143 \n",
       "3 1663     1006            2       33       24   909     3036     11743 \n",
       "4  307      143            0       14       12   229     1475      7093 \n",
       "5  849      379            1       34       24   707     5585     19495 \n",
       "6    2        1            0        1        1     4      120       108 \n",
       "  collisions chp281\n",
       "1 1163       305   \n",
       "2  937       176   \n",
       "3 1371       962   \n",
       "4  801       387   \n",
       "5 2734       918   \n",
       "6    6         9   "
      ]
     },
     "metadata": {},
     "output_type": "display_data"
    }
   ],
   "source": [
    "head(data)"
   ]
  },
  {
   "cell_type": "markdown",
   "metadata": {},
   "source": [
    "First, we want to get an idea of the county level search, hit, and arrest rates, as well as extra information such as warnings, tickets, etc. Since we are just trying to paint an overall picture, we'll just group everything up by county. We won't worry too much about the year or racial divisions - at least not yet. We're still in exploration mode. Assuming that the counties didnt change too much between years, each county should be (close) to identically distributed, so we can just sum over the years and look at the counties in aggregate."
   ]
  },
  {
   "cell_type": "code",
   "execution_count": 4,
   "metadata": {},
   "outputs": [
    {
     "data": {
      "text/html": [
       "<table>\n",
       "<thead><tr><th scope=col>county_name</th><th scope=col>stops</th><th scope=col>suspect_dui</th><th scope=col>move_violation</th><th scope=col>searches</th><th scope=col>non_arrest_srch</th><th scope=col>consent</th><th scope=col>probable</th><th scope=col>hits</th><th scope=col>arrests</th><th scope=col>warnings</th><th scope=col>chp215</th><th scope=col>collisions</th><th scope=col>chp281</th></tr></thead>\n",
       "<tbody>\n",
       "\t<tr><td>Alameda County  </td><td>1718444         </td><td>67388           </td><td>579399          </td><td>63198           </td><td>28124           </td><td>93              </td><td>1996            </td><td>1305            </td><td>45826           </td><td>282021          </td><td>801185          </td><td>112556          </td><td>46755           </td></tr>\n",
       "\t<tr><td>Alpine County   </td><td>  91785         </td><td> 3719           </td><td> 48563          </td><td> 2545           </td><td>  654           </td><td>18              </td><td> 195            </td><td> 147            </td><td> 2267           </td><td> 33014          </td><td> 32356          </td><td>  2069          </td><td> 2389           </td></tr>\n",
       "\t<tr><td>Amador County   </td><td>  87788         </td><td> 1229           </td><td> 38109          </td><td> 1844           </td><td> 1029           </td><td> 2              </td><td> 117            </td><td>  90            </td><td> 1321           </td><td> 16432          </td><td> 30135          </td><td>  2846          </td><td> 5476           </td></tr>\n",
       "\t<tr><td>Butte County    </td><td> 228030         </td><td> 9224           </td><td>102837          </td><td> 8377           </td><td> 3259           </td><td>16              </td><td> 451            </td><td> 349            </td><td> 6740           </td><td> 54817          </td><td>107794          </td><td> 10041          </td><td> 7026           </td></tr>\n",
       "\t<tr><td>Calaveras County</td><td>  95447         </td><td> 1771           </td><td> 37810          </td><td> 2395           </td><td>  996           </td><td> 7              </td><td>  67            </td><td>  48            </td><td> 2019           </td><td> 27488          </td><td> 20674          </td><td>  4214          </td><td> 6503           </td></tr>\n",
       "\t<tr><td>Colusa County   </td><td> 105650         </td><td> 1903           </td><td> 64207          </td><td> 2283           </td><td> 1397           </td><td>15              </td><td> 344            </td><td> 267            </td><td> 1447           </td><td> 19737          </td><td> 54978          </td><td>  2246          </td><td>  601           </td></tr>\n",
       "</tbody>\n",
       "</table>\n"
      ],
      "text/latex": [
       "\\begin{tabular}{r|llllllllllllll}\n",
       " county\\_name & stops & suspect\\_dui & move\\_violation & searches & non\\_arrest\\_srch & consent & probable & hits & arrests & warnings & chp215 & collisions & chp281\\\\\n",
       "\\hline\n",
       "\t Alameda County   & 1718444          & 67388            & 579399           & 63198            & 28124            & 93               & 1996             & 1305             & 45826            & 282021           & 801185           & 112556           & 46755           \\\\\n",
       "\t Alpine County    &   91785          &  3719            &  48563           &  2545            &   654            & 18               &  195             &  147             &  2267            &  33014           &  32356           &   2069           &  2389           \\\\\n",
       "\t Amador County    &   87788          &  1229            &  38109           &  1844            &  1029            &  2               &  117             &   90             &  1321            &  16432           &  30135           &   2846           &  5476           \\\\\n",
       "\t Butte County     &  228030          &  9224            & 102837           &  8377            &  3259            & 16               &  451             &  349             &  6740            &  54817           & 107794           &  10041           &  7026           \\\\\n",
       "\t Calaveras County &   95447          &  1771            &  37810           &  2395            &   996            &  7               &   67             &   48             &  2019            &  27488           &  20674           &   4214           &  6503           \\\\\n",
       "\t Colusa County    &  105650          &  1903            &  64207           &  2283            &  1397            & 15               &  344             &  267             &  1447            &  19737           &  54978           &   2246           &   601           \\\\\n",
       "\\end{tabular}\n"
      ],
      "text/markdown": [
       "\n",
       "| county_name | stops | suspect_dui | move_violation | searches | non_arrest_srch | consent | probable | hits | arrests | warnings | chp215 | collisions | chp281 |\n",
       "|---|---|---|---|---|---|---|---|---|---|---|---|---|---|\n",
       "| Alameda County   | 1718444          | 67388            | 579399           | 63198            | 28124            | 93               | 1996             | 1305             | 45826            | 282021           | 801185           | 112556           | 46755            |\n",
       "| Alpine County    |   91785          |  3719            |  48563           |  2545            |   654            | 18               |  195             |  147             |  2267            |  33014           |  32356           |   2069           |  2389            |\n",
       "| Amador County    |   87788          |  1229            |  38109           |  1844            |  1029            |  2               |  117             |   90             |  1321            |  16432           |  30135           |   2846           |  5476            |\n",
       "| Butte County     |  228030          |  9224            | 102837           |  8377            |  3259            | 16               |  451             |  349             |  6740            |  54817           | 107794           |  10041           |  7026            |\n",
       "| Calaveras County |   95447          |  1771            |  37810           |  2395            |   996            |  7               |   67             |   48             |  2019            |  27488           |  20674           |   4214           |  6503            |\n",
       "| Colusa County    |  105650          |  1903            |  64207           |  2283            |  1397            | 15               |  344             |  267             |  1447            |  19737           |  54978           |   2246           |   601            |\n",
       "\n"
      ],
      "text/plain": [
       "  county_name      stops   suspect_dui move_violation searches non_arrest_srch\n",
       "1 Alameda County   1718444 67388       579399         63198    28124          \n",
       "2 Alpine County      91785  3719        48563          2545      654          \n",
       "3 Amador County      87788  1229        38109          1844     1029          \n",
       "4 Butte County      228030  9224       102837          8377     3259          \n",
       "5 Calaveras County   95447  1771        37810          2395      996          \n",
       "6 Colusa County     105650  1903        64207          2283     1397          \n",
       "  consent probable hits arrests warnings chp215 collisions chp281\n",
       "1 93      1996     1305 45826   282021   801185 112556     46755 \n",
       "2 18       195      147  2267    33014    32356   2069      2389 \n",
       "3  2       117       90  1321    16432    30135   2846      5476 \n",
       "4 16       451      349  6740    54817   107794  10041      7026 \n",
       "5  7        67       48  2019    27488    20674   4214      6503 \n",
       "6 15       344      267  1447    19737    54978   2246       601 "
      ]
     },
     "metadata": {},
     "output_type": "display_data"
    }
   ],
   "source": [
    "aggdata <- data %>%\n",
    "                group_by(county_name) %>%\n",
    "                    summarise(stops = sum(stops),\n",
    "                              suspect_dui = sum(suspect_dui),\n",
    "                              move_violation = sum(move_violation),\n",
    "                              searches = sum(searches),\n",
    "                              non_arrest_srch = sum(non_arrest_srch),\n",
    "                              consent = sum(consent),\n",
    "                              probable = sum(probable),\n",
    "                              hits = sum(hits),\n",
    "                              arrests = sum(arrests),\n",
    "                              warnings = sum(warnings),\n",
    "                              chp215 = sum(chp215),\n",
    "                              collisions = sum(collisions),\n",
    "                              chp281 = sum(chp281))\n",
    "\n",
    "head(aggdata)"
   ]
  },
  {
   "cell_type": "markdown",
   "metadata": {},
   "source": [
    "And now let's take a quick summary. Notice the HUGE variance in total population in counties, where the minimum is 1158 and the maximum is over 10 million. Those are Alpine and Los Angeles, respectively, by the way. The NA is our `Missing` county, since we don't have a population estimate on that county yet. "
   ]
  },
  {
   "cell_type": "code",
   "execution_count": 5,
   "metadata": {},
   "outputs": [
    {
     "data": {
      "text/html": [
       "31721146"
      ],
      "text/latex": [
       "31721146"
      ],
      "text/markdown": [
       "31721146"
      ],
      "text/plain": [
       "[1] 31721146"
      ]
     },
     "metadata": {},
     "output_type": "display_data"
    }
   ],
   "source": [
    "#the sum of all the stops is the number of individual level data points in the original data\n",
    "sum(aggdata$stops)"
   ]
  },
  {
   "cell_type": "code",
   "execution_count": 6,
   "metadata": {},
   "outputs": [
    {
     "data": {
      "text/plain": [
       "           county_name     stops          suspect_dui     move_violation   \n",
       " Alameda County  : 1   Min.   :  43166   Min.   :   654   Min.   :  20030  \n",
       " Alpine County   : 1   1st Qu.: 129048   1st Qu.:  2814   1st Qu.:  61851  \n",
       " Amador County   : 1   Median : 265884   Median :  7961   Median : 102837  \n",
       " Butte County    : 1   Mean   : 576748   Mean   : 17830   Mean   : 239740  \n",
       " Calaveras County: 1   3rd Qu.: 510100   3rd Qu.: 16501   3rd Qu.: 224124  \n",
       " Colusa County   : 1   Max.   :5998360   Max.   :248881   Max.   :2281767  \n",
       " (Other)         :49                                                       \n",
       "    searches      non_arrest_srch    consent         probable     \n",
       " Min.   :   649   Min.   :  277   Min.   :  1.0   Min.   :  55.0  \n",
       " 1st Qu.:  3798   1st Qu.: 1778   1st Qu.: 10.5   1st Qu.: 258.5  \n",
       " Median :  9335   Median : 3772   Median : 20.0   Median : 434.0  \n",
       " Mean   : 19611   Mean   : 8608   Mean   :133.5   Mean   : 709.5  \n",
       " 3rd Qu.: 18156   3rd Qu.: 8750   3rd Qu.:110.5   3rd Qu.: 724.5  \n",
       " Max.   :206112   Max.   :90805   Max.   :975.0   Max.   :5921.0  \n",
       "                                                                  \n",
       "      hits           arrests          warnings          chp215       \n",
       " Min.   :  40.0   Min.   :   521   Min.   : 11048   Min.   :   9272  \n",
       " 1st Qu.: 196.0   1st Qu.:  2942   1st Qu.: 28214   1st Qu.:  55236  \n",
       " Median : 315.0   Median :  6740   Median : 52817   Median : 107794  \n",
       " Mean   : 558.2   Mean   : 14960   Mean   : 97197   Mean   : 277257  \n",
       " 3rd Qu.: 527.0   3rd Qu.: 13782   3rd Qu.: 84483   3rd Qu.: 231621  \n",
       " Max.   :3990.0   Max.   :163115   Max.   :977061   Max.   :2893635  \n",
       "                                                                     \n",
       "   collisions         chp281     \n",
       " Min.   :   837   Min.   :  434  \n",
       " 1st Qu.:  4078   1st Qu.: 2786  \n",
       " Median : 10375   Median : 5476  \n",
       " Mean   : 38686   Mean   :13429  \n",
       " 3rd Qu.: 29926   3rd Qu.:16148  \n",
       " Max.   :636629   Max.   :67132  \n",
       "                                 "
      ]
     },
     "metadata": {},
     "output_type": "display_data"
    }
   ],
   "source": [
    "summary(aggdata)"
   ]
  },
  {
   "cell_type": "markdown",
   "metadata": {},
   "source": [
    "Now let's just compute some rates for the count data and the aggregated count data. Since we're assuming that the counties didn't really change over the years, we can just take a simple mean of the search rates to get the MLE estimate of $p$ derived earlier."
   ]
  },
  {
   "cell_type": "code",
   "execution_count": 7,
   "metadata": {},
   "outputs": [],
   "source": [
    "aggdata$search_rate <- aggdata$searches / aggdata$stops\n",
    "aggdata$hit_rate <- aggdata$hits / aggdata$searches\n",
    "aggdata$arrest_rate <- aggdata$arrests / aggdata$stops\n",
    "aggdata$ticket_rate <- aggdata$chp215 / aggdata$stops\n",
    "aggdata$warning_rate <- aggdata$warnings / aggdata$stops\n",
    "\n",
    "data$search_rate <- data$searches / data$stops\n",
    "data$hit_rate <- data$hits / data$searches\n",
    "data$arrest_rate <- data$arrests / data$stops\n",
    "data$ticket_rate <- data$chp215 / data$stops\n",
    "data$warning_rate <- data$warnings / data$stops"
   ]
  },
  {
   "cell_type": "markdown",
   "metadata": {},
   "source": [
    "Here we'll use the profile likelihood of the observed proportion to construct our confidence intervals. In general, the Wald Interval (normal approximation) is bad for proportions near 0 or 1, sometimes regardless of sample size, so we opt for a better approach. Jeffrey's is an option, or Agresti-Coull, but according to https://pdfs.semanticscholar.org/1a76/06f816f8b2cb6fb9873594d807aaf81d050b.pdf, it's just a matter of taste. So we choose likelihood profile interval since most of our inference we'll be based on the notion of a likelihood. (This includes the random effects models we will eventually get into)"
   ]
  },
  {
   "cell_type": "code",
   "execution_count": 8,
   "metadata": {},
   "outputs": [
    {
     "data": {
      "text/html": [
       "<table>\n",
       "<thead><tr><th scope=col>County</th><th scope=col>Means</th><th scope=col>Lower</th><th scope=col>Upper</th></tr></thead>\n",
       "<tbody>\n",
       "\t<tr><td>Alameda County  </td><td>0.03677629      </td><td>0.03649558      </td><td>0.03705839      </td></tr>\n",
       "\t<tr><td>Alpine County   </td><td>0.02772784      </td><td>0.02667877      </td><td>0.02880327      </td></tr>\n",
       "\t<tr><td>Amador County   </td><td>0.02100515      </td><td>0.02007048      </td><td>0.02196777      </td></tr>\n",
       "\t<tr><td>Butte County    </td><td>0.03673639      </td><td>0.03596949      </td><td>0.03751370      </td></tr>\n",
       "\t<tr><td>Calaveras County</td><td>0.02509246      </td><td>0.02411292      </td><td>0.02609748      </td></tr>\n",
       "\t<tr><td>Colusa County   </td><td>0.02160909      </td><td>0.02074388      </td><td>0.02249749      </td></tr>\n",
       "</tbody>\n",
       "</table>\n"
      ],
      "text/latex": [
       "\\begin{tabular}{r|llll}\n",
       " County & Means & Lower & Upper\\\\\n",
       "\\hline\n",
       "\t Alameda County   & 0.03677629       & 0.03649558       & 0.03705839      \\\\\n",
       "\t Alpine County    & 0.02772784       & 0.02667877       & 0.02880327      \\\\\n",
       "\t Amador County    & 0.02100515       & 0.02007048       & 0.02196777      \\\\\n",
       "\t Butte County     & 0.03673639       & 0.03596949       & 0.03751370      \\\\\n",
       "\t Calaveras County & 0.02509246       & 0.02411292       & 0.02609748      \\\\\n",
       "\t Colusa County    & 0.02160909       & 0.02074388       & 0.02249749      \\\\\n",
       "\\end{tabular}\n"
      ],
      "text/markdown": [
       "\n",
       "| County | Means | Lower | Upper |\n",
       "|---|---|---|---|\n",
       "| Alameda County   | 0.03677629       | 0.03649558       | 0.03705839       |\n",
       "| Alpine County    | 0.02772784       | 0.02667877       | 0.02880327       |\n",
       "| Amador County    | 0.02100515       | 0.02007048       | 0.02196777       |\n",
       "| Butte County     | 0.03673639       | 0.03596949       | 0.03751370       |\n",
       "| Calaveras County | 0.02509246       | 0.02411292       | 0.02609748       |\n",
       "| Colusa County    | 0.02160909       | 0.02074388       | 0.02249749       |\n",
       "\n"
      ],
      "text/plain": [
       "  County           Means      Lower      Upper     \n",
       "1 Alameda County   0.03677629 0.03649558 0.03705839\n",
       "2 Alpine County    0.02772784 0.02667877 0.02880327\n",
       "3 Amador County    0.02100515 0.02007048 0.02196777\n",
       "4 Butte County     0.03673639 0.03596949 0.03751370\n",
       "5 Calaveras County 0.02509246 0.02411292 0.02609748\n",
       "6 Colusa County    0.02160909 0.02074388 0.02249749"
      ]
     },
     "metadata": {},
     "output_type": "display_data"
    }
   ],
   "source": [
    "counties <- c()\n",
    "means <- c()\n",
    "lowerbounds <- c()\n",
    "upperbounds <- c()\n",
    "\n",
    "for (county in unique(aggdata$county_name)) {\n",
    "    \n",
    "    stops <- aggdata[aggdata$county_name == county,]$stops\n",
    "    searches <- aggdata[aggdata$county_name == county,]$searches\n",
    "    \n",
    "    p_hat <- binom.profile(searches, stops, conf.level = 0.95)[, 4]\n",
    "    lower <- binom.profile(searches, stops, conf.level = 0.95)[, 5]\n",
    "    upper <- binom.profile(searches, stops, conf.level = 0.95)[, 6]\n",
    "    \n",
    "    counties <- c(counties, county)\n",
    "    means <- c(means, p_hat)\n",
    "    lowerbounds <- c(lowerbounds, lower)\n",
    "    upperbounds <- c(upperbounds, upper)\n",
    "}\n",
    "\n",
    "conf1 <- data.frame(\"County\" = counties,\n",
    "                             \"Means\" = means,\n",
    "                             \"Lower\" = lowerbounds,\n",
    "                             \"Upper\" = upperbounds)\n",
    "\n",
    "head(conf1)"
   ]
  },
  {
   "cell_type": "markdown",
   "metadata": {},
   "source": [
    "For fun, we can also plot the log-likelihoods for each of the counties, which is a sort of measure of uncertainty. Given our data, (and the binomial model) the likelihood function gives the most \"likely\" values of the unknown variable $p_i$, where $i$ denotes the county. Flatter likelihood curves denote more uncertainty, while sharper \"peaked\" curves denote more certainty about the values. Higher likelihoods are better, and since we have taken the log transformation, the likelihoods start negative and increase towards 0. Recall that the log likelihood is \n",
    "\n",
    "$$\\sum_i^m log {n_i\\choose y_i} + y_i log p_j + (n_i - y_i) log(1 - p_j).$$\n",
    "\n",
    "The thing to note is that the term $log {n_i \\choose y_i}$ doesn't depend on $p$, so we can omit it in the code below. We can also scale the log-likelihood so that the maximum is attained around a log likelihood of 0.\n",
    "It can be tough to directly compare likelihoods, but in this case we are using the likelihood functions just to get an idea of uncertainty.\n",
    "\n",
    "While pretty, the plot is pretty noisy. The main thing to notice is that there is a lot of variety in the shapes of the log-likelihood curves (which are different colors for different counties), but that most of the likelihood curv. In some sense, what we can learn from this plot is that there is a wide range in the degree of certainty in the search rate estimates among the counties. However, most of the log-likelihoods touch $0$ between $0.025$ and $0.05$, which indicates that most of the search rate estimates will fall into that range. We could repeat the plot for arrests and other metrics, but it's probably going to be similar to what we already have."
   ]
  },
  {
   "cell_type": "code",
   "execution_count": 9,
   "metadata": {},
   "outputs": [],
   "source": [
    "loglike <- function(n, y, x) {\n",
    "    log_lik <- (y*log(x)) + ((n - y)*log(1 - x))\n",
    "    return(log_lik)\n",
    "} \n",
    "\n",
    "thetas <- seq(0.001, 0.10, by = 0.001)\n",
    "counties <- c()\n",
    "#likelihoods <- vector(mode=\"list\", length=55)\n",
    "#names(likelihoods) <- aggdata$county_name\n",
    "\n",
    "likelihoods <- c()\n",
    "\n",
    "j <- 1\n",
    "\n",
    "for (county in unique(aggdata$county_name)) {\n",
    "    stops <- aggdata[aggdata$county_name == county,]$stops\n",
    "    searches <- aggdata[aggdata$county_name == county,]$searches\n",
    "    \n",
    "    lik <- loglike(n = stops, y = searches, x = thetas)\n",
    "    lik <- lik - max(lik)\n",
    "    likelihoods[[county]] <- lik\n",
    "    \n",
    "    j <- j + 1\n",
    "    \n",
    "    #counties <- c(counties, county)\n",
    "}\n",
    "\n",
    "lik_data <- data.frame( \"county\" = as.factor(rep(names(likelihoods), each = 100)),\n",
    "                        'loglike' = matrix(unlist(likelihoods)),\n",
    "                        'thetas' = thetas)"
   ]
  },
  {
   "cell_type": "code",
   "execution_count": 10,
   "metadata": {},
   "outputs": [
    {
     "data": {},
     "metadata": {},
     "output_type": "display_data"
    },
    {
     "data": {
      "image/png": "[encoded data removed]",
      "text/plain": [
       "plot without title"
      ]
     },
     "metadata": {},
     "output_type": "display_data"
    }
   ],
   "source": [
    "ggplot(lik_data, aes(x = thetas, y = loglike, colour = county)) +\n",
    "    geom_line() + \n",
    "    theme_bw() +\n",
    "    theme(legend.position = 'none')"
   ]
  },
  {
   "cell_type": "markdown",
   "metadata": {},
   "source": [
    "# Confidence Intervals\n",
    "\n",
    "Now let's actually plot the confidence intervals for the search, arrest, and hit rate for each county."
   ]
  },
  {
   "cell_type": "code",
   "execution_count": 11,
   "metadata": {},
   "outputs": [
    {
     "data": {
      "text/html": [
       "0.0122708754409154"
      ],
      "text/latex": [
       "0.0122708754409154"
      ],
      "text/markdown": [
       "0.0122708754409154"
      ],
      "text/plain": [
       "[1] 0.01227088"
      ]
     },
     "metadata": {},
     "output_type": "display_data"
    }
   ],
   "source": [
    "conf1$County <- factor(conf1$County, levels = conf1$County[order(conf1$Means)])\n",
    "#standard deviation of the county estimates\n",
    "sd(conf1$Means)"
   ]
  },
  {
   "cell_type": "code",
   "execution_count": 12,
   "metadata": {},
   "outputs": [
    {
     "data": {},
     "metadata": {},
     "output_type": "display_data"
    },
    {
     "data": {
      "image/png": "[encoded data removed]",
      "text/plain": [
       "plot without title"
      ]
     },
     "metadata": {},
     "output_type": "display_data"
    }
   ],
   "source": [
    "ggplot(conf1, aes(x = Means)) +\n",
    "    geom_point(aes(x = Means, y = County, #colour = County\n",
    "                  ), size = 0.7) +\n",
    "    geom_errorbarh(aes(xmin = Lower, xmax = Upper, y = County, #colour = County\n",
    "                      )) +\n",
    "    theme_bw() +\n",
    "    theme(legend.position = 'none') +\n",
    "    xlab(\"Search Rate\") +\n",
    "    ggtitle(\"County-wide search rate and 95% CI, SD = 0.012\")"
   ]
  },
  {
   "cell_type": "markdown",
   "metadata": {},
   "source": [
    "The dots indicate the mean search rate, and the bars indicate the width of the 95% (profile) confidence interval. Bars that are shorter can be interpreted as having a higher degree of certainty, because we have larger sample sizes in those counties. Longer bars are less certain because we have less information. However, all the bars are extremely small because of the size of our data set. This is an aggregated version of 33 million traffic stops, and Los Angeles county alone consists of over 5 million traffic stops. With this much data, the confidence intervals are almost point estimates. This is OK for the time being.\n",
    "\n",
    "Tulare, Humboldt, and Fresno counties have the highest search rates, while Imperial, Mono, and Mariposa counties have the lowest search rates. Los Angeles is middle of the pack, with teeny-tiny error bars, because we have millions of data points just from that county. San Francisco has a slightly higher search rate estimate than LA, but not by much. Our data with a missing county is fairly close to the center, with little uncertainty in its estimate.\n",
    "\n",
    "The main take away here is that there seems to be a large amount of disrepancy between counties. The counties with the highest search rates look about 3 times higher than the counties with the lower search rates. Also, LA is the biggest county in California by far, and it has a very moderate search rate.\n",
    "\n",
    "*Note* if two confidence intervals overlap in their values, that does *not* indicate that there is no statistically significant difference between counties. You can say there is a statistically significant difference if the error bars are *disjoint*, but the converse is not true if they overlap. When there is overlap, we actually can't make any claims.\n",
    "\n",
    "Let's look at arrest rates now."
   ]
  },
  {
   "cell_type": "code",
   "execution_count": 13,
   "metadata": {},
   "outputs": [
    {
     "data": {
      "text/html": [
       "0.00915417278739353"
      ],
      "text/latex": [
       "0.00915417278739353"
      ],
      "text/markdown": [
       "0.00915417278739353"
      ],
      "text/plain": [
       "[1] 0.009154173"
      ]
     },
     "metadata": {},
     "output_type": "display_data"
    }
   ],
   "source": [
    "counties <- c()\n",
    "means <- c()\n",
    "lowerbounds <- c()\n",
    "upperbounds <- c()\n",
    "\n",
    "for (county in unique(aggdata$county_name)) {\n",
    "    \n",
    "    stops <- aggdata[aggdata$county_name == county,]$stops\n",
    "    arrests <- aggdata[aggdata$county_name == county,]$arrests\n",
    "    \n",
    "    p_hat <- binom.profile(arrests, stops, conf.level = 0.95)[, 4]\n",
    "    lower <- binom.profile(arrests, stops, conf.level = 0.95)[, 5]\n",
    "    upper <- binom.profile(arrests, stops, conf.level = 0.95)[, 6]\n",
    "    \n",
    "    counties <- c(counties, county)\n",
    "    means <- c(means, p_hat)\n",
    "    lowerbounds <- c(lowerbounds, lower)\n",
    "    upperbounds <- c(upperbounds, upper)\n",
    "}\n",
    "\n",
    "conf2 <- data.frame(\"County\" = counties,\n",
    "                             \"Means\" = means,\n",
    "                             \"Lower\" = lowerbounds,\n",
    "                             \"Upper\" = upperbounds)\n",
    "\n",
    "conf2$County <- factor(conf2$County, levels = conf1$County[order(conf1$Means)])\n",
    "#standard deviation of county estimates\n",
    "sd(conf2$Means)"
   ]
  },
  {
   "cell_type": "code",
   "execution_count": 14,
   "metadata": {},
   "outputs": [
    {
     "data": {},
     "metadata": {},
     "output_type": "display_data"
    },
    {
     "data": {
      "image/png": "[encoded data removed]",
      "text/plain": [
       "plot without title"
      ]
     },
     "metadata": {},
     "output_type": "display_data"
    }
   ],
   "source": [
    "ggplot(conf2, aes(x = Means)) +\n",
    "    geom_point(aes(x = Means, y = County, #colour = County\n",
    "                  ), size = 0.7) +\n",
    "    geom_errorbarh(aes(xmin = Lower, xmax = Upper, y = County, #colour = County\n",
    "                      )) +\n",
    "    theme_bw() +\n",
    "    theme(legend.position = 'none') + \n",
    "    xlab(\"Arrest Rate\") +\n",
    "    ggtitle(\"County-wide arrest rate and 95% CI, SD = 0.009\")"
   ]
  },
  {
   "cell_type": "markdown",
   "metadata": {},
   "source": [
    "In this plot, I have kept the counties ordered by their search rates, so that we can see how arrest rates are not neccesarily perfectly predicted by the search rate. I found this plot a little surprising, since now counties with lower search rates sometimes have higher arrest rates. But there is definitely a large degree of correlation here, because  the overal structure to the graph seems to be intact. Counties with higher search rates seem to have higher arrest rates, but the structure is not perfect. In fact, there is a curious aspect of the data that explains some of this correlation.\n",
    "\n",
    "Curious note: Fresno has the third highest search rate, but its arrest rate dropped significantly. Mariposa hasn't lost its place with the lowest search *and* arrest rate.\n",
    "\n",
    "We'll see why in a bit. Let's move on to contraband hit rates."
   ]
  },
  {
   "cell_type": "code",
   "execution_count": 15,
   "metadata": {},
   "outputs": [],
   "source": [
    "counties <- c()\n",
    "means <- c()\n",
    "lowerbounds <- c()\n",
    "upperbounds <- c()\n",
    "\n",
    "for (county in unique(aggdata$county_name)) {\n",
    "    \n",
    "    searches <- aggdata[aggdata$county_name == county,]$searches\n",
    "    hits <- aggdata[aggdata$county_name == county,]$hits\n",
    "    \n",
    "    p_hat <- binom.profile(hits, searches, conf.level = 0.95)[, 4]\n",
    "    lower <- binom.profile(hits, searches, conf.level = 0.95)[, 5]\n",
    "    upper <- binom.profile(hits, searches, conf.level = 0.95)[, 6]\n",
    "    \n",
    "    counties <- c(counties, county)\n",
    "    means <- c(means, p_hat)\n",
    "    lowerbounds <- c(lowerbounds, lower)\n",
    "    upperbounds <- c(upperbounds, upper)\n",
    "}\n",
    "\n",
    "conf3 <- data.frame(\"County\" = counties,\n",
    "                             \"Means\" = means,\n",
    "                             \"Lower\" = lowerbounds,\n",
    "                             \"Upper\" = upperbounds)\n",
    "\n",
    "conf3$County <- factor(conf3$County, levels = conf1$County[order(conf1$Means)])"
   ]
  },
  {
   "cell_type": "code",
   "execution_count": 16,
   "metadata": {},
   "outputs": [
    {
     "data": {},
     "metadata": {},
     "output_type": "display_data"
    },
    {
     "data": {
      "image/png": "[encoded data removed]",
      "text/plain": [
       "plot without title"
      ]
     },
     "metadata": {},
     "output_type": "display_data"
    }
   ],
   "source": [
    "options(repr.plot.width=8, repr.plot.height=6)\n",
    "\n",
    "ggplot(conf3, aes(x = Means)) +\n",
    "    geom_point(aes(x = Means, y = County, #colour = County\n",
    "                  ), size = 0.7) +\n",
    "    geom_errorbarh(aes(xmin = Lower, xmax = Upper, y = County, #colour = County\n",
    "                      )) +\n",
    "    theme_bw() +\n",
    "    theme(legend.position = 'none') +\n",
    "    xlab(\"hit rate\") +\n",
    "    ggtitle(\"County wide hit rate and 95% CI\")"
   ]
  },
  {
   "cell_type": "markdown",
   "metadata": {},
   "source": [
    "Again, I have kept the counties ordered by the search rates. We would expect that counties with high search rates would have very high contraband hit rates,but this doesn't seem to be the case. Almost all of the structure from the above two plots is lost here. \n",
    "\n",
    "However, there is something to note: a lot of our contraband data is missing. In fact, we only have contraband data when the search was a result of probable cause or consent, in all other cases, the contraband data is omitted. So these estimates may not be valid, since we don't have information on most of the data. What happens if we only look at searches where contraband data is known?"
   ]
  },
  {
   "cell_type": "code",
   "execution_count": 17,
   "metadata": {},
   "outputs": [
    {
     "data": {
      "text/html": [
       "<table>\n",
       "<thead><tr><th scope=col>county_name</th><th scope=col>stops</th><th scope=col>suspect_dui</th><th scope=col>move_violation</th><th scope=col>searches</th><th scope=col>non_arrest_srch</th><th scope=col>consent</th><th scope=col>probable</th><th scope=col>hits</th><th scope=col>arrests</th><th scope=col>warnings</th><th scope=col>chp215</th><th scope=col>collisions</th><th scope=col>chp281</th><th scope=col>search_rate</th><th scope=col>hit_rate</th><th scope=col>arrest_rate</th><th scope=col>ticket_rate</th><th scope=col>warning_rate</th></tr></thead>\n",
       "<tbody>\n",
       "\t<tr><td>Alameda County  </td><td>1718444         </td><td>67388           </td><td>579399          </td><td>63198           </td><td>28124           </td><td>93              </td><td>1996            </td><td>1305            </td><td>45826           </td><td>282021          </td><td>801185          </td><td>112556          </td><td>46755           </td><td>0.03677629      </td><td>0.02064939      </td><td>0.02666715      </td><td>0.4662270       </td><td>0.1641142       </td></tr>\n",
       "\t<tr><td>Alpine County   </td><td>  91785         </td><td> 3719           </td><td> 48563          </td><td> 2545           </td><td>  654           </td><td>18              </td><td> 195            </td><td> 147            </td><td> 2267           </td><td> 33014          </td><td> 32356          </td><td>  2069          </td><td> 2389           </td><td>0.02772784      </td><td>0.05776031      </td><td>0.02469902      </td><td>0.3525195       </td><td>0.3596884       </td></tr>\n",
       "\t<tr><td>Amador County   </td><td>  87788         </td><td> 1229           </td><td> 38109          </td><td> 1844           </td><td> 1029           </td><td> 2              </td><td> 117            </td><td>  90            </td><td> 1321           </td><td> 16432          </td><td> 30135          </td><td>  2846          </td><td> 5476           </td><td>0.02100515      </td><td>0.04880694      </td><td>0.01504761      </td><td>0.3432702       </td><td>0.1871782       </td></tr>\n",
       "\t<tr><td>Butte County    </td><td> 228030         </td><td> 9224           </td><td>102837          </td><td> 8377           </td><td> 3259           </td><td>16              </td><td> 451            </td><td> 349            </td><td> 6740           </td><td> 54817          </td><td>107794          </td><td> 10041          </td><td> 7026           </td><td>0.03673639      </td><td>0.04166169      </td><td>0.02955751      </td><td>0.4727185       </td><td>0.2403938       </td></tr>\n",
       "\t<tr><td>Calaveras County</td><td>  95447         </td><td> 1771           </td><td> 37810          </td><td> 2395           </td><td>  996           </td><td> 7              </td><td>  67            </td><td>  48            </td><td> 2019           </td><td> 27488          </td><td> 20674          </td><td>  4214          </td><td> 6503           </td><td>0.02509246      </td><td>0.02004175      </td><td>0.02115310      </td><td>0.2166019       </td><td>0.2879923       </td></tr>\n",
       "\t<tr><td>Colusa County   </td><td> 105650         </td><td> 1903           </td><td> 64207          </td><td> 2283           </td><td> 1397           </td><td>15              </td><td> 344            </td><td> 267            </td><td> 1447           </td><td> 19737          </td><td> 54978          </td><td>  2246          </td><td>  601           </td><td>0.02160909      </td><td>0.11695138      </td><td>0.01369617      </td><td>0.5203786       </td><td>0.1868150       </td></tr>\n",
       "</tbody>\n",
       "</table>\n"
      ],
      "text/latex": [
       "\\begin{tabular}{r|lllllllllllllllllll}\n",
       " county\\_name & stops & suspect\\_dui & move\\_violation & searches & non\\_arrest\\_srch & consent & probable & hits & arrests & warnings & chp215 & collisions & chp281 & search\\_rate & hit\\_rate & arrest\\_rate & ticket\\_rate & warning\\_rate\\\\\n",
       "\\hline\n",
       "\t Alameda County   & 1718444          & 67388            & 579399           & 63198            & 28124            & 93               & 1996             & 1305             & 45826            & 282021           & 801185           & 112556           & 46755            & 0.03677629       & 0.02064939       & 0.02666715       & 0.4662270        & 0.1641142       \\\\\n",
       "\t Alpine County    &   91785          &  3719            &  48563           &  2545            &   654            & 18               &  195             &  147             &  2267            &  33014           &  32356           &   2069           &  2389            & 0.02772784       & 0.05776031       & 0.02469902       & 0.3525195        & 0.3596884       \\\\\n",
       "\t Amador County    &   87788          &  1229            &  38109           &  1844            &  1029            &  2               &  117             &   90             &  1321            &  16432           &  30135           &   2846           &  5476            & 0.02100515       & 0.04880694       & 0.01504761       & 0.3432702        & 0.1871782       \\\\\n",
       "\t Butte County     &  228030          &  9224            & 102837           &  8377            &  3259            & 16               &  451             &  349             &  6740            &  54817           & 107794           &  10041           &  7026            & 0.03673639       & 0.04166169       & 0.02955751       & 0.4727185        & 0.2403938       \\\\\n",
       "\t Calaveras County &   95447          &  1771            &  37810           &  2395            &   996            &  7               &   67             &   48             &  2019            &  27488           &  20674           &   4214           &  6503            & 0.02509246       & 0.02004175       & 0.02115310       & 0.2166019        & 0.2879923       \\\\\n",
       "\t Colusa County    &  105650          &  1903            &  64207           &  2283            &  1397            & 15               &  344             &  267             &  1447            &  19737           &  54978           &   2246           &   601            & 0.02160909       & 0.11695138       & 0.01369617       & 0.5203786        & 0.1868150       \\\\\n",
       "\\end{tabular}\n"
      ],
      "text/markdown": [
       "\n",
       "| county_name | stops | suspect_dui | move_violation | searches | non_arrest_srch | consent | probable | hits | arrests | warnings | chp215 | collisions | chp281 | search_rate | hit_rate | arrest_rate | ticket_rate | warning_rate |\n",
       "|---|---|---|---|---|---|---|---|---|---|---|---|---|---|---|---|---|---|---|\n",
       "| Alameda County   | 1718444          | 67388            | 579399           | 63198            | 28124            | 93               | 1996             | 1305             | 45826            | 282021           | 801185           | 112556           | 46755            | 0.03677629       | 0.02064939       | 0.02666715       | 0.4662270        | 0.1641142        |\n",
       "| Alpine County    |   91785          |  3719            |  48563           |  2545            |   654            | 18               |  195             |  147             |  2267            |  33014           |  32356           |   2069           |  2389            | 0.02772784       | 0.05776031       | 0.02469902       | 0.3525195        | 0.3596884        |\n",
       "| Amador County    |   87788          |  1229            |  38109           |  1844            |  1029            |  2               |  117             |   90             |  1321            |  16432           |  30135           |   2846           |  5476            | 0.02100515       | 0.04880694       | 0.01504761       | 0.3432702        | 0.1871782        |\n",
       "| Butte County     |  228030          |  9224            | 102837           |  8377            |  3259            | 16               |  451             |  349             |  6740            |  54817           | 107794           |  10041           |  7026            | 0.03673639       | 0.04166169       | 0.02955751       | 0.4727185        | 0.2403938        |\n",
       "| Calaveras County |   95447          |  1771            |  37810           |  2395            |   996            |  7               |   67             |   48             |  2019            |  27488           |  20674           |   4214           |  6503            | 0.02509246       | 0.02004175       | 0.02115310       | 0.2166019        | 0.2879923        |\n",
       "| Colusa County    |  105650          |  1903            |  64207           |  2283            |  1397            | 15               |  344             |  267             |  1447            |  19737           |  54978           |   2246           |   601            | 0.02160909       | 0.11695138       | 0.01369617       | 0.5203786        | 0.1868150        |\n",
       "\n"
      ],
      "text/plain": [
       "  county_name      stops   suspect_dui move_violation searches non_arrest_srch\n",
       "1 Alameda County   1718444 67388       579399         63198    28124          \n",
       "2 Alpine County      91785  3719        48563          2545      654          \n",
       "3 Amador County      87788  1229        38109          1844     1029          \n",
       "4 Butte County      228030  9224       102837          8377     3259          \n",
       "5 Calaveras County   95447  1771        37810          2395      996          \n",
       "6 Colusa County     105650  1903        64207          2283     1397          \n",
       "  consent probable hits arrests warnings chp215 collisions chp281 search_rate\n",
       "1 93      1996     1305 45826   282021   801185 112556     46755  0.03677629 \n",
       "2 18       195      147  2267    33014    32356   2069      2389  0.02772784 \n",
       "3  2       117       90  1321    16432    30135   2846      5476  0.02100515 \n",
       "4 16       451      349  6740    54817   107794  10041      7026  0.03673639 \n",
       "5  7        67       48  2019    27488    20674   4214      6503  0.02509246 \n",
       "6 15       344      267  1447    19737    54978   2246       601  0.02160909 \n",
       "  hit_rate   arrest_rate ticket_rate warning_rate\n",
       "1 0.02064939 0.02666715  0.4662270   0.1641142   \n",
       "2 0.05776031 0.02469902  0.3525195   0.3596884   \n",
       "3 0.04880694 0.01504761  0.3432702   0.1871782   \n",
       "4 0.04166169 0.02955751  0.4727185   0.2403938   \n",
       "5 0.02004175 0.02115310  0.2166019   0.2879923   \n",
       "6 0.11695138 0.01369617  0.5203786   0.1868150   "
      ]
     },
     "metadata": {},
     "output_type": "display_data"
    }
   ],
   "source": [
    "head(aggdata)"
   ]
  },
  {
   "cell_type": "code",
   "execution_count": 18,
   "metadata": {},
   "outputs": [
    {
     "data": {
      "text/html": [
       "0.109988838138191"
      ],
      "text/latex": [
       "0.109988838138191"
      ],
      "text/markdown": [
       "0.109988838138191"
      ],
      "text/plain": [
       "[1] 0.1099888"
      ]
     },
     "metadata": {},
     "output_type": "display_data"
    }
   ],
   "source": [
    "#add the number of consensual and probable cause searches together\n",
    "#this number is the number of searches for which we have known contraband outcomes\n",
    "aggdata$open_srch <- aggdata$probable + aggdata$consent\n",
    "\n",
    "counties <- c()\n",
    "means <- c()\n",
    "lowerbounds <- c()\n",
    "upperbounds <- c()\n",
    "\n",
    "for (county in unique(aggdata$county_name)) {\n",
    "    \n",
    "    searches <- aggdata[aggdata$county_name == county,]$open_srch\n",
    "    hits <- aggdata[aggdata$county_name == county,]$hits\n",
    "    \n",
    "    p_hat <- binom.profile(hits, searches, conf.level = 0.95)[, 4]\n",
    "    lower <- binom.profile(hits, searches, conf.level = 0.95)[, 5]\n",
    "    upper <- binom.profile(hits, searches, conf.level = 0.95)[, 6]\n",
    "    \n",
    "    counties <- c(counties, county)\n",
    "    means <- c(means, p_hat)\n",
    "    lowerbounds <- c(lowerbounds, lower)\n",
    "    upperbounds <- c(upperbounds, upper)\n",
    "}\n",
    "\n",
    "conf3 <- data.frame(\"County\" = counties,\n",
    "                             \"Means\" = means,\n",
    "                             \"Lower\" = lowerbounds,\n",
    "                             \"Upper\" = upperbounds)\n",
    "\n",
    "conf3$County <- factor(conf3$County, levels = conf3$County[order(conf3$Means)])\n",
    "#standard deviation of estimated means\n",
    "sd(conf3$Means)"
   ]
  },
  {
   "cell_type": "code",
   "execution_count": 19,
   "metadata": {},
   "outputs": [
    {
     "data": {},
     "metadata": {},
     "output_type": "display_data"
    },
    {
     "data": {
      "image/png": "[encoded data removed]",
      "text/plain": [
       "plot without title"
      ]
     },
     "metadata": {},
     "output_type": "display_data"
    }
   ],
   "source": [
    "ggplot(conf3, aes(x = Means)) +\n",
    "    geom_point(aes(x = Means, y = County, #colour = County\n",
    "                  ), size = 0.7) +\n",
    "    geom_errorbarh(aes(xmin = Lower, xmax = Upper, y = County, #colour = County\n",
    "                      )) +\n",
    "    theme_bw() +\n",
    "    theme(legend.position = 'none') +\n",
    "    xlab(\"hit rate\") +\n",
    "    ggtitle(\"County wide hit rate and 95% CI, SD = 0.11\")"
   ]
  },
  {
   "cell_type": "markdown",
   "metadata": {},
   "source": [
    "Note that I've reordered the intervals according to the hit rate (leaving them in the original orders was too messy). So, the first thing to see is that if we only look at probable cause and consensual searches, where the contraband data is actually known, the hit rate is WAY higher. We now have estimates that range between 35% and 85%. The other thing to note is that our error bars are HUGE in some counties. We really don't have a lot of information here, even with the aggregated version of the data, and we can't reliably estimate the hit rate. \n",
    "\n",
    "However, a couple things stand out. *Tulare County*, which had the *highest* search rate, has the third *lowest* hit rate for contraband. Los Angeles also tanked, and is in the bottom 1/4th, while having pretty close to the median search rate. Humbolt county still has a high contraband hit rate, but is still ranked 13th. \n",
    "\n",
    "Mariposa county, which had the *lowest* search rate, has one of the *highest* hit rates, but the estimate is pretty uncertain, with huge error bars. But Inyo county has fairly tight error bars and is ranked 1 on the hit rate, yet was in the bottom 1/4th of the data in terms of search rate.\n",
    "\n",
    "### What is going on?\n",
    "\n",
    "The take away here is that search rates don't seem to be predictive of the contraband hit rate, at least when the officer is working under probable cause or given consent to search. With aggregate data, it's tough to explore this further, but it should probably be noted when we model the data more completely later.\n",
    "\n",
    "So, what's the deal? It's hard to say just yet. But it is certaintly very curious that counties with relatively low search rates (Mariposa, Nevada, Iona) have relatively high contraband hit rates. \n",
    "\n",
    "To get a better idea, why don't we plot some of these data points with a linear smoother (basically a fancy regression line) to get an idea of the overall trends?"
   ]
  },
  {
   "cell_type": "code",
   "execution_count": 20,
   "metadata": {},
   "outputs": [],
   "source": [
    "aggdata$county <- gsub(\"\\\\s*\\\\w*$\", \"\", aggdata$county_name)"
   ]
  },
  {
   "cell_type": "code",
   "execution_count": 21,
   "metadata": {},
   "outputs": [
    {
     "data": {},
     "metadata": {},
     "output_type": "display_data"
    },
    {
     "data": {
      "image/png": "[encoded data removed]",
      "text/plain": [
       "plot without title"
      ]
     },
     "metadata": {},
     "output_type": "display_data"
    }
   ],
   "source": [
    "options(repr.plot.width=4, repr.plot.height=3)\n",
    "ggplot(aggdata, aes(x = search_rate, y = arrest_rate)) +\n",
    "    geom_point() +\n",
    "    geom_smooth(method = 'loess', col= '#F8766D', se = T, fill = 'pink', alpha = 0.40) +\n",
    "    #stat_smooth(method = 'lm') +\n",
    "    #geom_text(aes(label = county), size = 2, check_overlap = T, hjust = 0, nudge_x = 0.001) +\n",
    "    theme_bw() +\n",
    "    xlab(\"Search Rate\") +\n",
    "    ylab(\"Arrest Rate\") +\n",
    "    ggtitle(\"LOESS on Arrest and Search Rates\")"
   ]
  },
  {
   "cell_type": "markdown",
   "metadata": {},
   "source": [
    "So, it looks like we have a pretty good linear correlation between the search rate and arrest rate. Why might that be? Well, while it wasnt shown here (it will be shown in a different note book), some of the searches are actually a *function of the arrests*. In the individual level data, we have a \"search type\" field, and one of those variables is \"Incident to Arrest\". I.e., the cop decided to arrest someone, THEN searched their car. In some sense, we are double counting the data, since we have some searches as a product of arrests, rather than the other way around. We will explore this more later. But the above line is likely not a good indicator of the true relationship.\n",
    "\n",
    "One thing to note: as the search rate increases, the data points have a larger spread on the y-axis, indicating that there is more variance in the response. I.e., higher search rates increases the variability of the arrest rate. It's hard to know what that means for now, but it's something to note. Perhaps high search rates imply a lower standard of evidence?\n",
    "\n",
    "I managed to store the number of searches that were not a product of arrests, it can be seen in the `head` below. This means that the difference between `searches - non_arrest_srch` is equal to the number of arrests that happened first, THEN yielded a search. In some cases, this number is very high. Let's look at the linear smoother between the number of searches that were NOT products of arrest, and the arrests that are a *result* of the searches."
   ]
  },
  {
   "cell_type": "code",
   "execution_count": 22,
   "metadata": {},
   "outputs": [
    {
     "data": {
      "text/html": [
       "<table>\n",
       "<thead><tr><th scope=col>county_name</th><th scope=col>stops</th><th scope=col>suspect_dui</th><th scope=col>move_violation</th><th scope=col>searches</th><th scope=col>non_arrest_srch</th><th scope=col>consent</th><th scope=col>probable</th><th scope=col>hits</th><th scope=col>arrests</th><th scope=col>...</th><th scope=col>chp215</th><th scope=col>collisions</th><th scope=col>chp281</th><th scope=col>search_rate</th><th scope=col>hit_rate</th><th scope=col>arrest_rate</th><th scope=col>ticket_rate</th><th scope=col>warning_rate</th><th scope=col>open_srch</th><th scope=col>county</th></tr></thead>\n",
       "<tbody>\n",
       "\t<tr><td>Alameda County  </td><td>1718444         </td><td>67388           </td><td>579399          </td><td>63198           </td><td>28124           </td><td>93              </td><td>1996            </td><td>1305            </td><td>45826           </td><td>...             </td><td>801185          </td><td>112556          </td><td>46755           </td><td>0.03677629      </td><td>0.02064939      </td><td>0.02666715      </td><td>0.4662270       </td><td>0.1641142       </td><td>2089            </td><td>Alameda         </td></tr>\n",
       "\t<tr><td>Alpine County   </td><td>  91785         </td><td> 3719           </td><td> 48563          </td><td> 2545           </td><td>  654           </td><td>18              </td><td> 195            </td><td> 147            </td><td> 2267           </td><td>...             </td><td> 32356          </td><td>  2069          </td><td> 2389           </td><td>0.02772784      </td><td>0.05776031      </td><td>0.02469902      </td><td>0.3525195       </td><td>0.3596884       </td><td> 213            </td><td>Alpine          </td></tr>\n",
       "\t<tr><td>Amador County   </td><td>  87788         </td><td> 1229           </td><td> 38109          </td><td> 1844           </td><td> 1029           </td><td> 2              </td><td> 117            </td><td>  90            </td><td> 1321           </td><td>...             </td><td> 30135          </td><td>  2846          </td><td> 5476           </td><td>0.02100515      </td><td>0.04880694      </td><td>0.01504761      </td><td>0.3432702       </td><td>0.1871782       </td><td> 119            </td><td>Amador          </td></tr>\n",
       "\t<tr><td>Butte County    </td><td> 228030         </td><td> 9224           </td><td>102837          </td><td> 8377           </td><td> 3259           </td><td>16              </td><td> 451            </td><td> 349            </td><td> 6740           </td><td>...             </td><td>107794          </td><td> 10041          </td><td> 7026           </td><td>0.03673639      </td><td>0.04166169      </td><td>0.02955751      </td><td>0.4727185       </td><td>0.2403938       </td><td> 467            </td><td>Butte           </td></tr>\n",
       "\t<tr><td>Calaveras County</td><td>  95447         </td><td> 1771           </td><td> 37810          </td><td> 2395           </td><td>  996           </td><td> 7              </td><td>  67            </td><td>  48            </td><td> 2019           </td><td>...             </td><td> 20674          </td><td>  4214          </td><td> 6503           </td><td>0.02509246      </td><td>0.02004175      </td><td>0.02115310      </td><td>0.2166019       </td><td>0.2879923       </td><td>  74            </td><td>Calaveras       </td></tr>\n",
       "\t<tr><td>Colusa County   </td><td> 105650         </td><td> 1903           </td><td> 64207          </td><td> 2283           </td><td> 1397           </td><td>15              </td><td> 344            </td><td> 267            </td><td> 1447           </td><td>...             </td><td> 54978          </td><td>  2246          </td><td>  601           </td><td>0.02160909      </td><td>0.11695138      </td><td>0.01369617      </td><td>0.5203786       </td><td>0.1868150       </td><td> 359            </td><td>Colusa          </td></tr>\n",
       "</tbody>\n",
       "</table>\n"
      ],
      "text/latex": [
       "\\begin{tabular}{r|lllllllllllllllllllll}\n",
       " county\\_name & stops & suspect\\_dui & move\\_violation & searches & non\\_arrest\\_srch & consent & probable & hits & arrests & ... & chp215 & collisions & chp281 & search\\_rate & hit\\_rate & arrest\\_rate & ticket\\_rate & warning\\_rate & open\\_srch & county\\\\\n",
       "\\hline\n",
       "\t Alameda County   & 1718444          & 67388            & 579399           & 63198            & 28124            & 93               & 1996             & 1305             & 45826            & ...              & 801185           & 112556           & 46755            & 0.03677629       & 0.02064939       & 0.02666715       & 0.4662270        & 0.1641142        & 2089             & Alameda         \\\\\n",
       "\t Alpine County    &   91785          &  3719            &  48563           &  2545            &   654            & 18               &  195             &  147             &  2267            & ...              &  32356           &   2069           &  2389            & 0.02772784       & 0.05776031       & 0.02469902       & 0.3525195        & 0.3596884        &  213             & Alpine          \\\\\n",
       "\t Amador County    &   87788          &  1229            &  38109           &  1844            &  1029            &  2               &  117             &   90             &  1321            & ...              &  30135           &   2846           &  5476            & 0.02100515       & 0.04880694       & 0.01504761       & 0.3432702        & 0.1871782        &  119             & Amador          \\\\\n",
       "\t Butte County     &  228030          &  9224            & 102837           &  8377            &  3259            & 16               &  451             &  349             &  6740            & ...              & 107794           &  10041           &  7026            & 0.03673639       & 0.04166169       & 0.02955751       & 0.4727185        & 0.2403938        &  467             & Butte           \\\\\n",
       "\t Calaveras County &   95447          &  1771            &  37810           &  2395            &   996            &  7               &   67             &   48             &  2019            & ...              &  20674           &   4214           &  6503            & 0.02509246       & 0.02004175       & 0.02115310       & 0.2166019        & 0.2879923        &   74             & Calaveras       \\\\\n",
       "\t Colusa County    &  105650          &  1903            &  64207           &  2283            &  1397            & 15               &  344             &  267             &  1447            & ...              &  54978           &   2246           &   601            & 0.02160909       & 0.11695138       & 0.01369617       & 0.5203786        & 0.1868150        &  359             & Colusa          \\\\\n",
       "\\end{tabular}\n"
      ],
      "text/markdown": [
       "\n",
       "| county_name | stops | suspect_dui | move_violation | searches | non_arrest_srch | consent | probable | hits | arrests | ... | chp215 | collisions | chp281 | search_rate | hit_rate | arrest_rate | ticket_rate | warning_rate | open_srch | county |\n",
       "|---|---|---|---|---|---|---|---|---|---|---|---|---|---|---|---|---|---|---|---|---|\n",
       "| Alameda County   | 1718444          | 67388            | 579399           | 63198            | 28124            | 93               | 1996             | 1305             | 45826            | ...              | 801185           | 112556           | 46755            | 0.03677629       | 0.02064939       | 0.02666715       | 0.4662270        | 0.1641142        | 2089             | Alameda          |\n",
       "| Alpine County    |   91785          |  3719            |  48563           |  2545            |   654            | 18               |  195             |  147             |  2267            | ...              |  32356           |   2069           |  2389            | 0.02772784       | 0.05776031       | 0.02469902       | 0.3525195        | 0.3596884        |  213             | Alpine           |\n",
       "| Amador County    |   87788          |  1229            |  38109           |  1844            |  1029            |  2               |  117             |   90             |  1321            | ...              |  30135           |   2846           |  5476            | 0.02100515       | 0.04880694       | 0.01504761       | 0.3432702        | 0.1871782        |  119             | Amador           |\n",
       "| Butte County     |  228030          |  9224            | 102837           |  8377            |  3259            | 16               |  451             |  349             |  6740            | ...              | 107794           |  10041           |  7026            | 0.03673639       | 0.04166169       | 0.02955751       | 0.4727185        | 0.2403938        |  467             | Butte            |\n",
       "| Calaveras County |   95447          |  1771            |  37810           |  2395            |   996            |  7               |   67             |   48             |  2019            | ...              |  20674           |   4214           |  6503            | 0.02509246       | 0.02004175       | 0.02115310       | 0.2166019        | 0.2879923        |   74             | Calaveras        |\n",
       "| Colusa County    |  105650          |  1903            |  64207           |  2283            |  1397            | 15               |  344             |  267             |  1447            | ...              |  54978           |   2246           |   601            | 0.02160909       | 0.11695138       | 0.01369617       | 0.5203786        | 0.1868150        |  359             | Colusa           |\n",
       "\n"
      ],
      "text/plain": [
       "  county_name      stops   suspect_dui move_violation searches non_arrest_srch\n",
       "1 Alameda County   1718444 67388       579399         63198    28124          \n",
       "2 Alpine County      91785  3719        48563          2545      654          \n",
       "3 Amador County      87788  1229        38109          1844     1029          \n",
       "4 Butte County      228030  9224       102837          8377     3259          \n",
       "5 Calaveras County   95447  1771        37810          2395      996          \n",
       "6 Colusa County     105650  1903        64207          2283     1397          \n",
       "  consent probable hits arrests ... chp215 collisions chp281 search_rate\n",
       "1 93      1996     1305 45826   ... 801185 112556     46755  0.03677629 \n",
       "2 18       195      147  2267   ...  32356   2069      2389  0.02772784 \n",
       "3  2       117       90  1321   ...  30135   2846      5476  0.02100515 \n",
       "4 16       451      349  6740   ... 107794  10041      7026  0.03673639 \n",
       "5  7        67       48  2019   ...  20674   4214      6503  0.02509246 \n",
       "6 15       344      267  1447   ...  54978   2246       601  0.02160909 \n",
       "  hit_rate   arrest_rate ticket_rate warning_rate open_srch county   \n",
       "1 0.02064939 0.02666715  0.4662270   0.1641142    2089      Alameda  \n",
       "2 0.05776031 0.02469902  0.3525195   0.3596884     213      Alpine   \n",
       "3 0.04880694 0.01504761  0.3432702   0.1871782     119      Amador   \n",
       "4 0.04166169 0.02955751  0.4727185   0.2403938     467      Butte    \n",
       "5 0.02004175 0.02115310  0.2166019   0.2879923      74      Calaveras\n",
       "6 0.11695138 0.01369617  0.5203786   0.1868150     359      Colusa   "
      ]
     },
     "metadata": {},
     "output_type": "display_data"
    }
   ],
   "source": [
    "head(aggdata)"
   ]
  },
  {
   "cell_type": "code",
   "execution_count": 23,
   "metadata": {},
   "outputs": [
    {
     "data": {},
     "metadata": {},
     "output_type": "display_data"
    },
    {
     "data": {
      "image/png": "[encoded data removed]",
      "text/plain": [
       "plot without title"
      ]
     },
     "metadata": {},
     "output_type": "display_data"
    }
   ],
   "source": [
    "#compute arrests that are a result of searches\n",
    "aggdata$arrest_then_search <- aggdata$searches - aggdata$non_arrest_srch\n",
    "aggdata$search_then_arrest <- aggdata$arrests - aggdata$arrest_then_search\n",
    "\n",
    "#compute the rates\n",
    "aggdata$srch_then_arrest_rate <- aggdata$search_then_arrest / aggdata$stops\n",
    "aggdata$nonarrest_srch_rate <- aggdata$non_arrest_srch / aggdata$stops\n",
    "\n",
    "#plot\n",
    "ggplot(aggdata, aes(x = nonarrest_srch_rate, y = srch_then_arrest_rate)) +\n",
    "    geom_point() +\n",
    "    geom_smooth(method = 'loess', col= '#F8766D', fill = 'pink', alpha = 0.40) +\n",
    "    #stat_smooth(method = 'lm') +\n",
    "    #geom_text(aes(label = county), size = 2, check_overlap = T, hjust = 0, nudge_x = 0.001) +\n",
    "    theme_bw() +\n",
    "    xlab(\"Search Rate\") +\n",
    "    ylab(\"Arrest Hit Rate\") +\n",
    "    ggtitle(\"LOESS on Search and Arrest Rates\")"
   ]
  },
  {
   "cell_type": "markdown",
   "metadata": {},
   "source": [
    "Now the data is a lot more murky. We do see some positive trend initially, but then once we cross the search rate of $0.02$, the variance explodes and the smoother arcs downwards. It's tough to know exactly what this means, but it seems to imply that if we think of a search as *leading* to an arrest, then higher search rates may not predict higher arrest rates. In fact, the arrest rates end up pretty low in this light.\n",
    "\n",
    "We can explore this more fully later. Let's look at the contraband hit rates. As we noted before, we shouldn't use the total number of searches and the contraband hits, since we are missing a lot of the contraband data in that case. So, we should use only the searches that were a result of probable cause or consent, as those contraband fields are known."
   ]
  },
  {
   "cell_type": "code",
   "execution_count": 24,
   "metadata": {},
   "outputs": [
    {
     "data": {},
     "metadata": {},
     "output_type": "display_data"
    },
    {
     "data": {
      "image/png": "[encoded data removed]",
      "text/plain": [
       "plot without title"
      ]
     },
     "metadata": {},
     "output_type": "display_data"
    }
   ],
   "source": [
    "#compute the consent + PC search rate\n",
    "aggdata$open_srch_rate <- aggdata$open_srch / aggdata$stops\n",
    "aggdata$open_hit_rate <- aggdata$hits / aggdata$open_srch\n",
    "#plot\n",
    "ggplot(aggdata, aes(x = open_srch_rate, y = open_hit_rate)) +\n",
    "    geom_point() +\n",
    "    geom_smooth(method = 'loess', col= '#F8766D', fill = 'pink', alpha = 0.40) +\n",
    "    #stat_smooth(method = 'lm') +\n",
    "    #geom_text(aes(label = county), size = 2, check_overlap = T, hjust = 0, nudge_x = 0.001) +\n",
    "    theme_bw() +\n",
    "    xlab(\"Search Rate\") +\n",
    "    ylab(\"Contraband Hit Rate\") +\n",
    "    ggtitle(\"LOESS on Search and Hit Rates\")"
   ]
  },
  {
   "cell_type": "markdown",
   "metadata": {},
   "source": [
    "It's tough to know what to make of this plot. It actually looks like a random plotting of points. Let's try a linear regression."
   ]
  },
  {
   "cell_type": "code",
   "execution_count": 25,
   "metadata": {},
   "outputs": [
    {
     "data": {},
     "metadata": {},
     "output_type": "display_data"
    },
    {
     "data": {
      "image/png": "[encoded data removed]",
      "text/plain": [
       "plot without title"
      ]
     },
     "metadata": {},
     "output_type": "display_data"
    }
   ],
   "source": [
    "ggplot(aggdata, aes(x = open_srch_rate, y = open_hit_rate)) +\n",
    "    geom_point() +\n",
    "    geom_smooth(method = 'lm', col= '#F8766D', fill = 'pink', alpha = 0.40) +\n",
    "    #stat_smooth(method = 'lm') +\n",
    "    #geom_text(aes(label = county), size = 2, check_overlap = T, hjust = 0, nudge_x = 0.001) +\n",
    "    theme_bw() +\n",
    "    xlab(\"Search Rate\") +\n",
    "    ylab(\"Contraband Hit Rate\") +\n",
    "    ggtitle(\"LOESS on Search and Hit Rates\")"
   ]
  },
  {
   "cell_type": "markdown",
   "metadata": {},
   "source": [
    "Still no good. It's not clear at all that there is a linear relationship between the search rate and the contraband hit rate. It would be possible to generate a plot like this simply by plotting random points from a heavy tailed distribution, such as a student-t distribution. It *almost* looks like there is some structure, but it's hard to tell. \n",
    "\n",
    "For example, suppose there is actually no relationship at all between $x$ and $y$, then $y$ is not a function of $x$, and we could NOT write $y = b*x + \\epsilon$, where $\\epsilon$ is some random error. There would actually be no relationship. What happens if we take our search rate, and we just randomly generate a \"contraband rate\" using a some probability distribution? The contraband rates *are* clustered, so maybe something like a normal distribution with sufficiently small mean and standard deviation?\n",
    "\n"
   ]
  },
  {
   "cell_type": "code",
   "execution_count": 26,
   "metadata": {},
   "outputs": [
    {
     "data": {
      "text/html": [
       "0.692270015052364"
      ],
      "text/latex": [
       "0.692270015052364"
      ],
      "text/markdown": [
       "0.692270015052364"
      ],
      "text/plain": [
       "[1] 0.69227"
      ]
     },
     "metadata": {},
     "output_type": "display_data"
    }
   ],
   "source": [
    "#mean hit rate\n",
    "mean(aggdata$open_hit_rate)"
   ]
  },
  {
   "cell_type": "code",
   "execution_count": 27,
   "metadata": {},
   "outputs": [
    {
     "data": {
      "text/html": [
       "0.109988838138191"
      ],
      "text/latex": [
       "0.109988838138191"
      ],
      "text/markdown": [
       "0.109988838138191"
      ],
      "text/plain": [
       "[1] 0.1099888"
      ]
     },
     "metadata": {},
     "output_type": "display_data"
    }
   ],
   "source": [
    "#standard deviation of the hit rate\n",
    "sd(aggdata$open_hit_rate)"
   ]
  },
  {
   "cell_type": "markdown",
   "metadata": {},
   "source": [
    "Lets try these values for a mean and standard deviation from a normal distribution."
   ]
  },
  {
   "cell_type": "code",
   "execution_count": 28,
   "metadata": {},
   "outputs": [
    {
     "data": {},
     "metadata": {},
     "output_type": "display_data"
    },
    {
     "data": {
      "image/png": "[encoded data removed]",
      "text/plain": [
       "plot without title"
      ]
     },
     "metadata": {},
     "output_type": "display_data"
    }
   ],
   "source": [
    "#generate random hit rates from a normal distribution\n",
    "set.seed(2)\n",
    "aggdata$sim_contraband <- rnorm(n = 55, mean = 0.69, sd = 0.11)\n",
    "\n",
    "ggplot(aggdata, aes(x = open_srch_rate, y = sim_contraband)) +\n",
    "    geom_point() +\n",
    "    geom_smooth(method = 'lm', col= '#F8766D', fill = 'pink', alpha = 0.40) +\n",
    "    #stat_smooth(method = 'lm') +\n",
    "    #geom_text(aes(label = county), size = 2, check_overlap = T, hjust = 0, nudge_x = 0.001) +\n",
    "    theme_bw() +\n",
    "    xlab(\"Search Rate\") +\n",
    "    ylab(\"Contraband Hit Rate\") +\n",
    "    ggtitle(\"LOESS on Search and Hit Rates\")"
   ]
  },
  {
   "cell_type": "markdown",
   "metadata": {},
   "source": [
    "Look familiar? The only real difference is that the hit rates should be tighter together.\n",
    "\n",
    "What about the estimated parameters from a linear regression line?"
   ]
  },
  {
   "cell_type": "code",
   "execution_count": 29,
   "metadata": {},
   "outputs": [
    {
     "data": {
      "text/plain": [
       "\n",
       "Call:\n",
       "lm(formula = open_hit_rate ~ open_srch_rate, data = aggdata)\n",
       "\n",
       "Residuals:\n",
       "     Min       1Q   Median       3Q      Max \n",
       "-0.41122 -0.04125  0.01636  0.05069  0.22198 \n",
       "\n",
       "Coefficients:\n",
       "               Estimate Std. Error t value Pr(>|t|)    \n",
       "(Intercept)     0.63990    0.02241  28.551  < 2e-16 ***\n",
       "open_srch_rate 25.74200    8.65766   2.973  0.00443 ** \n",
       "---\n",
       "Signif. codes:  0 '***' 0.001 '**' 0.01 '*' 0.05 '.' 0.1 ' ' 1\n",
       "\n",
       "Residual standard error: 0.1028 on 53 degrees of freedom\n",
       "Multiple R-squared:  0.143,\tAdjusted R-squared:  0.1268 \n",
       "F-statistic: 8.841 on 1 and 53 DF,  p-value: 0.004425\n"
      ]
     },
     "metadata": {},
     "output_type": "display_data"
    }
   ],
   "source": [
    "summary(lm(open_hit_rate ~ open_srch_rate, data = aggdata))"
   ]
  },
  {
   "cell_type": "code",
   "execution_count": 30,
   "metadata": {},
   "outputs": [
    {
     "data": {
      "text/plain": [
       "\n",
       "Call:\n",
       "lm(formula = sim_contraband ~ open_srch_rate, data = aggdata)\n",
       "\n",
       "Residuals:\n",
       "      Min        1Q    Median        3Q       Max \n",
       "-0.276219 -0.064308 -0.009425  0.055787  0.235313 \n",
       "\n",
       "Coefficients:\n",
       "               Estimate Std. Error t value Pr(>|t|)    \n",
       "(Intercept)     0.64884    0.02624  24.723   <2e-16 ***\n",
       "open_srch_rate 24.50755   10.13787   2.417   0.0191 *  \n",
       "---\n",
       "Signif. codes:  0 '***' 0.001 '**' 0.01 '*' 0.05 '.' 0.1 ' ' 1\n",
       "\n",
       "Residual standard error: 0.1204 on 53 degrees of freedom\n",
       "Multiple R-squared:  0.09931,\tAdjusted R-squared:  0.08232 \n",
       "F-statistic: 5.844 on 1 and 53 DF,  p-value: 0.0191\n"
      ]
     },
     "metadata": {},
     "output_type": "display_data"
    }
   ],
   "source": [
    "summary(lm(sim_contraband ~ open_srch_rate, data = aggdata))"
   ]
  },
  {
   "cell_type": "markdown",
   "metadata": {},
   "source": [
    "We get almost identical coefficients for the search rate (denoted `open_srch_rate`) in the two printout summarys, though with slightly different p-values (a result of the tighter clustering in the acutal data).\n",
    "\n",
    "In reality, contraband hit rate might be related to the search rate in some way, but presently we aren't sure. The main thing to note is that generating *a completely random set of points* creates a scatter plot that looks remarkably similar to our current one. If we wanted to be fancy, we could probably use a mix of normal distributions and likely create a plot that was almost identical.\n",
    "\n",
    "While I don't think that the contraband hit rate is spurious, after all, a sentient agent is deciding to conduct the search in order to find contraband. But the issue is that, if cops were perfect, or even very good at deciding who has contraband or doesnt, we should see a stronger relationship between the search rate and the hit rate. After all, a search would only be conducted in the face of sufficient evidence that contraband is present, but here we managed to recreate our plot with random point generation, so something is amiss.\n",
    "\n",
    "Clearly, our current model is too simplistic to really get to the heart of the issue, but it does indicate that we should look deeper. We'll do this next when we actually begin modeling the data using more sophisticated techniques.\n",
    "\n",
    "## Conclusion:\n",
    "\n",
    "The counties appear to be fairly heterogeneous in their search, hit, and arrest rates. Tickets, warnings, and other metrics were not explored here but likely will be in a future notebook, or an updated of this notebook. Visual inspection of estimated search, arrest, and hit rates indicates that county level correlation between stop outcomes should not be ignored, but we'll assess this more formally in a different notebook. Counties with high search rates did not always have a high arrest rate, and often did not have a high contraband hit rate, when looking at searches conducted out of probable cause or consent. To really assess this relationship, a more complex model is needed.\n",
    "\n",
    "There appears to be a relationship between search and arrest rates, but the relationship between search and contraband rates is less clear. In fact, randomly generated points can mimic the linear regression line and provide an almost identical estimated slope. \n",
    "\n",
    "All analysis was conducted on the aggregated data, ignoring possible systemtic differences in racial outcomes. The next round of analysis will begin to analyze these differences more formally.\n"
   ]
  }
 ],
 "metadata": {
  "kernelspec": {
   "display_name": "R",
   "language": "R",
   "name": "ir"
  },
  "language_info": {
   "codemirror_mode": "r",
   "file_extension": ".r",
   "mimetype": "text/x-r-source",
   "name": "R",
   "pygments_lexer": "r",
   "version": "3.5.1"
  }
 },
 "nbformat": 4,
 "nbformat_minor": 2
}
