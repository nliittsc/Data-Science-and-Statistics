{
 "cells": [
  {
   "cell_type": "markdown",
   "metadata": {},
   "source": [
    "# Preprocessing\n",
    "\n",
    "This notebook is just to make clear my procedure for processing the data. Since the California data set is around 33 million data points, it is too large to work with directly for computational reasons. However, there is also the issue that a lot of statistical tests and standard error estimates become meaningless at that level of data. In a prior notebook, I took a stratified subsample of the data which will be used for modelling purposes.\n",
    "\n",
    "### The data\n",
    "The data consist of, beyond a stratified subsample of the original traffic stop data, census level data of california and its counties. Our business here is to add county-level predictors to the data and then export that data out as a `.csv` so we have more information with which we can model. The traffic stop data begins in 2009 and ends in 2016. \n",
    "\n",
    "All data will be uploaded to Github for verification but the county level data may be obtained here:\n",
    "\n",
    "http://www.dof.ca.gov/Forecasting/Demographics/Projections/\n",
    "\n",
    "and\n",
    "\n",
    "https://data.ca.gov/dataset/california-population-projection-county-age-gender-and-ethnicity\n",
    "\n",
    "The data is estimated up to the current year, with projections beyond that. It is essentially \"as is\". The only modification I made was to the demographics data - it was an excel file and I had to simply reshape so that it would read in nicely."
   ]
  },
  {
   "cell_type": "code",
   "execution_count": 1,
   "metadata": {},
   "outputs": [
    {
     "name": "stderr",
     "output_type": "stream",
     "text": [
      "Warning message:\n",
      "\"package 'dplyr' was built under R version 3.5.2\"\n",
      "Attaching package: 'dplyr'\n",
      "\n",
      "The following objects are masked from 'package:stats':\n",
      "\n",
      "    filter, lag\n",
      "\n",
      "The following objects are masked from 'package:base':\n",
      "\n",
      "    intersect, setdiff, setequal, union\n",
      "\n",
      "Warning message:\n",
      "\"package 'ggplot2' was built under R version 3.5.2\""
     ]
    }
   ],
   "source": [
    "library(dplyr)\n",
    "library(ggplot2)"
   ]
  },
  {
   "cell_type": "code",
   "execution_count": 2,
   "metadata": {},
   "outputs": [],
   "source": [
    "f <- 'stratifiedSample.csv'\n",
    "train <- read.csv(f)\n",
    "\n",
    "#We actually don't use this particular file at all, but it's nice to have I suppose.\n",
    "f <- 'population.csv'\n",
    "pop_data <- read.csv(f)\n",
    "\n",
    "f <- 'CAdemographics.csv'\n",
    "demo_data <-  read.csv(f, stringsAsFactors = F)\n",
    "\n"
   ]
  },
  {
   "cell_type": "markdown",
   "metadata": {},
   "source": [
    "The individual level california stop data. It has been stratified so that the sub sample is in proportion to the original. While it is much smaller than the original data (around 4% of the original), we are still in excess of a million data points, so we shouldn't lose too much information. The reason for this is mainly computational - most packages in `R` simply cannot account for that volume of data. Under some assumptions, the estimates from the subsample shouldn't be drastically different than if we had estimated on the entire data set."
   ]
  },
  {
   "cell_type": "code",
   "execution_count": 3,
   "metadata": {},
   "outputs": [
    {
     "data": {
      "text/html": [
       "<table>\n",
       "<thead><tr><th scope=col>X</th><th scope=col>stop_date</th><th scope=col>county_name</th><th scope=col>driver_gender</th><th scope=col>driver_age_raw</th><th scope=col>driver_race</th><th scope=col>violation_raw</th><th scope=col>search_conducted</th><th scope=col>search_type</th><th scope=col>contraband_found</th><th scope=col>stop_outcome</th><th scope=col>is_arrested</th><th scope=col>count</th><th scope=col>year</th><th scope=col>month</th><th scope=col>year_c</th></tr></thead>\n",
       "<tbody>\n",
       "\t<tr><td>1                                     </td><td>Jul 2009                              </td><td>San Diego County                      </td><td>1                                     </td><td>33-39                                 </td><td>Hispanic                              </td><td>Moving Violation (VC)                 </td><td>0                                     </td><td>NA                                    </td><td>0                                     </td><td>CHP 215                               </td><td>0                                     </td><td>1                                     </td><td>2009                                  </td><td>7                                     </td><td>0                                     </td></tr>\n",
       "\t<tr><td>2                                     </td><td>Jul 2009                              </td><td>Shasta County                         </td><td>1                                     </td><td>49+                                   </td><td>White                                 </td><td>Motorist/Public Service               </td><td>0                                     </td><td>NA                                    </td><td>0                                     </td><td>Motorist/Public Service               </td><td>0                                     </td><td>1                                     </td><td>2009                                  </td><td>7                                     </td><td>0                                     </td></tr>\n",
       "\t<tr><td>3                                     </td><td>Jul 2009                              </td><td>Shasta County                         </td><td>1                                     </td><td>25-32                                 </td><td>White                                 </td><td>Moving Violation (VC)                 </td><td>0                                     </td><td>NA                                    </td><td>0                                     </td><td>CHP 215                               </td><td>0                                     </td><td>1                                     </td><td>2009                                  </td><td>7                                     </td><td>0                                     </td></tr>\n",
       "\t<tr><td>4                                     </td><td>Jul 2009                              </td><td>Shasta County                         </td><td>1                                     </td><td>15-25                                 </td><td>White                                 </td><td>Moving Violation (VC)                 </td><td>0                                     </td><td>NA                                    </td><td>0                                     </td><td>CHP 215                               </td><td>0                                     </td><td>1                                     </td><td>2009                                  </td><td>7                                     </td><td>0                                     </td></tr>\n",
       "\t<tr><td>5                                     </td><td>Jul 2009                              </td><td>Mariposa County                       </td><td>0                                     </td><td>40-48                                 </td><td>White                                 </td><td>Moving Violation (VC)                 </td><td>0                                     </td><td>NA                                    </td><td>0                                     </td><td>CHP 215                               </td><td>0                                     </td><td>1                                     </td><td>2009                                  </td><td>7                                     </td><td>0                                     </td></tr>\n",
       "\t<tr><td>6                                     </td><td>Jul 2009                              </td><td>Los Angeles County                    </td><td>0                                     </td><td>25-32                                 </td><td>Black                                 </td><td>Mechanical or Nonmoving Violation (VC)</td><td>0                                     </td><td>NA                                    </td><td>0                                     </td><td>CHP 215                               </td><td>0                                     </td><td>1                                     </td><td>2009                                  </td><td>7                                     </td><td>0                                     </td></tr>\n",
       "</tbody>\n",
       "</table>\n"
      ],
      "text/latex": [
       "\\begin{tabular}{r|llllllllllllllll}\n",
       " X & stop\\_date & county\\_name & driver\\_gender & driver\\_age\\_raw & driver\\_race & violation\\_raw & search\\_conducted & search\\_type & contraband\\_found & stop\\_outcome & is\\_arrested & count & year & month & year\\_c\\\\\n",
       "\\hline\n",
       "\t 1                                      & Jul 2009                               & San Diego County                       & 1                                      & 33-39                                  & Hispanic                               & Moving Violation (VC)                  & 0                                      & NA                                     & 0                                      & CHP 215                                & 0                                      & 1                                      & 2009                                   & 7                                      & 0                                     \\\\\n",
       "\t 2                                      & Jul 2009                               & Shasta County                          & 1                                      & 49+                                    & White                                  & Motorist/Public Service                & 0                                      & NA                                     & 0                                      & Motorist/Public Service                & 0                                      & 1                                      & 2009                                   & 7                                      & 0                                     \\\\\n",
       "\t 3                                      & Jul 2009                               & Shasta County                          & 1                                      & 25-32                                  & White                                  & Moving Violation (VC)                  & 0                                      & NA                                     & 0                                      & CHP 215                                & 0                                      & 1                                      & 2009                                   & 7                                      & 0                                     \\\\\n",
       "\t 4                                      & Jul 2009                               & Shasta County                          & 1                                      & 15-25                                  & White                                  & Moving Violation (VC)                  & 0                                      & NA                                     & 0                                      & CHP 215                                & 0                                      & 1                                      & 2009                                   & 7                                      & 0                                     \\\\\n",
       "\t 5                                      & Jul 2009                               & Mariposa County                        & 0                                      & 40-48                                  & White                                  & Moving Violation (VC)                  & 0                                      & NA                                     & 0                                      & CHP 215                                & 0                                      & 1                                      & 2009                                   & 7                                      & 0                                     \\\\\n",
       "\t 6                                      & Jul 2009                               & Los Angeles County                     & 0                                      & 25-32                                  & Black                                  & Mechanical or Nonmoving Violation (VC) & 0                                      & NA                                     & 0                                      & CHP 215                                & 0                                      & 1                                      & 2009                                   & 7                                      & 0                                     \\\\\n",
       "\\end{tabular}\n"
      ],
      "text/markdown": [
       "\n",
       "| X | stop_date | county_name | driver_gender | driver_age_raw | driver_race | violation_raw | search_conducted | search_type | contraband_found | stop_outcome | is_arrested | count | year | month | year_c |\n",
       "|---|---|---|---|---|---|---|---|---|---|---|---|---|---|---|---|\n",
       "| 1                                      | Jul 2009                               | San Diego County                       | 1                                      | 33-39                                  | Hispanic                               | Moving Violation (VC)                  | 0                                      | NA                                     | 0                                      | CHP 215                                | 0                                      | 1                                      | 2009                                   | 7                                      | 0                                      |\n",
       "| 2                                      | Jul 2009                               | Shasta County                          | 1                                      | 49+                                    | White                                  | Motorist/Public Service                | 0                                      | NA                                     | 0                                      | Motorist/Public Service                | 0                                      | 1                                      | 2009                                   | 7                                      | 0                                      |\n",
       "| 3                                      | Jul 2009                               | Shasta County                          | 1                                      | 25-32                                  | White                                  | Moving Violation (VC)                  | 0                                      | NA                                     | 0                                      | CHP 215                                | 0                                      | 1                                      | 2009                                   | 7                                      | 0                                      |\n",
       "| 4                                      | Jul 2009                               | Shasta County                          | 1                                      | 15-25                                  | White                                  | Moving Violation (VC)                  | 0                                      | NA                                     | 0                                      | CHP 215                                | 0                                      | 1                                      | 2009                                   | 7                                      | 0                                      |\n",
       "| 5                                      | Jul 2009                               | Mariposa County                        | 0                                      | 40-48                                  | White                                  | Moving Violation (VC)                  | 0                                      | NA                                     | 0                                      | CHP 215                                | 0                                      | 1                                      | 2009                                   | 7                                      | 0                                      |\n",
       "| 6                                      | Jul 2009                               | Los Angeles County                     | 0                                      | 25-32                                  | Black                                  | Mechanical or Nonmoving Violation (VC) | 0                                      | NA                                     | 0                                      | CHP 215                                | 0                                      | 1                                      | 2009                                   | 7                                      | 0                                      |\n",
       "\n"
      ],
      "text/plain": [
       "  X stop_date county_name        driver_gender driver_age_raw driver_race\n",
       "1 1 Jul 2009  San Diego County   1             33-39          Hispanic   \n",
       "2 2 Jul 2009  Shasta County      1             49+            White      \n",
       "3 3 Jul 2009  Shasta County      1             25-32          White      \n",
       "4 4 Jul 2009  Shasta County      1             15-25          White      \n",
       "5 5 Jul 2009  Mariposa County    0             40-48          White      \n",
       "6 6 Jul 2009  Los Angeles County 0             25-32          Black      \n",
       "  violation_raw                          search_conducted search_type\n",
       "1 Moving Violation (VC)                  0                NA         \n",
       "2 Motorist/Public Service                0                NA         \n",
       "3 Moving Violation (VC)                  0                NA         \n",
       "4 Moving Violation (VC)                  0                NA         \n",
       "5 Moving Violation (VC)                  0                NA         \n",
       "6 Mechanical or Nonmoving Violation (VC) 0                NA         \n",
       "  contraband_found stop_outcome            is_arrested count year month year_c\n",
       "1 0                CHP 215                 0           1     2009 7     0     \n",
       "2 0                Motorist/Public Service 0           1     2009 7     0     \n",
       "3 0                CHP 215                 0           1     2009 7     0     \n",
       "4 0                CHP 215                 0           1     2009 7     0     \n",
       "5 0                CHP 215                 0           1     2009 7     0     \n",
       "6 0                CHP 215                 0           1     2009 7     0     "
      ]
     },
     "metadata": {},
     "output_type": "display_data"
    }
   ],
   "source": [
    "head(train)"
   ]
  },
  {
   "cell_type": "markdown",
   "metadata": {},
   "source": [
    "This just consists of some population data for each county in California. We are interested primarily in two things from here: the proportion of the total population each county makes up, and the proportion of traffic stops we have in relation to the county populations. I.e., are there counties over represented in our data?"
   ]
  },
  {
   "cell_type": "code",
   "execution_count": 4,
   "metadata": {},
   "outputs": [
    {
     "data": {
      "text/html": [
       "<table>\n",
       "<thead><tr><th scope=col>fips</th><th scope=col>county</th><th scope=col>year</th><th scope=col>age</th><th scope=col>pop_female</th><th scope=col>pop_male</th><th scope=col>pop_total</th></tr></thead>\n",
       "<tbody>\n",
       "\t<tr><td>6001   </td><td>ALAMEDA</td><td>1970   </td><td>0      </td><td>8533   </td><td>8671   </td><td>17204  </td></tr>\n",
       "\t<tr><td>6001   </td><td>ALAMEDA</td><td>1970   </td><td>1      </td><td>8151   </td><td>8252   </td><td>16403  </td></tr>\n",
       "\t<tr><td>6001   </td><td>ALAMEDA</td><td>1970   </td><td>2      </td><td>7753   </td><td>8015   </td><td>15768  </td></tr>\n",
       "\t<tr><td>6001   </td><td>ALAMEDA</td><td>1970   </td><td>3      </td><td>8018   </td><td>8412   </td><td>16430  </td></tr>\n",
       "\t<tr><td>6001   </td><td>ALAMEDA</td><td>1970   </td><td>4      </td><td>8551   </td><td>8648   </td><td>17199  </td></tr>\n",
       "\t<tr><td>6001   </td><td>ALAMEDA</td><td>1970   </td><td>5      </td><td>9012   </td><td>9208   </td><td>18220  </td></tr>\n",
       "</tbody>\n",
       "</table>\n"
      ],
      "text/latex": [
       "\\begin{tabular}{r|lllllll}\n",
       " fips & county & year & age & pop\\_female & pop\\_male & pop\\_total\\\\\n",
       "\\hline\n",
       "\t 6001    & ALAMEDA & 1970    & 0       & 8533    & 8671    & 17204  \\\\\n",
       "\t 6001    & ALAMEDA & 1970    & 1       & 8151    & 8252    & 16403  \\\\\n",
       "\t 6001    & ALAMEDA & 1970    & 2       & 7753    & 8015    & 15768  \\\\\n",
       "\t 6001    & ALAMEDA & 1970    & 3       & 8018    & 8412    & 16430  \\\\\n",
       "\t 6001    & ALAMEDA & 1970    & 4       & 8551    & 8648    & 17199  \\\\\n",
       "\t 6001    & ALAMEDA & 1970    & 5       & 9012    & 9208    & 18220  \\\\\n",
       "\\end{tabular}\n"
      ],
      "text/markdown": [
       "\n",
       "| fips | county | year | age | pop_female | pop_male | pop_total |\n",
       "|---|---|---|---|---|---|---|\n",
       "| 6001    | ALAMEDA | 1970    | 0       | 8533    | 8671    | 17204   |\n",
       "| 6001    | ALAMEDA | 1970    | 1       | 8151    | 8252    | 16403   |\n",
       "| 6001    | ALAMEDA | 1970    | 2       | 7753    | 8015    | 15768   |\n",
       "| 6001    | ALAMEDA | 1970    | 3       | 8018    | 8412    | 16430   |\n",
       "| 6001    | ALAMEDA | 1970    | 4       | 8551    | 8648    | 17199   |\n",
       "| 6001    | ALAMEDA | 1970    | 5       | 9012    | 9208    | 18220   |\n",
       "\n"
      ],
      "text/plain": [
       "  fips county  year age pop_female pop_male pop_total\n",
       "1 6001 ALAMEDA 1970 0   8533       8671     17204    \n",
       "2 6001 ALAMEDA 1970 1   8151       8252     16403    \n",
       "3 6001 ALAMEDA 1970 2   7753       8015     15768    \n",
       "4 6001 ALAMEDA 1970 3   8018       8412     16430    \n",
       "5 6001 ALAMEDA 1970 4   8551       8648     17199    \n",
       "6 6001 ALAMEDA 1970 5   9012       9208     18220    "
      ]
     },
     "metadata": {},
     "output_type": "display_data"
    }
   ],
   "source": [
    "head(pop_data)"
   ]
  },
  {
   "cell_type": "code",
   "execution_count": 5,
   "metadata": {},
   "outputs": [
    {
     "data": {
      "text/html": [
       "<table>\n",
       "<thead><tr><th scope=col>County</th><th scope=col>Race</th><th scope=col>X2010</th><th scope=col>X2011</th><th scope=col>X2012</th><th scope=col>X2013</th><th scope=col>X2014</th><th scope=col>X2015</th><th scope=col>X2016</th><th scope=col>X2017</th><th scope=col>...</th><th scope=col>X2051</th><th scope=col>X2052</th><th scope=col>X2053</th><th scope=col>X2054</th><th scope=col>X2055</th><th scope=col>X2056</th><th scope=col>X2057</th><th scope=col>X2058</th><th scope=col>X2059</th><th scope=col>X2060</th></tr></thead>\n",
       "<tbody>\n",
       "\t<tr><td>Alameda County      </td><td>White (Non-Hispanic)</td><td>518930              </td><td>520584              </td><td>525521              </td><td>529819              </td><td>535908              </td><td>540150              </td><td>542669              </td><td>544721              </td><td>...                 </td><td>662269              </td><td>665732              </td><td>669384              </td><td>673244              </td><td>677058              </td><td>681318              </td><td>685690              </td><td>690083              </td><td>694571              </td><td>699114              </td></tr>\n",
       "\t<tr><td>Alameda County      </td><td>Black (Non-Hispanic)</td><td>185086              </td><td>184967              </td><td>185536              </td><td>186106              </td><td>187037              </td><td>187229              </td><td>186639              </td><td>186372              </td><td>...                 </td><td>183564              </td><td>183103              </td><td>182583              </td><td>182020              </td><td>181544              </td><td>180988              </td><td>180589              </td><td>180131              </td><td>179750              </td><td>179308              </td></tr>\n",
       "\t<tr><td>Alameda County      </td><td>AIAN (Non-Hispanic) </td><td>  4190              </td><td>  4262              </td><td>  4330              </td><td>  4404              </td><td>  4485              </td><td>  4567              </td><td>  4627              </td><td>  4733              </td><td>...                 </td><td>  7210              </td><td>  7253              </td><td>  7327              </td><td>  7379              </td><td>  7451              </td><td>  7502              </td><td>  7577              </td><td>  7624              </td><td>  7688              </td><td>  7797              </td></tr>\n",
       "\t<tr><td>Alameda County      </td><td>Asian (Non-Hispanic)</td><td>396745              </td><td>404090              </td><td>412295              </td><td>420454              </td><td>428974              </td><td>437425              </td><td>444880              </td><td>450400              </td><td>...                 </td><td>632260              </td><td>635438              </td><td>638817              </td><td>641838              </td><td>644653              </td><td>647369              </td><td>650079              </td><td>652805              </td><td>655391              </td><td>657809              </td></tr>\n",
       "\t<tr><td>Alameda County      </td><td>NHPI (Non-Hispanic) </td><td> 12357              </td><td> 12582              </td><td> 12848              </td><td> 13090              </td><td> 13316              </td><td> 13577              </td><td> 13762              </td><td> 13901              </td><td>...                 </td><td> 18754              </td><td> 18852              </td><td> 18881              </td><td> 18957              </td><td> 19044              </td><td> 19102              </td><td> 19119              </td><td> 19170              </td><td> 19241              </td><td> 19276              </td></tr>\n",
       "\t<tr><td>Alameda County      </td><td>MR (Non-Hispanic)   </td><td> 57045              </td><td> 58192              </td><td> 59642              </td><td> 61066              </td><td> 62560              </td><td> 63726              </td><td> 64765              </td><td> 65868              </td><td>...                 </td><td>110303              </td><td>111513              </td><td>112571              </td><td>113784              </td><td>114904              </td><td>116028              </td><td>117264              </td><td>118353              </td><td>119587              </td><td>120499              </td></tr>\n",
       "</tbody>\n",
       "</table>\n"
      ],
      "text/latex": [
       "\\begin{tabular}{r|lllllllllllllllllllllllllllllllllllllllllllllllllllll}\n",
       " County & Race & X2010 & X2011 & X2012 & X2013 & X2014 & X2015 & X2016 & X2017 & ... & X2051 & X2052 & X2053 & X2054 & X2055 & X2056 & X2057 & X2058 & X2059 & X2060\\\\\n",
       "\\hline\n",
       "\t Alameda County       & White (Non-Hispanic) & 518930               & 520584               & 525521               & 529819               & 535908               & 540150               & 542669               & 544721               & ...                  & 662269               & 665732               & 669384               & 673244               & 677058               & 681318               & 685690               & 690083               & 694571               & 699114              \\\\\n",
       "\t Alameda County       & Black (Non-Hispanic) & 185086               & 184967               & 185536               & 186106               & 187037               & 187229               & 186639               & 186372               & ...                  & 183564               & 183103               & 182583               & 182020               & 181544               & 180988               & 180589               & 180131               & 179750               & 179308              \\\\\n",
       "\t Alameda County       & AIAN (Non-Hispanic)  &   4190               &   4262               &   4330               &   4404               &   4485               &   4567               &   4627               &   4733               & ...                  &   7210               &   7253               &   7327               &   7379               &   7451               &   7502               &   7577               &   7624               &   7688               &   7797              \\\\\n",
       "\t Alameda County       & Asian (Non-Hispanic) & 396745               & 404090               & 412295               & 420454               & 428974               & 437425               & 444880               & 450400               & ...                  & 632260               & 635438               & 638817               & 641838               & 644653               & 647369               & 650079               & 652805               & 655391               & 657809              \\\\\n",
       "\t Alameda County       & NHPI (Non-Hispanic)  &  12357               &  12582               &  12848               &  13090               &  13316               &  13577               &  13762               &  13901               & ...                  &  18754               &  18852               &  18881               &  18957               &  19044               &  19102               &  19119               &  19170               &  19241               &  19276              \\\\\n",
       "\t Alameda County       & MR (Non-Hispanic)    &  57045               &  58192               &  59642               &  61066               &  62560               &  63726               &  64765               &  65868               & ...                  & 110303               & 111513               & 112571               & 113784               & 114904               & 116028               & 117264               & 118353               & 119587               & 120499              \\\\\n",
       "\\end{tabular}\n"
      ],
      "text/markdown": [
       "\n",
       "| County | Race | X2010 | X2011 | X2012 | X2013 | X2014 | X2015 | X2016 | X2017 | ... | X2051 | X2052 | X2053 | X2054 | X2055 | X2056 | X2057 | X2058 | X2059 | X2060 |\n",
       "|---|---|---|---|---|---|---|---|---|---|---|---|---|---|---|---|---|---|---|---|---|\n",
       "| Alameda County       | White (Non-Hispanic) | 518930               | 520584               | 525521               | 529819               | 535908               | 540150               | 542669               | 544721               | ...                  | 662269               | 665732               | 669384               | 673244               | 677058               | 681318               | 685690               | 690083               | 694571               | 699114               |\n",
       "| Alameda County       | Black (Non-Hispanic) | 185086               | 184967               | 185536               | 186106               | 187037               | 187229               | 186639               | 186372               | ...                  | 183564               | 183103               | 182583               | 182020               | 181544               | 180988               | 180589               | 180131               | 179750               | 179308               |\n",
       "| Alameda County       | AIAN (Non-Hispanic)  |   4190               |   4262               |   4330               |   4404               |   4485               |   4567               |   4627               |   4733               | ...                  |   7210               |   7253               |   7327               |   7379               |   7451               |   7502               |   7577               |   7624               |   7688               |   7797               |\n",
       "| Alameda County       | Asian (Non-Hispanic) | 396745               | 404090               | 412295               | 420454               | 428974               | 437425               | 444880               | 450400               | ...                  | 632260               | 635438               | 638817               | 641838               | 644653               | 647369               | 650079               | 652805               | 655391               | 657809               |\n",
       "| Alameda County       | NHPI (Non-Hispanic)  |  12357               |  12582               |  12848               |  13090               |  13316               |  13577               |  13762               |  13901               | ...                  |  18754               |  18852               |  18881               |  18957               |  19044               |  19102               |  19119               |  19170               |  19241               |  19276               |\n",
       "| Alameda County       | MR (Non-Hispanic)    |  57045               |  58192               |  59642               |  61066               |  62560               |  63726               |  64765               |  65868               | ...                  | 110303               | 111513               | 112571               | 113784               | 114904               | 116028               | 117264               | 118353               | 119587               | 120499               |\n",
       "\n"
      ],
      "text/plain": [
       "  County         Race                 X2010  X2011  X2012  X2013  X2014  X2015 \n",
       "1 Alameda County White (Non-Hispanic) 518930 520584 525521 529819 535908 540150\n",
       "2 Alameda County Black (Non-Hispanic) 185086 184967 185536 186106 187037 187229\n",
       "3 Alameda County AIAN (Non-Hispanic)    4190   4262   4330   4404   4485   4567\n",
       "4 Alameda County Asian (Non-Hispanic) 396745 404090 412295 420454 428974 437425\n",
       "5 Alameda County NHPI (Non-Hispanic)   12357  12582  12848  13090  13316  13577\n",
       "6 Alameda County MR (Non-Hispanic)     57045  58192  59642  61066  62560  63726\n",
       "  X2016  X2017  ... X2051  X2052  X2053  X2054  X2055  X2056  X2057  X2058 \n",
       "1 542669 544721 ... 662269 665732 669384 673244 677058 681318 685690 690083\n",
       "2 186639 186372 ... 183564 183103 182583 182020 181544 180988 180589 180131\n",
       "3   4627   4733 ...   7210   7253   7327   7379   7451   7502   7577   7624\n",
       "4 444880 450400 ... 632260 635438 638817 641838 644653 647369 650079 652805\n",
       "5  13762  13901 ...  18754  18852  18881  18957  19044  19102  19119  19170\n",
       "6  64765  65868 ... 110303 111513 112571 113784 114904 116028 117264 118353\n",
       "  X2059  X2060 \n",
       "1 694571 699114\n",
       "2 179750 179308\n",
       "3   7688   7797\n",
       "4 655391 657809\n",
       "5  19241  19276\n",
       "6 119587 120499"
      ]
     },
     "metadata": {},
     "output_type": "display_data"
    }
   ],
   "source": [
    "head(demo_data)"
   ]
  },
  {
   "cell_type": "markdown",
   "metadata": {},
   "source": [
    "Let's add some county level predictors to California. \n",
    "\n",
    "We will do this simply by aggregating the population and demographics data so that it matches the time and county of our traffic stop data, then add new columns to the traffics stop data. We will add total population of each county, stratified by year, sex, and ethnicity. The raw numbers will be useful later, but for the model building, we will convert these to proportions later. Since we want to stay restricted to the driving ages within out data, we wont include anyone younger than 15 years old. To get the demographic estimates, we will find the proportion of each race in the county, and simply multiply that proportion with our driving age population. This will serve as an estimator for the driving population in that county."
   ]
  },
  {
   "cell_type": "markdown",
   "metadata": {},
   "source": [
    "First, just group the population data up by so that we get a female, male and total population for each year, in each county."
   ]
  },
  {
   "cell_type": "code",
   "execution_count": 6,
   "metadata": {},
   "outputs": [
    {
     "name": "stderr",
     "output_type": "stream",
     "text": [
      "Warning message:\n",
      "\"package 'bindrcpp' was built under R version 3.5.2\""
     ]
    },
    {
     "data": {
      "text/html": [
       "<table>\n",
       "<thead><tr><th scope=col>County</th><th scope=col>pop2010</th><th scope=col>pop2011</th><th scope=col>pop2012</th><th scope=col>pop2013</th><th scope=col>pop2014</th><th scope=col>pop2015</th><th scope=col>pop2016</th></tr></thead>\n",
       "<tbody>\n",
       "\t<tr><td>Alameda County  </td><td>1515354         </td><td>1532186         </td><td>1554698         </td><td>1576023         </td><td>1600366         </td><td>1621005         </td><td>1637176         </td></tr>\n",
       "\t<tr><td>Alpine County   </td><td>   1175         </td><td>   1169         </td><td>   1162         </td><td>   1159         </td><td>   1155         </td><td>   1150         </td><td>   1128         </td></tr>\n",
       "\t<tr><td>Amador County   </td><td>  38069         </td><td>  37894         </td><td>  37746         </td><td>  37582         </td><td>  37448         </td><td>  37313         </td><td>  37181         </td></tr>\n",
       "\t<tr><td>Butte County    </td><td> 220193         </td><td> 220563         </td><td> 221708         </td><td> 222083         </td><td> 223727         </td><td> 224180         </td><td> 224761         </td></tr>\n",
       "\t<tr><td>Calaveras County</td><td>  45535         </td><td>  45414         </td><td>  45305         </td><td>  45116         </td><td>  45010         </td><td>  44899         </td><td>  44747         </td></tr>\n",
       "\t<tr><td>Colusa County   </td><td>  21465         </td><td>  21626         </td><td>  21781         </td><td>  21972         </td><td>  22139         </td><td>  22271         </td><td>  22428         </td></tr>\n",
       "</tbody>\n",
       "</table>\n"
      ],
      "text/latex": [
       "\\begin{tabular}{r|llllllll}\n",
       " County & pop2010 & pop2011 & pop2012 & pop2013 & pop2014 & pop2015 & pop2016\\\\\n",
       "\\hline\n",
       "\t Alameda County   & 1515354          & 1532186          & 1554698          & 1576023          & 1600366          & 1621005          & 1637176         \\\\\n",
       "\t Alpine County    &    1175          &    1169          &    1162          &    1159          &    1155          &    1150          &    1128         \\\\\n",
       "\t Amador County    &   38069          &   37894          &   37746          &   37582          &   37448          &   37313          &   37181         \\\\\n",
       "\t Butte County     &  220193          &  220563          &  221708          &  222083          &  223727          &  224180          &  224761         \\\\\n",
       "\t Calaveras County &   45535          &   45414          &   45305          &   45116          &   45010          &   44899          &   44747         \\\\\n",
       "\t Colusa County    &   21465          &   21626          &   21781          &   21972          &   22139          &   22271          &   22428         \\\\\n",
       "\\end{tabular}\n"
      ],
      "text/markdown": [
       "\n",
       "| County | pop2010 | pop2011 | pop2012 | pop2013 | pop2014 | pop2015 | pop2016 |\n",
       "|---|---|---|---|---|---|---|---|\n",
       "| Alameda County   | 1515354          | 1532186          | 1554698          | 1576023          | 1600366          | 1621005          | 1637176          |\n",
       "| Alpine County    |    1175          |    1169          |    1162          |    1159          |    1155          |    1150          |    1128          |\n",
       "| Amador County    |   38069          |   37894          |   37746          |   37582          |   37448          |   37313          |   37181          |\n",
       "| Butte County     |  220193          |  220563          |  221708          |  222083          |  223727          |  224180          |  224761          |\n",
       "| Calaveras County |   45535          |   45414          |   45305          |   45116          |   45010          |   44899          |   44747          |\n",
       "| Colusa County    |   21465          |   21626          |   21781          |   21972          |   22139          |   22271          |   22428          |\n",
       "\n"
      ],
      "text/plain": [
       "  County           pop2010 pop2011 pop2012 pop2013 pop2014 pop2015 pop2016\n",
       "1 Alameda County   1515354 1532186 1554698 1576023 1600366 1621005 1637176\n",
       "2 Alpine County       1175    1169    1162    1159    1155    1150    1128\n",
       "3 Amador County      38069   37894   37746   37582   37448   37313   37181\n",
       "4 Butte County      220193  220563  221708  222083  223727  224180  224761\n",
       "5 Calaveras County   45535   45414   45305   45116   45010   44899   44747\n",
       "6 Colusa County      21465   21626   21781   21972   22139   22271   22428"
      ]
     },
     "metadata": {},
     "output_type": "display_data"
    }
   ],
   "source": [
    "county_populations <- demo_data %>%\n",
    "                        group_by(County) %>%\n",
    "                            summarise(pop2010 = sum(X2010, na.rm = T),\n",
    "                                      pop2011 = sum(X2011, na.rm = T),\n",
    "                                      pop2012 = sum(X2012, na.rm = T),\n",
    "                                      pop2013 = sum(X2013, na.rm = T),\n",
    "                                      pop2014 = sum(X2014, na.rm = T),\n",
    "                                      pop2015 = sum(X2015, na.rm = T),\n",
    "                                      pop2016 = sum(X2016, na.rm = T))\n",
    "\n",
    "head(county_populations)"
   ]
  },
  {
   "cell_type": "code",
   "execution_count": 7,
   "metadata": {},
   "outputs": [
    {
     "data": {
      "text/html": [
       "<table>\n",
       "<thead><tr><th scope=col>County</th><th scope=col>Race</th><th scope=col>pop2010</th><th scope=col>pop2011</th><th scope=col>pop2012</th><th scope=col>pop2013</th><th scope=col>pop2014</th><th scope=col>pop2015</th><th scope=col>pop2016</th></tr></thead>\n",
       "<tbody>\n",
       "\t<tr><td>Alameda County      </td><td>AIAN (Non-Hispanic) </td><td>  4190              </td><td>  4262              </td><td>  4330              </td><td>  4404              </td><td>  4485              </td><td>  4567              </td><td>  4627              </td></tr>\n",
       "\t<tr><td>Alameda County      </td><td>Asian (Non-Hispanic)</td><td>396745              </td><td>404090              </td><td>412295              </td><td>420454              </td><td>428974              </td><td>437425              </td><td>444880              </td></tr>\n",
       "\t<tr><td>Alameda County      </td><td>Black (Non-Hispanic)</td><td>185086              </td><td>184967              </td><td>185536              </td><td>186106              </td><td>187037              </td><td>187229              </td><td>186639              </td></tr>\n",
       "\t<tr><td>Alameda County      </td><td>Hispanic (any race) </td><td>341001              </td><td>347509              </td><td>354526              </td><td>361084              </td><td>368086              </td><td>374331              </td><td>379834              </td></tr>\n",
       "\t<tr><td>Alameda County      </td><td>MR (Non-Hispanic)   </td><td> 57045              </td><td> 58192              </td><td> 59642              </td><td> 61066              </td><td> 62560              </td><td> 63726              </td><td> 64765              </td></tr>\n",
       "\t<tr><td>Alameda County      </td><td>NHPI (Non-Hispanic) </td><td> 12357              </td><td> 12582              </td><td> 12848              </td><td> 13090              </td><td> 13316              </td><td> 13577              </td><td> 13762              </td></tr>\n",
       "</tbody>\n",
       "</table>\n"
      ],
      "text/latex": [
       "\\begin{tabular}{r|lllllllll}\n",
       " County & Race & pop2010 & pop2011 & pop2012 & pop2013 & pop2014 & pop2015 & pop2016\\\\\n",
       "\\hline\n",
       "\t Alameda County       & AIAN (Non-Hispanic)  &   4190               &   4262               &   4330               &   4404               &   4485               &   4567               &   4627              \\\\\n",
       "\t Alameda County       & Asian (Non-Hispanic) & 396745               & 404090               & 412295               & 420454               & 428974               & 437425               & 444880              \\\\\n",
       "\t Alameda County       & Black (Non-Hispanic) & 185086               & 184967               & 185536               & 186106               & 187037               & 187229               & 186639              \\\\\n",
       "\t Alameda County       & Hispanic (any race)  & 341001               & 347509               & 354526               & 361084               & 368086               & 374331               & 379834              \\\\\n",
       "\t Alameda County       & MR (Non-Hispanic)    &  57045               &  58192               &  59642               &  61066               &  62560               &  63726               &  64765              \\\\\n",
       "\t Alameda County       & NHPI (Non-Hispanic)  &  12357               &  12582               &  12848               &  13090               &  13316               &  13577               &  13762              \\\\\n",
       "\\end{tabular}\n"
      ],
      "text/markdown": [
       "\n",
       "| County | Race | pop2010 | pop2011 | pop2012 | pop2013 | pop2014 | pop2015 | pop2016 |\n",
       "|---|---|---|---|---|---|---|---|---|\n",
       "| Alameda County       | AIAN (Non-Hispanic)  |   4190               |   4262               |   4330               |   4404               |   4485               |   4567               |   4627               |\n",
       "| Alameda County       | Asian (Non-Hispanic) | 396745               | 404090               | 412295               | 420454               | 428974               | 437425               | 444880               |\n",
       "| Alameda County       | Black (Non-Hispanic) | 185086               | 184967               | 185536               | 186106               | 187037               | 187229               | 186639               |\n",
       "| Alameda County       | Hispanic (any race)  | 341001               | 347509               | 354526               | 361084               | 368086               | 374331               | 379834               |\n",
       "| Alameda County       | MR (Non-Hispanic)    |  57045               |  58192               |  59642               |  61066               |  62560               |  63726               |  64765               |\n",
       "| Alameda County       | NHPI (Non-Hispanic)  |  12357               |  12582               |  12848               |  13090               |  13316               |  13577               |  13762               |\n",
       "\n"
      ],
      "text/plain": [
       "  County         Race                 pop2010 pop2011 pop2012 pop2013 pop2014\n",
       "1 Alameda County AIAN (Non-Hispanic)    4190    4262    4330    4404    4485 \n",
       "2 Alameda County Asian (Non-Hispanic) 396745  404090  412295  420454  428974 \n",
       "3 Alameda County Black (Non-Hispanic) 185086  184967  185536  186106  187037 \n",
       "4 Alameda County Hispanic (any race)  341001  347509  354526  361084  368086 \n",
       "5 Alameda County MR (Non-Hispanic)     57045   58192   59642   61066   62560 \n",
       "6 Alameda County NHPI (Non-Hispanic)   12357   12582   12848   13090   13316 \n",
       "  pop2015 pop2016\n",
       "1   4567    4627 \n",
       "2 437425  444880 \n",
       "3 187229  186639 \n",
       "4 374331  379834 \n",
       "5  63726   64765 \n",
       "6  13577   13762 "
      ]
     },
     "metadata": {},
     "output_type": "display_data"
    }
   ],
   "source": [
    "county_demographics <- demo_data %>%\n",
    "                        group_by(County, Race) %>%\n",
    "                            summarise(pop2010 = sum(X2010, na.rm = T),\n",
    "                                      pop2011 = sum(X2011, na.rm = T),\n",
    "                                      pop2012 = sum(X2012, na.rm = T),\n",
    "                                      pop2013 = sum(X2013, na.rm = T),\n",
    "                                      pop2014 = sum(X2014, na.rm = T),\n",
    "                                      pop2015 = sum(X2015, na.rm = T),\n",
    "                                      pop2016 = sum(X2016, na.rm = T))\n",
    "\n",
    "head(county_demographics, nrow = 10)"
   ]
  },
  {
   "cell_type": "markdown",
   "metadata": {},
   "source": [
    "The following piece of code is not very pretty or optimized, but it gets the job done - we are just going to population the `train` dataframe with county level predictors extracted from the our demographics data frames. "
   ]
  },
  {
   "cell_type": "code",
   "execution_count": 8,
   "metadata": {},
   "outputs": [],
   "source": [
    "counties_train <- unique(train$county_name)\n",
    "counties_demo <- unique(county_demographics$County)\n",
    "training_years <- c(2010:2016)\n",
    "\n",
    "train$population <- NA\n",
    "train$black_pop <- NA\n",
    "train$white_pop <- NA\n",
    "train$hispanic_pop <- NA\n",
    "train$asian_pop <- NA\n",
    "\n",
    "black_id <- 'Black (Non-Hispanic)'\n",
    "white_id <- 'White (Non-Hispanic)'\n",
    "asian_id <- 'Asian (Non-Hispanic)'\n",
    "hispanic_id <- 'Hispanic (any race)'\n",
    "\n",
    "for (county in counties_train) {\n",
    "    \n",
    "    if (county %in% counties_demo) {\n",
    "        \n",
    "        for (year in training_years) {\n",
    "            \n",
    "            demo_idx <- paste0('pop', year)\n",
    "            \n",
    "            train[train$county_name == county\n",
    "                  & train$year == year, ]$population <- as.numeric(county_populations[county_populations$County == county, demo_idx])\n",
    "            \n",
    "            train[train$county_name == county\n",
    "                  & train$year == year, ]$black_pop <- as.numeric(county_demographics[county_demographics$County == county &\n",
    "                                                                                      county_demographics$Race == black_id,\n",
    "                                                                                      demo_idx])\n",
    "            train[train$county_name == county\n",
    "                  & train$year == year, ]$white_pop <- as.numeric(county_demographics[county_demographics$County == county &\n",
    "                                                                                      county_demographics$Race == white_id,\n",
    "                                                                                      demo_idx])\n",
    "            train[train$county_name == county\n",
    "                  & train$year == year, ]$asian_pop <- as.numeric(county_demographics[county_demographics$County == county &\n",
    "                                                                                      county_demographics$Race == asian_id,\n",
    "                                                                                      demo_idx])\n",
    "            train[train$county_name == county\n",
    "                  & train$year == year, ]$hispanic_pop <- as.numeric(county_demographics[county_demographics$County == county &\n",
    "                                                                                      county_demographics$Race == hispanic_id,\n",
    "                                                                                      demo_idx])\n",
    "        }\n",
    "    }\n",
    "}"
   ]
  },
  {
   "cell_type": "markdown",
   "metadata": {},
   "source": [
    "We don't have 2009 data, but upon a quick google search, we can find that California's population change was about 1% from 2009 to 2010, so assuming that most counties saw equal growth, we can just take 99% of 2010's population to fill in the 2009 populations."
   ]
  },
  {
   "cell_type": "code",
   "execution_count": 9,
   "metadata": {},
   "outputs": [
    {
     "data": {
      "text/html": [
       "<table>\n",
       "<thead><tr><th scope=col>X</th><th scope=col>stop_date</th><th scope=col>county_name</th><th scope=col>driver_gender</th><th scope=col>driver_age_raw</th><th scope=col>driver_race</th><th scope=col>violation_raw</th><th scope=col>search_conducted</th><th scope=col>search_type</th><th scope=col>contraband_found</th><th scope=col>...</th><th scope=col>is_arrested</th><th scope=col>count</th><th scope=col>year</th><th scope=col>month</th><th scope=col>year_c</th><th scope=col>population</th><th scope=col>black_pop</th><th scope=col>white_pop</th><th scope=col>hispanic_pop</th><th scope=col>asian_pop</th></tr></thead>\n",
       "<tbody>\n",
       "\t<tr><td>1                                     </td><td>Jul 2009                              </td><td>San Diego County                      </td><td>1                                     </td><td>33-39                                 </td><td>Hispanic                              </td><td>Moving Violation (VC)                 </td><td>0                                     </td><td>NA                                    </td><td>0                                     </td><td>...                                   </td><td>0                                     </td><td>1                                     </td><td>2009                                  </td><td>7                                     </td><td>0                                     </td><td>3070026                               </td><td>146377                                </td><td>1492582                               </td><td> 984694                               </td><td> 328474                               </td></tr>\n",
       "\t<tr><td>2                                     </td><td>Jul 2009                              </td><td>Shasta County                         </td><td>1                                     </td><td>49+                                   </td><td>White                                 </td><td>Motorist/Public Service               </td><td>0                                     </td><td>NA                                    </td><td>0                                     </td><td>...                                   </td><td>0                                     </td><td>1                                     </td><td>2009                                  </td><td>7                                     </td><td>0                                     </td><td> 175354                               </td><td>  1362                                </td><td> 145009                               </td><td>  14774                               </td><td>   4255                               </td></tr>\n",
       "\t<tr><td>3                                     </td><td>Jul 2009                              </td><td>Shasta County                         </td><td>1                                     </td><td>25-32                                 </td><td>White                                 </td><td>Moving Violation (VC)                 </td><td>0                                     </td><td>NA                                    </td><td>0                                     </td><td>...                                   </td><td>0                                     </td><td>1                                     </td><td>2009                                  </td><td>7                                     </td><td>0                                     </td><td> 175354                               </td><td>  1362                                </td><td> 145009                               </td><td>  14774                               </td><td>   4255                               </td></tr>\n",
       "\t<tr><td>4                                     </td><td>Jul 2009                              </td><td>Shasta County                         </td><td>1                                     </td><td>15-25                                 </td><td>White                                 </td><td>Moving Violation (VC)                 </td><td>0                                     </td><td>NA                                    </td><td>0                                     </td><td>...                                   </td><td>0                                     </td><td>1                                     </td><td>2009                                  </td><td>7                                     </td><td>0                                     </td><td> 175354                               </td><td>  1362                                </td><td> 145009                               </td><td>  14774                               </td><td>   4255                               </td></tr>\n",
       "\t<tr><td>5                                     </td><td>Jul 2009                              </td><td>Mariposa County                       </td><td>0                                     </td><td>40-48                                 </td><td>White                                 </td><td>Moving Violation (VC)                 </td><td>0                                     </td><td>NA                                    </td><td>0                                     </td><td>...                                   </td><td>0                                     </td><td>1                                     </td><td>2009                                  </td><td>7                                     </td><td>0                                     </td><td>  18063                               </td><td>    94                                </td><td>  15330                               </td><td>   1618                               </td><td>    153                               </td></tr>\n",
       "\t<tr><td>6                                     </td><td>Jul 2009                              </td><td>Los Angeles County                    </td><td>0                                     </td><td>25-32                                 </td><td>Black                                 </td><td>Mechanical or Nonmoving Violation (VC)</td><td>0                                     </td><td>NA                                    </td><td>0                                     </td><td>...                                   </td><td>0                                     </td><td>1                                     </td><td>2009                                  </td><td>7                                     </td><td>0                                     </td><td>9740383                               </td><td>817333                                </td><td>2724568                               </td><td>4647871                               </td><td>1328676                               </td></tr>\n",
       "</tbody>\n",
       "</table>\n"
      ],
      "text/latex": [
       "\\begin{tabular}{r|lllllllllllllllllllll}\n",
       " X & stop\\_date & county\\_name & driver\\_gender & driver\\_age\\_raw & driver\\_race & violation\\_raw & search\\_conducted & search\\_type & contraband\\_found & ... & is\\_arrested & count & year & month & year\\_c & population & black\\_pop & white\\_pop & hispanic\\_pop & asian\\_pop\\\\\n",
       "\\hline\n",
       "\t 1                                      & Jul 2009                               & San Diego County                       & 1                                      & 33-39                                  & Hispanic                               & Moving Violation (VC)                  & 0                                      & NA                                     & 0                                      & ...                                    & 0                                      & 1                                      & 2009                                   & 7                                      & 0                                      & 3070026                                & 146377                                 & 1492582                                &  984694                                &  328474                               \\\\\n",
       "\t 2                                      & Jul 2009                               & Shasta County                          & 1                                      & 49+                                    & White                                  & Motorist/Public Service                & 0                                      & NA                                     & 0                                      & ...                                    & 0                                      & 1                                      & 2009                                   & 7                                      & 0                                      &  175354                                &   1362                                 &  145009                                &   14774                                &    4255                               \\\\\n",
       "\t 3                                      & Jul 2009                               & Shasta County                          & 1                                      & 25-32                                  & White                                  & Moving Violation (VC)                  & 0                                      & NA                                     & 0                                      & ...                                    & 0                                      & 1                                      & 2009                                   & 7                                      & 0                                      &  175354                                &   1362                                 &  145009                                &   14774                                &    4255                               \\\\\n",
       "\t 4                                      & Jul 2009                               & Shasta County                          & 1                                      & 15-25                                  & White                                  & Moving Violation (VC)                  & 0                                      & NA                                     & 0                                      & ...                                    & 0                                      & 1                                      & 2009                                   & 7                                      & 0                                      &  175354                                &   1362                                 &  145009                                &   14774                                &    4255                               \\\\\n",
       "\t 5                                      & Jul 2009                               & Mariposa County                        & 0                                      & 40-48                                  & White                                  & Moving Violation (VC)                  & 0                                      & NA                                     & 0                                      & ...                                    & 0                                      & 1                                      & 2009                                   & 7                                      & 0                                      &   18063                                &     94                                 &   15330                                &    1618                                &     153                               \\\\\n",
       "\t 6                                      & Jul 2009                               & Los Angeles County                     & 0                                      & 25-32                                  & Black                                  & Mechanical or Nonmoving Violation (VC) & 0                                      & NA                                     & 0                                      & ...                                    & 0                                      & 1                                      & 2009                                   & 7                                      & 0                                      & 9740383                                & 817333                                 & 2724568                                & 4647871                                & 1328676                               \\\\\n",
       "\\end{tabular}\n"
      ],
      "text/markdown": [
       "\n",
       "| X | stop_date | county_name | driver_gender | driver_age_raw | driver_race | violation_raw | search_conducted | search_type | contraband_found | ... | is_arrested | count | year | month | year_c | population | black_pop | white_pop | hispanic_pop | asian_pop |\n",
       "|---|---|---|---|---|---|---|---|---|---|---|---|---|---|---|---|---|---|---|---|---|\n",
       "| 1                                      | Jul 2009                               | San Diego County                       | 1                                      | 33-39                                  | Hispanic                               | Moving Violation (VC)                  | 0                                      | NA                                     | 0                                      | ...                                    | 0                                      | 1                                      | 2009                                   | 7                                      | 0                                      | 3070026                                | 146377                                 | 1492582                                |  984694                                |  328474                                |\n",
       "| 2                                      | Jul 2009                               | Shasta County                          | 1                                      | 49+                                    | White                                  | Motorist/Public Service                | 0                                      | NA                                     | 0                                      | ...                                    | 0                                      | 1                                      | 2009                                   | 7                                      | 0                                      |  175354                                |   1362                                 |  145009                                |   14774                                |    4255                                |\n",
       "| 3                                      | Jul 2009                               | Shasta County                          | 1                                      | 25-32                                  | White                                  | Moving Violation (VC)                  | 0                                      | NA                                     | 0                                      | ...                                    | 0                                      | 1                                      | 2009                                   | 7                                      | 0                                      |  175354                                |   1362                                 |  145009                                |   14774                                |    4255                                |\n",
       "| 4                                      | Jul 2009                               | Shasta County                          | 1                                      | 15-25                                  | White                                  | Moving Violation (VC)                  | 0                                      | NA                                     | 0                                      | ...                                    | 0                                      | 1                                      | 2009                                   | 7                                      | 0                                      |  175354                                |   1362                                 |  145009                                |   14774                                |    4255                                |\n",
       "| 5                                      | Jul 2009                               | Mariposa County                        | 0                                      | 40-48                                  | White                                  | Moving Violation (VC)                  | 0                                      | NA                                     | 0                                      | ...                                    | 0                                      | 1                                      | 2009                                   | 7                                      | 0                                      |   18063                                |     94                                 |   15330                                |    1618                                |     153                                |\n",
       "| 6                                      | Jul 2009                               | Los Angeles County                     | 0                                      | 25-32                                  | Black                                  | Mechanical or Nonmoving Violation (VC) | 0                                      | NA                                     | 0                                      | ...                                    | 0                                      | 1                                      | 2009                                   | 7                                      | 0                                      | 9740383                                | 817333                                 | 2724568                                | 4647871                                | 1328676                                |\n",
       "\n"
      ],
      "text/plain": [
       "  X stop_date county_name        driver_gender driver_age_raw driver_race\n",
       "1 1 Jul 2009  San Diego County   1             33-39          Hispanic   \n",
       "2 2 Jul 2009  Shasta County      1             49+            White      \n",
       "3 3 Jul 2009  Shasta County      1             25-32          White      \n",
       "4 4 Jul 2009  Shasta County      1             15-25          White      \n",
       "5 5 Jul 2009  Mariposa County    0             40-48          White      \n",
       "6 6 Jul 2009  Los Angeles County 0             25-32          Black      \n",
       "  violation_raw                          search_conducted search_type\n",
       "1 Moving Violation (VC)                  0                NA         \n",
       "2 Motorist/Public Service                0                NA         \n",
       "3 Moving Violation (VC)                  0                NA         \n",
       "4 Moving Violation (VC)                  0                NA         \n",
       "5 Moving Violation (VC)                  0                NA         \n",
       "6 Mechanical or Nonmoving Violation (VC) 0                NA         \n",
       "  contraband_found ... is_arrested count year month year_c population black_pop\n",
       "1 0                ... 0           1     2009 7     0      3070026    146377   \n",
       "2 0                ... 0           1     2009 7     0       175354      1362   \n",
       "3 0                ... 0           1     2009 7     0       175354      1362   \n",
       "4 0                ... 0           1     2009 7     0       175354      1362   \n",
       "5 0                ... 0           1     2009 7     0        18063        94   \n",
       "6 0                ... 0           1     2009 7     0      9740383    817333   \n",
       "  white_pop hispanic_pop asian_pop\n",
       "1 1492582    984694       328474  \n",
       "2  145009     14774         4255  \n",
       "3  145009     14774         4255  \n",
       "4  145009     14774         4255  \n",
       "5   15330      1618          153  \n",
       "6 2724568   4647871      1328676  "
      ]
     },
     "metadata": {},
     "output_type": "display_data"
    }
   ],
   "source": [
    "for (county in counties_train) {\n",
    "    train[train$year == 2009 &\n",
    "          train$county_name == county,]$population <- round(0.99 * mean(train[train$year == 2010 & \n",
    "                                                                        train$county_name == county,]$population))\n",
    "    \n",
    "    train[train$year == 2009 &\n",
    "          train$county_name == county,]$white_pop <- round(0.99 * mean(train[train$year == 2010 & \n",
    "                                                                             train$county_name == county,]$white_pop))\n",
    "    train[train$year == 2009 &\n",
    "          train$county_name == county,]$black_pop <- round(0.99 * mean(train[train$year == 2010 & \n",
    "                                                                             train$county_name == county,]$black_pop))\n",
    "    train[train$year == 2009 &\n",
    "          train$county_name == county,]$asian_pop <- round(0.99 * mean(train[train$year == 2010 & \n",
    "                                                                             train$county_name == county,]$asian_pop))\n",
    "    train[train$year == 2009 &\n",
    "          train$county_name == county,]$hispanic_pop <- round(0.99 * mean(train[train$year == 2010 & \n",
    "                                                                             train$county_name == county,]$hispanic_pop))\n",
    "\n",
    "    \n",
    "}\n",
    "head(train)"
   ]
  },
  {
   "cell_type": "markdown",
   "metadata": {},
   "source": [
    "Check and make sure that the missing population data matches the missing county data"
   ]
  },
  {
   "cell_type": "code",
   "execution_count": 10,
   "metadata": {},
   "outputs": [
    {
     "data": {
      "text/html": [
       "93399"
      ],
      "text/latex": [
       "93399"
      ],
      "text/markdown": [
       "93399"
      ],
      "text/plain": [
       "[1] 93399"
      ]
     },
     "metadata": {},
     "output_type": "display_data"
    }
   ],
   "source": [
    "sum(is.na(train$population))"
   ]
  },
  {
   "cell_type": "code",
   "execution_count": 11,
   "metadata": {},
   "outputs": [
    {
     "data": {
      "text/html": [
       "93399"
      ],
      "text/latex": [
       "93399"
      ],
      "text/markdown": [
       "93399"
      ],
      "text/plain": [
       "[1] 93399"
      ]
     },
     "metadata": {},
     "output_type": "display_data"
    }
   ],
   "source": [
    "dim(train[train$county_name == 'Missing',])[1]"
   ]
  },
  {
   "cell_type": "markdown",
   "metadata": {},
   "source": [
    "So all that remains is to impute the Missing County variables. We will treat the field `Missing` as its own county, since we have no reasonable way to impute the county level predictors from the individual level data (The number of stops and racial breakdown within the missing county may not be representative of the overall demographics - we have yet to explore this).\n",
    "\n",
    "We really just have two options - either use the median population estimates as a robust estimate of the missing county, or look at the population difference between california and the sum of the populations from the counties we *do* have. By the way, what proportion of our data has a missing county?"
   ]
  },
  {
   "cell_type": "code",
   "execution_count": 12,
   "metadata": {},
   "outputs": [
    {
     "data": {
      "text/html": [
       "0.0736094057119619"
      ],
      "text/latex": [
       "0.0736094057119619"
      ],
      "text/markdown": [
       "0.0736094057119619"
      ],
      "text/plain": [
       "[1] 0.07360941"
      ]
     },
     "metadata": {},
     "output_type": "display_data"
    }
   ],
   "source": [
    "sum(is.na(train$population)) / dim(train)[1]"
   ]
  },
  {
   "cell_type": "markdown",
   "metadata": {},
   "source": [
    "About 7%. If the data is missing completely at random (MCAR) or even missing at random (MAR) then this is fairly inconsequential, as the missing county doesn't carry a lot of information relative to the other data. If there is a non-random mechanism for missingness, then we have more of an issue. We *could* just drop the data, but that is always unsatisfying. We might want to get an idea if the Missing County is relatively homogenous with the rest of the data or if it has some serious systemic differences. Since we mostly don't want to bias our race results, we can take a look the racial breakdown \n",
    "\n",
    "(Also, the aggregated data will be useful later)\n",
    "\n",
    "We'll group by county and race, and calculate the number of traffic stops, number of searches, and the number of contraband \"hits\" found in the data. We have missing contraband data that can't be reasonably be imputed (it's an outcome in our view, not a predictor, so imputed hit rates would lead to a large amount of bias) and it's also not missing at random:"
   ]
  },
  {
   "cell_type": "code",
   "execution_count": 13,
   "metadata": {},
   "outputs": [
    {
     "data": {
      "text/html": [
       "<ol class=list-inline>\n",
       "\t<li>Incident to Arrest</li>\n",
       "\t<li>Inventory</li>\n",
       "\t<li>Protective Frisk</li>\n",
       "\t<li>Warrant</li>\n",
       "\t<li>Other</li>\n",
       "</ol>\n",
       "\n",
       "<details>\n",
       "\t<summary style=display:list-item;cursor:pointer>\n",
       "\t\t<strong>Levels</strong>:\n",
       "\t</summary>\n",
       "\t<ol class=list-inline>\n",
       "\t\t<li>'Consent'</li>\n",
       "\t\t<li>'Incident to Arrest'</li>\n",
       "\t\t<li>'Inventory'</li>\n",
       "\t\t<li>'Other'</li>\n",
       "\t\t<li>'Probable Cause'</li>\n",
       "\t\t<li>'Protective Frisk'</li>\n",
       "\t\t<li>'Warrant'</li>\n",
       "\t</ol>\n",
       "</details>"
      ],
      "text/latex": [
       "\\begin{enumerate*}\n",
       "\\item Incident to Arrest\n",
       "\\item Inventory\n",
       "\\item Protective Frisk\n",
       "\\item Warrant\n",
       "\\item Other\n",
       "\\end{enumerate*}\n",
       "\n",
       "\\emph{Levels}: \\begin{enumerate*}\n",
       "\\item 'Consent'\n",
       "\\item 'Incident to Arrest'\n",
       "\\item 'Inventory'\n",
       "\\item 'Other'\n",
       "\\item 'Probable Cause'\n",
       "\\item 'Protective Frisk'\n",
       "\\item 'Warrant'\n",
       "\\end{enumerate*}\n"
      ],
      "text/markdown": [
       "1. Incident to Arrest\n",
       "2. Inventory\n",
       "3. Protective Frisk\n",
       "4. Warrant\n",
       "5. Other\n",
       "\n",
       "\n",
       "\n",
       "**Levels**: 1. 'Consent'\n",
       "2. 'Incident to Arrest'\n",
       "3. 'Inventory'\n",
       "4. 'Other'\n",
       "5. 'Probable Cause'\n",
       "6. 'Protective Frisk'\n",
       "7. 'Warrant'\n",
       "\n",
       "\n"
      ],
      "text/plain": [
       "[1] Incident to Arrest Inventory          Protective Frisk   Warrant           \n",
       "[5] Other             \n",
       "7 Levels: Consent Incident to Arrest Inventory Other ... Warrant"
      ]
     },
     "metadata": {},
     "output_type": "display_data"
    }
   ],
   "source": [
    "unique(train[is.na(train$contraband_found),]$search_type)"
   ]
  },
  {
   "cell_type": "code",
   "execution_count": 14,
   "metadata": {},
   "outputs": [
    {
     "data": {
      "text/html": [
       "<ol class=list-inline>\n",
       "\t<li>&lt;NA&gt;</li>\n",
       "\t<li>Probable Cause</li>\n",
       "\t<li>Consent</li>\n",
       "</ol>\n",
       "\n",
       "<details>\n",
       "\t<summary style=display:list-item;cursor:pointer>\n",
       "\t\t<strong>Levels</strong>:\n",
       "\t</summary>\n",
       "\t<ol class=list-inline>\n",
       "\t\t<li>'Consent'</li>\n",
       "\t\t<li>'Incident to Arrest'</li>\n",
       "\t\t<li>'Inventory'</li>\n",
       "\t\t<li>'Other'</li>\n",
       "\t\t<li>'Probable Cause'</li>\n",
       "\t\t<li>'Protective Frisk'</li>\n",
       "\t\t<li>'Warrant'</li>\n",
       "\t</ol>\n",
       "</details>"
      ],
      "text/latex": [
       "\\begin{enumerate*}\n",
       "\\item <NA>\n",
       "\\item Probable Cause\n",
       "\\item Consent\n",
       "\\end{enumerate*}\n",
       "\n",
       "\\emph{Levels}: \\begin{enumerate*}\n",
       "\\item 'Consent'\n",
       "\\item 'Incident to Arrest'\n",
       "\\item 'Inventory'\n",
       "\\item 'Other'\n",
       "\\item 'Probable Cause'\n",
       "\\item 'Protective Frisk'\n",
       "\\item 'Warrant'\n",
       "\\end{enumerate*}\n"
      ],
      "text/markdown": [
       "1. &lt;NA&gt;\n",
       "2. Probable Cause\n",
       "3. Consent\n",
       "\n",
       "\n",
       "\n",
       "**Levels**: 1. 'Consent'\n",
       "2. 'Incident to Arrest'\n",
       "3. 'Inventory'\n",
       "4. 'Other'\n",
       "5. 'Probable Cause'\n",
       "6. 'Protective Frisk'\n",
       "7. 'Warrant'\n",
       "\n",
       "\n"
      ],
      "text/plain": [
       "[1] <NA>           Probable Cause Consent       \n",
       "7 Levels: Consent Incident to Arrest Inventory Other ... Warrant"
      ]
     },
     "metadata": {},
     "output_type": "display_data"
    }
   ],
   "source": [
    "unique(train[!is.na(train$contraband_found),]$search_type)"
   ]
  },
  {
   "cell_type": "markdown",
   "metadata": {},
   "source": [
    "Only the `Probable Cause` and `Consent` search types have contraband data that's not missing, and note that there is no intersection in the search types between the missing and non-missing contraband data. So clearly, this is not a random mechanism, which means we can't really impute it even if we wanted to. We'll explore this deeper in a different notebook. For now, we'll just take solace in the fact that our `Probable Cause` and `Consent` search types have no missing data besides possibly the `county_name`, and we can aggregate our data so we can get a big picture idea of what is going on at each county. \n",
    "\n",
    "By the way `CHP 215` is \"Notice to Appear\" in court. I.e., it's a ticket. `CHP 281` is a \"fix it or ticket\". I.e, fix your tail light."
   ]
  },
  {
   "cell_type": "code",
   "execution_count": 16,
   "metadata": {},
   "outputs": [
    {
     "data": {
      "text/html": [
       "<table>\n",
       "<thead><tr><th scope=col>year</th><th scope=col>county_name</th><th scope=col>driver_race</th><th scope=col>total_county_pop</th><th scope=col>county_black</th><th scope=col>county_white</th><th scope=col>county_hispanic</th><th scope=col>county_asian</th><th scope=col>stops</th><th scope=col>num_males</th><th scope=col>...</th><th scope=col>move_violation</th><th scope=col>searches</th><th scope=col>consent</th><th scope=col>probable</th><th scope=col>hits</th><th scope=col>arrests</th><th scope=col>warnings</th><th scope=col>chp215</th><th scope=col>collisions</th><th scope=col>chp281</th></tr></thead>\n",
       "<tbody>\n",
       "\t<tr><td>2009          </td><td>Alameda County</td><td>Asian         </td><td>1500200       </td><td>183235        </td><td>513741        </td><td>337591        </td><td>392778        </td><td> 560          </td><td> 381          </td><td>...           </td><td>215           </td><td>17            </td><td>0             </td><td>0             </td><td>0             </td><td>12            </td><td>101           </td><td>258           </td><td> 45           </td><td>11            </td></tr>\n",
       "\t<tr><td>2009          </td><td>Alameda County</td><td>Black         </td><td>1500200       </td><td>183235        </td><td>513741        </td><td>337591        </td><td>392778        </td><td> 813          </td><td> 480          </td><td>...           </td><td>250           </td><td>61            </td><td>0             </td><td>1             </td><td>1             </td><td>40            </td><td>127           </td><td>421           </td><td> 36           </td><td>10            </td></tr>\n",
       "\t<tr><td>2009          </td><td>Alameda County</td><td>Hispanic      </td><td>1500200       </td><td>183235        </td><td>513741        </td><td>337591        </td><td>392778        </td><td>1012          </td><td> 795          </td><td>...           </td><td>283           </td><td>62            </td><td>0             </td><td>4             </td><td>3             </td><td>41            </td><td>121           </td><td>454           </td><td> 60           </td><td>31            </td></tr>\n",
       "\t<tr><td>2009          </td><td>Alameda County</td><td>Other         </td><td>1500200       </td><td>183235        </td><td>513741        </td><td>337591        </td><td>392778        </td><td> 504          </td><td> 382          </td><td>...           </td><td>204           </td><td>13            </td><td>0             </td><td>0             </td><td>0             </td><td> 9            </td><td> 46           </td><td>298           </td><td> 31           </td><td>12            </td></tr>\n",
       "\t<tr><td>2009          </td><td>Alameda County</td><td>White         </td><td>1500200       </td><td>183235        </td><td>513741        </td><td>337591        </td><td>392778        </td><td>1588          </td><td>1096          </td><td>...           </td><td>564           </td><td>27            </td><td>0             </td><td>2             </td><td>2             </td><td>17            </td><td>229           </td><td>750           </td><td>107           </td><td>33            </td></tr>\n",
       "\t<tr><td>2009          </td><td>Alpine County </td><td>Asian         </td><td>   1163       </td><td>     0        </td><td>   891        </td><td>    64        </td><td>     8        </td><td>  14          </td><td>  12          </td><td>...           </td><td> 10           </td><td> 0            </td><td>0             </td><td>0             </td><td>0             </td><td> 0            </td><td>  4           </td><td>  8           </td><td>  0           </td><td> 1            </td></tr>\n",
       "</tbody>\n",
       "</table>\n"
      ],
      "text/latex": [
       "\\begin{tabular}{r|lllllllllllllllllllll}\n",
       " year & county\\_name & driver\\_race & total\\_county\\_pop & county\\_black & county\\_white & county\\_hispanic & county\\_asian & stops & num\\_males & ... & move\\_violation & searches & consent & probable & hits & arrests & warnings & chp215 & collisions & chp281\\\\\n",
       "\\hline\n",
       "\t 2009           & Alameda County & Asian          & 1500200        & 183235         & 513741         & 337591         & 392778         &  560           &  381           & ...            & 215            & 17             & 0              & 0              & 0              & 12             & 101            & 258            &  45            & 11            \\\\\n",
       "\t 2009           & Alameda County & Black          & 1500200        & 183235         & 513741         & 337591         & 392778         &  813           &  480           & ...            & 250            & 61             & 0              & 1              & 1              & 40             & 127            & 421            &  36            & 10            \\\\\n",
       "\t 2009           & Alameda County & Hispanic       & 1500200        & 183235         & 513741         & 337591         & 392778         & 1012           &  795           & ...            & 283            & 62             & 0              & 4              & 3              & 41             & 121            & 454            &  60            & 31            \\\\\n",
       "\t 2009           & Alameda County & Other          & 1500200        & 183235         & 513741         & 337591         & 392778         &  504           &  382           & ...            & 204            & 13             & 0              & 0              & 0              &  9             &  46            & 298            &  31            & 12            \\\\\n",
       "\t 2009           & Alameda County & White          & 1500200        & 183235         & 513741         & 337591         & 392778         & 1588           & 1096           & ...            & 564            & 27             & 0              & 2              & 2              & 17             & 229            & 750            & 107            & 33            \\\\\n",
       "\t 2009           & Alpine County  & Asian          &    1163        &      0         &    891         &     64         &      8         &   14           &   12           & ...            &  10            &  0             & 0              & 0              & 0              &  0             &   4            &   8            &   0            &  1            \\\\\n",
       "\\end{tabular}\n"
      ],
      "text/markdown": [
       "\n",
       "| year | county_name | driver_race | total_county_pop | county_black | county_white | county_hispanic | county_asian | stops | num_males | ... | move_violation | searches | consent | probable | hits | arrests | warnings | chp215 | collisions | chp281 |\n",
       "|---|---|---|---|---|---|---|---|---|---|---|---|---|---|---|---|---|---|---|---|---|\n",
       "| 2009           | Alameda County | Asian          | 1500200        | 183235         | 513741         | 337591         | 392778         |  560           |  381           | ...            | 215            | 17             | 0              | 0              | 0              | 12             | 101            | 258            |  45            | 11             |\n",
       "| 2009           | Alameda County | Black          | 1500200        | 183235         | 513741         | 337591         | 392778         |  813           |  480           | ...            | 250            | 61             | 0              | 1              | 1              | 40             | 127            | 421            |  36            | 10             |\n",
       "| 2009           | Alameda County | Hispanic       | 1500200        | 183235         | 513741         | 337591         | 392778         | 1012           |  795           | ...            | 283            | 62             | 0              | 4              | 3              | 41             | 121            | 454            |  60            | 31             |\n",
       "| 2009           | Alameda County | Other          | 1500200        | 183235         | 513741         | 337591         | 392778         |  504           |  382           | ...            | 204            | 13             | 0              | 0              | 0              |  9             |  46            | 298            |  31            | 12             |\n",
       "| 2009           | Alameda County | White          | 1500200        | 183235         | 513741         | 337591         | 392778         | 1588           | 1096           | ...            | 564            | 27             | 0              | 2              | 2              | 17             | 229            | 750            | 107            | 33             |\n",
       "| 2009           | Alpine County  | Asian          |    1163        |      0         |    891         |     64         |      8         |   14           |   12           | ...            |  10            |  0             | 0              | 0              | 0              |  0             |   4            |   8            |   0            |  1             |\n",
       "\n"
      ],
      "text/plain": [
       "  year county_name    driver_race total_county_pop county_black county_white\n",
       "1 2009 Alameda County Asian       1500200          183235       513741      \n",
       "2 2009 Alameda County Black       1500200          183235       513741      \n",
       "3 2009 Alameda County Hispanic    1500200          183235       513741      \n",
       "4 2009 Alameda County Other       1500200          183235       513741      \n",
       "5 2009 Alameda County White       1500200          183235       513741      \n",
       "6 2009 Alpine County  Asian          1163               0          891      \n",
       "  county_hispanic county_asian stops num_males ... move_violation searches\n",
       "1 337591          392778        560   381      ... 215            17      \n",
       "2 337591          392778        813   480      ... 250            61      \n",
       "3 337591          392778       1012   795      ... 283            62      \n",
       "4 337591          392778        504   382      ... 204            13      \n",
       "5 337591          392778       1588  1096      ... 564            27      \n",
       "6     64               8         14    12      ...  10             0      \n",
       "  consent probable hits arrests warnings chp215 collisions chp281\n",
       "1 0       0        0    12      101      258     45        11    \n",
       "2 0       1        1    40      127      421     36        10    \n",
       "3 0       4        3    41      121      454     60        31    \n",
       "4 0       0        0     9       46      298     31        12    \n",
       "5 0       2        2    17      229      750    107        33    \n",
       "6 0       0        0     0        4        8      0         1    "
      ]
     },
     "metadata": {},
     "output_type": "display_data"
    }
   ],
   "source": [
    "traffic_count_data <- train %>%\n",
    "                        group_by(year, county_name, driver_race) %>%\n",
    "                            summarise(total_county_pop = median(population),\n",
    "                                      county_black = median(black_pop),\n",
    "                                      county_white = median(white_pop),\n",
    "                                      county_hispanic = median(hispanic_pop),\n",
    "                                      county_asian = median(asian_pop),\n",
    "                                      stops = n(),\n",
    "                                      num_males = sum(driver_gender),\n",
    "                                      suspect_dui = sum(violation_raw == 'DUI Check'),\n",
    "                                      move_violation = sum(violation_raw == 'Moving Violation (VC)'),\n",
    "                                      searches = sum(search_conducted),\n",
    "                                      consent = sum((search_type == 'Consent'), na.rm = T),\n",
    "                                      probable = sum((search_type == 'Probable Cause'), na.rm = T),\n",
    "                                      hits = sum(contraband_found, na.rm = T),\n",
    "                                      arrests = sum(is_arrested),\n",
    "                                      warnings = sum((stop_outcome == 'Verbal Warning')),\n",
    "                                      chp215 = sum((stop_outcome == 'CHP 215')),\n",
    "                                      collisions = sum((stop_outcome == 'Traffic Collision')),\n",
    "                                      chp281 = sum((stop_outcome == 'CHP 281')))\n",
    "head(traffic_count_data)"
   ]
  },
  {
   "cell_type": "markdown",
   "metadata": {},
   "source": [
    "Note that I've just added the total populations to the above data frame just so that they're in one place.\n",
    "\n",
    "For the most part, this particular notebook is done. We will export our work out as two `.csv` files so that in a future notebook, we can begin modeling the data. "
   ]
  },
  {
   "cell_type": "code",
   "execution_count": 17,
   "metadata": {},
   "outputs": [],
   "source": [
    "write.csv(traffic_count_data, 'trafficCountData.csv', row.names = F)\n",
    "write.csv(train, 'trafficWCountyPredictors.csv', row.names = F)"
   ]
  }
 ],
 "metadata": {
  "kernelspec": {
   "display_name": "R",
   "language": "R",
   "name": "ir"
  },
  "language_info": {
   "codemirror_mode": "r",
   "file_extension": ".r",
   "mimetype": "text/x-r-source",
   "name": "R",
   "pygments_lexer": "r",
   "version": "3.5.1"
  }
 },
 "nbformat": 4,
 "nbformat_minor": 2
}
