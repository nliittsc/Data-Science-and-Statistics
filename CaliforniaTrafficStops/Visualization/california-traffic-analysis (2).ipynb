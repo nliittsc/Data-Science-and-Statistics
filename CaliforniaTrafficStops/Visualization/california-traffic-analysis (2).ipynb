{
 "cells": [
  {
   "cell_type": "markdown",
   "metadata": {
    "_uuid": "b18f86038762f0d86c66bff74e495dfde8512b80"
   },
   "source": [
    "**Are California Police biased?**\n",
    "\n",
    "Within the past few years, racial prejudices of police officers has been a hot topic. Partly to address this debate, provide transperancy, and provide some notion of formal analysis, Stanford has released the Open Policing Project which aggregates data from various states in the USA, consisting of approximately 60 million traffic stops. Since I am a California native, and California is well known for being a highly liberal state, I decided to analyze the California traffic stop data. This notebook in R consists of my findings and analysis. My blog probabilitymeasure.blog will contain commentary and interpretation of this notebook."
   ]
  },
  {
   "cell_type": "code",
   "execution_count": 1,
   "metadata": {
    "_uuid": "1ac2319904a07164ce600f47cf700ed039f51f41"
   },
   "outputs": [
    {
     "name": "stderr",
     "output_type": "stream",
     "text": [
      "\n",
      "Attaching package: 'zoo'\n",
      "\n",
      "The following objects are masked from 'package:base':\n",
      "\n",
      "    as.Date, as.Date.numeric\n",
      "\n"
     ]
    }
   ],
   "source": [
    "#load packages\n",
    "library(readr)\n",
    "library(ggplot2)\n",
    "library(zoo)\n",
    "library(data.table)"
   ]
  },
  {
   "cell_type": "code",
   "execution_count": 2,
   "metadata": {
    "_uuid": "0401702861b71d8c231653086074c4d2fd22729f"
   },
   "outputs": [
    {
     "name": "stderr",
     "output_type": "stream",
     "text": [
      "Warning message in read_tokens_(data, tokenizer, col_specs, col_names, locale_, :\n",
      "\"length of NULL cannot be changed\"Warning message in read_tokens_(data, tokenizer, col_specs, col_names, locale_, :\n",
      "\"length of NULL cannot be changed\"Warning message in read_tokens_(data, tokenizer, col_specs, col_names, locale_, :\n",
      "\"length of NULL cannot be changed\"Warning message in read_tokens_(data, tokenizer, col_specs, col_names, locale_, :\n",
      "\"length of NULL cannot be changed\"Warning message in read_tokens_(data, tokenizer, col_specs, col_names, locale_, :\n",
      "\"length of NULL cannot be changed\"Warning message in read_tokens_(data, tokenizer, col_specs, col_names, locale_, :\n",
      "\"length of NULL cannot be changed\"Warning message in read_tokens_(data, tokenizer, col_specs, col_names, locale_, :\n",
      "\"length of NULL cannot be changed\"Warning message in read_tokens_(data, tokenizer, col_specs, col_names, locale_, :\n",
      "\"length of NULL cannot be changed\"Warning message in read_tokens_(data, tokenizer, col_specs, col_names, locale_, :\n",
      "\"length of NULL cannot be changed\"Warning message in read_tokens_(data, tokenizer, col_specs, col_names, locale_, :\n",
      "\"length of NULL cannot be changed\"Warning message in read_tokens_(data, tokenizer, col_specs, col_names, locale_, :\n",
      "\"length of NULL cannot be changed\"Warning message in read_tokens_(data, tokenizer, col_specs, col_names, locale_, :\n",
      "\"length of NULL cannot be changed\"Warning message in read_tokens_(data, tokenizer, col_specs, col_names, locale_, :\n",
      "\"length of NULL cannot be changed\"Warning message in read_tokens_(data, tokenizer, col_specs, col_names, locale_, :\n",
      "\"length of NULL cannot be changed\"Warning message in read_tokens_(data, tokenizer, col_specs, col_names, locale_, :\n",
      "\"length of NULL cannot be changed\"Warning message in read_tokens_(data, tokenizer, col_specs, col_names, locale_, :\n",
      "\"length of NULL cannot be changed\"Warning message in read_tokens_(data, tokenizer, col_specs, col_names, locale_, :\n",
      "\"length of NULL cannot be changed\"Warning message in read_tokens_(data, tokenizer, col_specs, col_names, locale_, :\n",
      "\"length of NULL cannot be changed\"Warning message in read_tokens_(data, tokenizer, col_specs, col_names, locale_, :\n",
      "\"length of NULL cannot be changed\"Warning message in read_tokens_(data, tokenizer, col_specs, col_names, locale_, :\n",
      "\"length of NULL cannot be changed\"Warning message in read_tokens_(data, tokenizer, col_specs, col_names, locale_, :\n",
      "\"length of NULL cannot be changed\"Warning message in read_tokens_(data, tokenizer, col_specs, col_names, locale_, :\n",
      "\"length of NULL cannot be changed\"Warning message in read_tokens_(data, tokenizer, col_specs, col_names, locale_, :\n",
      "\"length of NULL cannot be changed\"Warning message in read_tokens_(data, tokenizer, col_specs, col_names, locale_, :\n",
      "\"length of NULL cannot be changed\"Warning message in read_tokens_(data, tokenizer, col_specs, col_names, locale_, :\n",
      "\"length of NULL cannot be changed\"Warning message in read_tokens_(data, tokenizer, col_specs, col_names, locale_, :\n",
      "\"length of NULL cannot be changed\"Warning message in read_tokens_(data, tokenizer, col_specs, col_names, locale_, :\n",
      "\"length of NULL cannot be changed\"Warning message in read_tokens_(data, tokenizer, col_specs, col_names, locale_, :\n",
      "\"length of NULL cannot be changed\"Warning message in read_tokens_(data, tokenizer, col_specs, col_names, locale_, :\n",
      "\"length of NULL cannot be changed\"Warning message in read_tokens_(data, tokenizer, col_specs, col_names, locale_, :\n",
      "\"length of NULL cannot be changed\"Warning message in read_tokens_(data, tokenizer, col_specs, col_names, locale_, :\n",
      "\"length of NULL cannot be changed\"Warning message in read_tokens_(data, tokenizer, col_specs, col_names, locale_, :\n",
      "\"length of NULL cannot be changed\"Warning message in read_tokens_(data, tokenizer, col_specs, col_names, locale_, :\n",
      "\"length of NULL cannot be changed\"Warning message in read_tokens_(data, tokenizer, col_specs, col_names, locale_, :\n",
      "\"length of NULL cannot be changed\"Warning message in read_tokens_(data, tokenizer, col_specs, col_names, locale_, :\n",
      "\"length of NULL cannot be changed\"Warning message in read_tokens_(data, tokenizer, col_specs, col_names, locale_, :\n",
      "\"length of NULL cannot be changed\"Warning message in rbind(names(probs), probs_f):\n",
      "\"number of columns of result is not a multiple of vector length (arg 2)\"Warning message:\n",
      "\"1 parsing failure.\n",
      "row # A tibble: 1 x 5 col       row col   expected   actual     file             expected     <int> <chr> <chr>      <chr>      <chr>            actual 1 7777857 <NA>  23 columns 18 columns 'CA_cleaned.csv' file # A tibble: 1 x 5\n",
      "\""
     ]
    }
   ],
   "source": [
    "#load data\n",
    "CA_cleaned <- read_csv(\"CA_cleaned.csv\", \n",
    "    col_types = cols(county_fips = col_skip(), \n",
    "        driver_age = col_skip(), driver_race_raw = col_skip(), \n",
    "        ethnicity = col_skip(), fine_grained_location = col_skip(), \n",
    "        id = col_skip(), location_raw = col_skip(), \n",
    "        police_department = col_skip(), search_type_raw = col_skip(), \n",
    "        state = col_skip(), stop_time = col_skip(), \n",
    "        violation_raw = col_skip()))"
   ]
  },
  {
   "cell_type": "code",
   "execution_count": 3,
   "metadata": {
    "_uuid": "bc9cee33d94a7f9ed9fb24afc5c41d3749a7a3a0"
   },
   "outputs": [
    {
     "data": {
      "text/html": [
       "<ol class=list-inline>\n",
       "\t<li>7777857</li>\n",
       "\t<li>11</li>\n",
       "</ol>\n"
      ],
      "text/latex": [
       "\\begin{enumerate*}\n",
       "\\item 7777857\n",
       "\\item 11\n",
       "\\end{enumerate*}\n"
      ],
      "text/markdown": [
       "1. 7777857\n",
       "2. 11\n",
       "\n",
       "\n"
      ],
      "text/plain": [
       "[1] 7777857      11"
      ]
     },
     "metadata": {},
     "output_type": "display_data"
    }
   ],
   "source": [
    "dim(CA_cleaned)"
   ]
  },
  {
   "cell_type": "markdown",
   "metadata": {
    "_uuid": "1293366bad3d379627573c32bba1ad56a8e7c16f"
   },
   "source": [
    "As we can see the data is hyooge.\n",
    "\n",
    "We have some missing data pertaining to the outcomes and the driver race, our variables of interest. The data is too large to try and impute it in a rigorous way (though we probably could), so for now we just remove it. Assuming that the missing data comes from the same distribution as our data set, the number of missing cases is inconsequential.\n",
    "\n",
    "Later, we will take a closer look at the cases with missing contraband, but for now we set it aside."
   ]
  },
  {
   "cell_type": "code",
   "execution_count": 4,
   "metadata": {
    "_uuid": "45d538b91a64df8dd66cb63aed4525d488cb8207"
   },
   "outputs": [
    {
     "data": {
      "text/html": [
       "<dl class=dl-horizontal>\n",
       "\t<dt>stop_date</dt>\n",
       "\t\t<dd>0</dd>\n",
       "\t<dt>county_name</dt>\n",
       "\t\t<dd>0.0750692639373545</dd>\n",
       "\t<dt>driver_gender</dt>\n",
       "\t\t<dd>0</dd>\n",
       "\t<dt>driver_age_raw</dt>\n",
       "\t\t<dd>0</dd>\n",
       "\t<dt>driver_race</dt>\n",
       "\t\t<dd>1.28570118992931e-07</dd>\n",
       "\t<dt>violation</dt>\n",
       "\t\t<dd>0</dd>\n",
       "\t<dt>search_conducted</dt>\n",
       "\t\t<dd>0</dd>\n",
       "\t<dt>search_type</dt>\n",
       "\t\t<dd>0.964538689770203</dd>\n",
       "\t<dt>contraband_found</dt>\n",
       "\t\t<dd>0.0340145106807698</dd>\n",
       "\t<dt>stop_outcome</dt>\n",
       "\t\t<dd>3.3428230938162e-06</dd>\n",
       "\t<dt>is_arrested</dt>\n",
       "\t\t<dd>3.3428230938162e-06</dd>\n",
       "</dl>\n"
      ],
      "text/latex": [
       "\\begin{description*}\n",
       "\\item[stop\\textbackslash{}\\_date] 0\n",
       "\\item[county\\textbackslash{}\\_name] 0.0750692639373545\n",
       "\\item[driver\\textbackslash{}\\_gender] 0\n",
       "\\item[driver\\textbackslash{}\\_age\\textbackslash{}\\_raw] 0\n",
       "\\item[driver\\textbackslash{}\\_race] 1.28570118992931e-07\n",
       "\\item[violation] 0\n",
       "\\item[search\\textbackslash{}\\_conducted] 0\n",
       "\\item[search\\textbackslash{}\\_type] 0.964538689770203\n",
       "\\item[contraband\\textbackslash{}\\_found] 0.0340145106807698\n",
       "\\item[stop\\textbackslash{}\\_outcome] 3.3428230938162e-06\n",
       "\\item[is\\textbackslash{}\\_arrested] 3.3428230938162e-06\n",
       "\\end{description*}\n"
      ],
      "text/markdown": [
       "stop_date\n",
       ":   0county_name\n",
       ":   0.0750692639373545driver_gender\n",
       ":   0driver_age_raw\n",
       ":   0driver_race\n",
       ":   1.28570118992931e-07violation\n",
       ":   0search_conducted\n",
       ":   0search_type\n",
       ":   0.964538689770203contraband_found\n",
       ":   0.0340145106807698stop_outcome\n",
       ":   3.3428230938162e-06is_arrested\n",
       ":   3.3428230938162e-06\n",
       "\n"
      ],
      "text/plain": [
       "       stop_date      county_name    driver_gender   driver_age_raw \n",
       "    0.000000e+00     7.506926e-02     0.000000e+00     0.000000e+00 \n",
       "     driver_race        violation search_conducted      search_type \n",
       "    1.285701e-07     0.000000e+00     0.000000e+00     9.645387e-01 \n",
       "contraband_found     stop_outcome      is_arrested \n",
       "    3.401451e-02     3.342823e-06     3.342823e-06 "
      ]
     },
     "metadata": {},
     "output_type": "display_data"
    }
   ],
   "source": [
    "colMeans(is.na(CA_cleaned))"
   ]
  },
  {
   "cell_type": "code",
   "execution_count": 5,
   "metadata": {
    "_uuid": "c9bf27d26e28252c2991a035be34461b0694c37b"
   },
   "outputs": [],
   "source": [
    "columns <- c('driver_race', 'stop_outcome', 'is_arrested')\n",
    "miss_cntrbnd <- CA_cleaned[is.na(CA_cleaned$contraband_found),]\n",
    "data <- CA_cleaned[complete.cases(CA_cleaned[, columns]),]\n",
    "#data$contraband_missing <- (CA_cleaned$contraband_found == 'NA')\n",
    "rm(CA_cleaned, columns)\n",
    "#sum(data$contraband_missing)"
   ]
  },
  {
   "cell_type": "code",
   "execution_count": 6,
   "metadata": {
    "_uuid": "3282db51aa31dd368f5c94f2519cc597c68f4e2b"
   },
   "outputs": [
    {
     "data": {
      "text/html": [
       "<dl class=dl-horizontal>\n",
       "\t<dt>stop_date</dt>\n",
       "\t\t<dd>0</dd>\n",
       "\t<dt>county_name</dt>\n",
       "\t\t<dd>0.0750691388214965</dd>\n",
       "\t<dt>driver_gender</dt>\n",
       "\t\t<dd>0</dd>\n",
       "\t<dt>driver_age_raw</dt>\n",
       "\t\t<dd>0</dd>\n",
       "\t<dt>driver_race</dt>\n",
       "\t\t<dd>0</dd>\n",
       "\t<dt>violation</dt>\n",
       "\t\t<dd>0</dd>\n",
       "\t<dt>search_conducted</dt>\n",
       "\t\t<dd>0</dd>\n",
       "\t<dt>search_type</dt>\n",
       "\t\t<dd>0.964538695240189</dd>\n",
       "\t<dt>contraband_found</dt>\n",
       "\t\t<dd>0.0340145001883559</dd>\n",
       "\t<dt>stop_outcome</dt>\n",
       "\t\t<dd>0</dd>\n",
       "\t<dt>is_arrested</dt>\n",
       "\t\t<dd>0</dd>\n",
       "</dl>\n"
      ],
      "text/latex": [
       "\\begin{description*}\n",
       "\\item[stop\\textbackslash{}\\_date] 0\n",
       "\\item[county\\textbackslash{}\\_name] 0.0750691388214965\n",
       "\\item[driver\\textbackslash{}\\_gender] 0\n",
       "\\item[driver\\textbackslash{}\\_age\\textbackslash{}\\_raw] 0\n",
       "\\item[driver\\textbackslash{}\\_race] 0\n",
       "\\item[violation] 0\n",
       "\\item[search\\textbackslash{}\\_conducted] 0\n",
       "\\item[search\\textbackslash{}\\_type] 0.964538695240189\n",
       "\\item[contraband\\textbackslash{}\\_found] 0.0340145001883559\n",
       "\\item[stop\\textbackslash{}\\_outcome] 0\n",
       "\\item[is\\textbackslash{}\\_arrested] 0\n",
       "\\end{description*}\n"
      ],
      "text/markdown": [
       "stop_date\n",
       ":   0county_name\n",
       ":   0.0750691388214965driver_gender\n",
       ":   0driver_age_raw\n",
       ":   0driver_race\n",
       ":   0violation\n",
       ":   0search_conducted\n",
       ":   0search_type\n",
       ":   0.964538695240189contraband_found\n",
       ":   0.0340145001883559stop_outcome\n",
       ":   0is_arrested\n",
       ":   0\n",
       "\n"
      ],
      "text/plain": [
       "       stop_date      county_name    driver_gender   driver_age_raw \n",
       "      0.00000000       0.07506914       0.00000000       0.00000000 \n",
       "     driver_race        violation search_conducted      search_type \n",
       "      0.00000000       0.00000000       0.00000000       0.96453870 \n",
       "contraband_found     stop_outcome      is_arrested \n",
       "      0.03401450       0.00000000       0.00000000 "
      ]
     },
     "metadata": {},
     "output_type": "display_data"
    }
   ],
   "source": [
    "colMeans(is.na(data))"
   ]
  },
  {
   "cell_type": "code",
   "execution_count": 7,
   "metadata": {
    "_uuid": "9bd94ce2ab1a0e4ea301854c803cb4e8476ca4b7"
   },
   "outputs": [
    {
     "data": {
      "text/html": [
       "<ol class=list-inline>\n",
       "\t<li>7777830</li>\n",
       "\t<li>11</li>\n",
       "</ol>\n"
      ],
      "text/latex": [
       "\\begin{enumerate*}\n",
       "\\item 7777830\n",
       "\\item 11\n",
       "\\end{enumerate*}\n"
      ],
      "text/markdown": [
       "1. 7777830\n",
       "2. 11\n",
       "\n",
       "\n"
      ],
      "text/plain": [
       "[1] 7777830      11"
      ]
     },
     "metadata": {},
     "output_type": "display_data"
    },
    {
     "data": {
      "text/html": [
       "<ol class=list-inline>\n",
       "\t<li>264560</li>\n",
       "\t<li>11</li>\n",
       "</ol>\n"
      ],
      "text/latex": [
       "\\begin{enumerate*}\n",
       "\\item 264560\n",
       "\\item 11\n",
       "\\end{enumerate*}\n"
      ],
      "text/markdown": [
       "1. 264560\n",
       "2. 11\n",
       "\n",
       "\n"
      ],
      "text/plain": [
       "[1] 264560     11"
      ]
     },
     "metadata": {},
     "output_type": "display_data"
    }
   ],
   "source": [
    "dim(data)\n",
    "dim(miss_cntrbnd)"
   ]
  },
  {
   "cell_type": "markdown",
   "metadata": {
    "_uuid": "70ac599c070cb53556330c8a6e8f0dd3258f8028"
   },
   "source": [
    "We don't lose too much.\n",
    "The next block just recodes the variables to be slightly more useful. Take note of the `driver_age_raw` category. We won't be able to fit a model to the entire data without crashing, so we will look at subsets of the data. In particular, we will look at `driver_age_raw` at 2 and 3, which is the 15-25 and 25-32 age bracket, though almost all groups will get a look. We will also recode the violation and the dates. The missing values in `search_type` correspond to when a search was *not* conducted, so we can just add a string indicating that later. We also fill in the missing county name with a string instead of deleting those cases, as the missingness could be informative."
   ]
  },
  {
   "cell_type": "code",
   "execution_count": 8,
   "metadata": {
    "_uuid": "9b14d3daac68773ac760074aa3e72f7d5553d125"
   },
   "outputs": [],
   "source": [
    "data$driver_gender <- (data$driver_gender == 'M') * 1\n",
    "data$search_conducted <- data$search_conducted * 1\n",
    "data$is_arrested <- data$is_arrested * 1\n",
    "data$contraband_found <- data$contraband_found * 1\n",
    "data$stop_date <- as.Date(data$stop_date, '%Y-%m-%d')\n",
    "data$stop_date <- as.yearmon(data$stop_date)\n",
    "data$search_type[data$search_conducted == 1 & is.na(data$search_type)] <- 'None'\n",
    "\n",
    "#looks like a logging error, we remove it\n",
    "data <- data[!(data$driver_age_raw == '7'), ]\n",
    "\n",
    "#relabel the rest\n",
    "data$driver_age_raw[data$driver_age_raw == '0-14'] <- 1\n",
    "data$driver_age_raw[data$driver_age_raw == '15-25'] <- 2\n",
    "data$driver_age_raw[data$driver_age_raw == '25-32'] <- 3\n",
    "data$driver_age_raw[data$driver_age_raw == '33-39'] <- 4\n",
    "data$driver_age_raw[data$driver_age_raw == '40-48'] <- 5\n",
    "data$driver_age_raw[data$driver_age_raw == '49+'] <- 6\n",
    "data$driver_age_raw <- as.numeric(data$driver_age_raw)\n",
    "\n",
    "\n",
    "data$violation[data$violation == 'DUI'] <- 0\n",
    "data$violation[data$violation == 'Equipment'] <- 1\n",
    "data$violation[data$violation == 'Moving violation'] <- 2\n",
    "data$violation[data$violation == 'Other'] <- 3\n",
    "data$violation <- as.numeric(data$violation)\n",
    "\n",
    "data$county_name[is.na(data$county_name)] <- 'Missing'\n",
    "data$count <- 1\n",
    "\n",
    "#data$year <- year(data$stop_date)"
   ]
  },
  {
   "cell_type": "code",
   "execution_count": 9,
   "metadata": {
    "_uuid": "d762ca05af5c8b9ada10dd410f3a04f13f6c5aaf"
   },
   "outputs": [
    {
     "data": {
      "text/html": [
       "<table>\n",
       "<thead><tr><th scope=col>stop_date</th><th scope=col>county_name</th><th scope=col>driver_gender</th><th scope=col>driver_age_raw</th><th scope=col>driver_race</th><th scope=col>violation</th><th scope=col>search_conducted</th><th scope=col>search_type</th><th scope=col>contraband_found</th><th scope=col>stop_outcome</th><th scope=col>is_arrested</th><th scope=col>count</th></tr></thead>\n",
       "<tbody>\n",
       "\t<tr><td>Jul 2009               </td><td>Stanislaus County      </td><td>1                      </td><td>4                      </td><td>Other                  </td><td>3                      </td><td>0                      </td><td>NA                     </td><td> 0                     </td><td>Motorist/Public Service</td><td>0                      </td><td>1                      </td></tr>\n",
       "\t<tr><td>Jul 2009               </td><td>Stanislaus County      </td><td>0                      </td><td>6                      </td><td>Hispanic               </td><td>2                      </td><td>0                      </td><td>NA                     </td><td> 0                     </td><td>CHP 215                </td><td>0                      </td><td>1                      </td></tr>\n",
       "\t<tr><td>Jul 2009               </td><td>Stanislaus County      </td><td>0                      </td><td>4                      </td><td>Hispanic               </td><td>2                      </td><td>1                      </td><td>Inventory              </td><td>NA                     </td><td>CHP 215                </td><td>0                      </td><td>1                      </td></tr>\n",
       "\t<tr><td>Jul 2009               </td><td>Stanislaus County      </td><td>0                      </td><td>3                      </td><td>White                  </td><td>2                      </td><td>0                      </td><td>NA                     </td><td> 0                     </td><td>CHP 215                </td><td>0                      </td><td>1                      </td></tr>\n",
       "\t<tr><td>Jul 2009               </td><td>Stanislaus County      </td><td>1                      </td><td>5                      </td><td>Hispanic               </td><td>2                      </td><td>1                      </td><td>Inventory              </td><td>NA                     </td><td>CHP 215                </td><td>0                      </td><td>1                      </td></tr>\n",
       "\t<tr><td>Jul 2009               </td><td>Stanislaus County      </td><td>1                      </td><td>2                      </td><td>Hispanic               </td><td>2                      </td><td>0                      </td><td>NA                     </td><td> 0                     </td><td>CHP 215                </td><td>0                      </td><td>1                      </td></tr>\n",
       "</tbody>\n",
       "</table>\n"
      ],
      "text/latex": [
       "\\begin{tabular}{r|llllllllllll}\n",
       " stop\\_date & county\\_name & driver\\_gender & driver\\_age\\_raw & driver\\_race & violation & search\\_conducted & search\\_type & contraband\\_found & stop\\_outcome & is\\_arrested & count\\\\\n",
       "\\hline\n",
       "\t Jul 2009                & Stanislaus County       & 1                       & 4                       & Other                   & 3                       & 0                       & NA                      &  0                      & Motorist/Public Service & 0                       & 1                      \\\\\n",
       "\t Jul 2009                & Stanislaus County       & 0                       & 6                       & Hispanic                & 2                       & 0                       & NA                      &  0                      & CHP 215                 & 0                       & 1                      \\\\\n",
       "\t Jul 2009                & Stanislaus County       & 0                       & 4                       & Hispanic                & 2                       & 1                       & Inventory               & NA                      & CHP 215                 & 0                       & 1                      \\\\\n",
       "\t Jul 2009                & Stanislaus County       & 0                       & 3                       & White                   & 2                       & 0                       & NA                      &  0                      & CHP 215                 & 0                       & 1                      \\\\\n",
       "\t Jul 2009                & Stanislaus County       & 1                       & 5                       & Hispanic                & 2                       & 1                       & Inventory               & NA                      & CHP 215                 & 0                       & 1                      \\\\\n",
       "\t Jul 2009                & Stanislaus County       & 1                       & 2                       & Hispanic                & 2                       & 0                       & NA                      &  0                      & CHP 215                 & 0                       & 1                      \\\\\n",
       "\\end{tabular}\n"
      ],
      "text/markdown": [
       "\n",
       "| stop_date | county_name | driver_gender | driver_age_raw | driver_race | violation | search_conducted | search_type | contraband_found | stop_outcome | is_arrested | count |\n",
       "|---|---|---|---|---|---|---|---|---|---|---|---|\n",
       "| Jul 2009                | Stanislaus County       | 1                       | 4                       | Other                   | 3                       | 0                       | NA                      |  0                      | Motorist/Public Service | 0                       | 1                       |\n",
       "| Jul 2009                | Stanislaus County       | 0                       | 6                       | Hispanic                | 2                       | 0                       | NA                      |  0                      | CHP 215                 | 0                       | 1                       |\n",
       "| Jul 2009                | Stanislaus County       | 0                       | 4                       | Hispanic                | 2                       | 1                       | Inventory               | NA                      | CHP 215                 | 0                       | 1                       |\n",
       "| Jul 2009                | Stanislaus County       | 0                       | 3                       | White                   | 2                       | 0                       | NA                      |  0                      | CHP 215                 | 0                       | 1                       |\n",
       "| Jul 2009                | Stanislaus County       | 1                       | 5                       | Hispanic                | 2                       | 1                       | Inventory               | NA                      | CHP 215                 | 0                       | 1                       |\n",
       "| Jul 2009                | Stanislaus County       | 1                       | 2                       | Hispanic                | 2                       | 0                       | NA                      |  0                      | CHP 215                 | 0                       | 1                       |\n",
       "\n"
      ],
      "text/plain": [
       "  stop_date county_name       driver_gender driver_age_raw driver_race\n",
       "1 Jul 2009  Stanislaus County 1             4              Other      \n",
       "2 Jul 2009  Stanislaus County 0             6              Hispanic   \n",
       "3 Jul 2009  Stanislaus County 0             4              Hispanic   \n",
       "4 Jul 2009  Stanislaus County 0             3              White      \n",
       "5 Jul 2009  Stanislaus County 1             5              Hispanic   \n",
       "6 Jul 2009  Stanislaus County 1             2              Hispanic   \n",
       "  violation search_conducted search_type contraband_found\n",
       "1 3         0                NA           0              \n",
       "2 2         0                NA           0              \n",
       "3 2         1                Inventory   NA              \n",
       "4 2         0                NA           0              \n",
       "5 2         1                Inventory   NA              \n",
       "6 2         0                NA           0              \n",
       "  stop_outcome            is_arrested count\n",
       "1 Motorist/Public Service 0           1    \n",
       "2 CHP 215                 0           1    \n",
       "3 CHP 215                 0           1    \n",
       "4 CHP 215                 0           1    \n",
       "5 CHP 215                 0           1    \n",
       "6 CHP 215                 0           1    "
      ]
     },
     "metadata": {},
     "output_type": "display_data"
    }
   ],
   "source": [
    "head(data)"
   ]
  },
  {
   "cell_type": "markdown",
   "metadata": {
    "_uuid": "e81b1c63d30f54e92c36ed6554d7d3d089dc4114"
   },
   "source": [
    "**Description of the data**\n",
    "The data we will work with contains the variables seen in the header above. Most of it is fairly straightforward. `stop_date` and `county_name` give the year and month of the stop. Presently, there is not strong reason to believe that days of the week or month will have a significant effect on stop outcomes (would you believe that Cops give more tickets on a Monday? Maybe, but do you believe it would cause statistically significant differences in practically census-level data?) and so we take the courser date-time to just be the month and year. This also eases plotting down below. Later we will further collapse that into year for the regression models unless a convincing reason is found/given to not do this. The time frame of the data ranges from 2009 to 2016. There are 55 counties in all, if the `\"Missing\"` county is included.\n",
    "\n",
    "`search_conducted` is a binary indicator denoting whether a search was done, where 1 means \"yes\". We also have `search_type` which indicates how/why the search was conducted. Of particular note are the categories `\"Probable Cause\"` and `\"Incident to Arrest\"`.  \n",
    "\n",
    "`contraband_found` is an indicator for whether some paraphilinilia was found. Unfortunately, we do not have data on what the contraband was, but it could range from (say) drugs to weapons.\n",
    "\n",
    "`stop_outcome` is a categorical variable indicating what the end result of the traffic stop was. Of particular note is `\"Verbal Warning\"`, which we will analyze later. \n",
    "\n",
    "Finally, `is_arrested` is clear. It's an indicator whether that person was arrested or not. What is not clear, is why the arrest occurred. It is not true that the arrest always comes after a search, as some individuals were arrested, THEN searched as noted by `\"Incident to Arrest\"'. \n",
    "\n",
    "**Time Series Plotting**\n",
    "\n",
    "We plot some time series trends in the data, grouped by race, after some aggregation to make the data actually readable. (If you try to plot this without aggregation, having thousands of stops on the same day for years makes the data too noisy to interpret).\n"
   ]
  },
  {
   "cell_type": "code",
   "execution_count": 11,
   "metadata": {
    "_uuid": "848a62ab13f506b742d78cddee0515f107138158"
   },
   "outputs": [
    {
     "data": {
      "text/html": [
       "<table>\n",
       "<thead><tr><th scope=col>stop_date</th><th scope=col>driver_race</th><th scope=col>search_conducted</th><th scope=col>is_arrested</th><th scope=col>contraband_found</th><th scope=col>count</th></tr></thead>\n",
       "<tbody>\n",
       "\t<tr><td>Jul 2009</td><td>Other   </td><td> 593    </td><td> 548    </td><td> 20     </td><td> 28827  </td></tr>\n",
       "\t<tr><td>Jul 2009</td><td>Hispanic</td><td>8041    </td><td>5297    </td><td>126     </td><td>140651  </td></tr>\n",
       "\t<tr><td>Jul 2009</td><td>White   </td><td>5075    </td><td>4516    </td><td>187     </td><td>202023  </td></tr>\n",
       "\t<tr><td>Jul 2009</td><td>Black   </td><td>1509    </td><td>1105    </td><td> 63     </td><td> 34718  </td></tr>\n",
       "\t<tr><td>Jul 2009</td><td>Asian   </td><td> 487    </td><td> 503    </td><td> 13     </td><td> 28015  </td></tr>\n",
       "\t<tr><td>Aug 2009</td><td>White   </td><td>5288    </td><td>4810    </td><td>202     </td><td>203804  </td></tr>\n",
       "</tbody>\n",
       "</table>\n"
      ],
      "text/latex": [
       "\\begin{tabular}{r|llllll}\n",
       " stop\\_date & driver\\_race & search\\_conducted & is\\_arrested & contraband\\_found & count\\\\\n",
       "\\hline\n",
       "\t Jul 2009 & Other    &  593     &  548     &  20      &  28827  \\\\\n",
       "\t Jul 2009 & Hispanic & 8041     & 5297     & 126      & 140651  \\\\\n",
       "\t Jul 2009 & White    & 5075     & 4516     & 187      & 202023  \\\\\n",
       "\t Jul 2009 & Black    & 1509     & 1105     &  63      &  34718  \\\\\n",
       "\t Jul 2009 & Asian    &  487     &  503     &  13      &  28015  \\\\\n",
       "\t Aug 2009 & White    & 5288     & 4810     & 202      & 203804  \\\\\n",
       "\\end{tabular}\n"
      ],
      "text/markdown": [
       "\n",
       "| stop_date | driver_race | search_conducted | is_arrested | contraband_found | count |\n",
       "|---|---|---|---|---|---|\n",
       "| Jul 2009 | Other    |  593     |  548     |  20      |  28827   |\n",
       "| Jul 2009 | Hispanic | 8041     | 5297     | 126      | 140651   |\n",
       "| Jul 2009 | White    | 5075     | 4516     | 187      | 202023   |\n",
       "| Jul 2009 | Black    | 1509     | 1105     |  63      |  34718   |\n",
       "| Jul 2009 | Asian    |  487     |  503     |  13      |  28015   |\n",
       "| Aug 2009 | White    | 5288     | 4810     | 202      | 203804   |\n",
       "\n"
      ],
      "text/plain": [
       "  stop_date driver_race search_conducted is_arrested contraband_found count \n",
       "1 Jul 2009  Other        593              548         20               28827\n",
       "2 Jul 2009  Hispanic    8041             5297        126              140651\n",
       "3 Jul 2009  White       5075             4516        187              202023\n",
       "4 Jul 2009  Black       1509             1105         63               34718\n",
       "5 Jul 2009  Asian        487              503         13               28015\n",
       "6 Aug 2009  White       5288             4810        202              203804"
      ]
     },
     "metadata": {},
     "output_type": "display_data"
    }
   ],
   "source": [
    "setDT(data)\n",
    "time_data <- data[, lapply(.SD, sum, na.rm=TRUE),\n",
    "           by=list(stop_date, driver_race),\n",
    "                   .SDcols=c('search_conducted',\n",
    "                             'is_arrested',\n",
    "                             'contraband_found',\n",
    "                             #'contraband_missing',\n",
    "                             'count')]\n",
    "head(time_data)"
   ]
  },
  {
   "cell_type": "code",
   "execution_count": 12,
   "metadata": {
    "_uuid": "9777f59caf5284a5fd7387b8b237cb775019c870"
   },
   "outputs": [
    {
     "name": "stderr",
     "output_type": "stream",
     "text": [
      "Don't know how to automatically pick scale for object of type yearmon. Defaulting to continuous.\n"
     ]
    },
    {
     "data": {},
     "metadata": {},
     "output_type": "display_data"
    },
    {
     "data": {
      "image/png": "[encoded data removed]",
      "text/plain": [
       "plot without title"
      ]
     },
     "metadata": {},
     "output_type": "display_data"
    }
   ],
   "source": [
    "options(repr.plot.width=8, repr.plot.height=4)\n",
    "ggplot(data = time_data, aes(x = stop_date, y = search_conducted / count, colour = driver_race)) + \n",
    "       geom_line(size = 0.60) +\n",
    "       ggtitle('Rates of Searches After Stop') +\n",
    "       xlab('Stop Date') +\n",
    "       ylab('Rate of Searches') +\n",
    "       labs(colour = 'Driver Race')"
   ]
  },
  {
   "cell_type": "code",
   "execution_count": 13,
   "metadata": {
    "_uuid": "1d970fc4ca26d73387a02625b88d0bb0f3dc8914"
   },
   "outputs": [
    {
     "name": "stderr",
     "output_type": "stream",
     "text": [
      "Don't know how to automatically pick scale for object of type yearmon. Defaulting to continuous.\n"
     ]
    },
    {
     "data": {},
     "metadata": {},
     "output_type": "display_data"
    },
    {
     "data": {
      "image/png": "[encoded data removed]",
      "text/plain": [
       "plot without title"
      ]
     },
     "metadata": {},
     "output_type": "display_data"
    }
   ],
   "source": [
    "options(repr.plot.width=8, repr.plot.height=4)\n",
    "ggplot(data = time_data, aes(x = stop_date, y = is_arrested / count, colour = driver_race)) + \n",
    "       geom_line(size = 0.60) +\n",
    "       ggtitle('Rate of Arrest After Stop') +\n",
    "       xlab('Stop Date') +\n",
    "       ylab('Arrest Rate') +\n",
    "       labs(colour = 'Driver Race')"
   ]
  },
  {
   "cell_type": "code",
   "execution_count": 29,
   "metadata": {
    "_uuid": "e6c251597172296f6794c1aa6e8faa5e8c83b4d5"
   },
   "outputs": [
    {
     "name": "stderr",
     "output_type": "stream",
     "text": [
      "Don't know how to automatically pick scale for object of type yearmon. Defaulting to continuous.\n"
     ]
    },
    {
     "data": {},
     "metadata": {},
     "output_type": "display_data"
    },
    {
     "data": {
      "image/png": "[encoded data removed]",
      "text/plain": [
       "plot without title"
      ]
     },
     "metadata": {},
     "output_type": "display_data"
    }
   ],
   "source": [
    "options(repr.plot.width=8, repr.plot.height=4)\n",
    "ggplot(data = time_data,\n",
    "       aes(x = stop_date,\n",
    "           y = contraband_found / (search_conducted),\n",
    "           colour = driver_race)) + \n",
    "       geom_line(size = 0.60) +\n",
    "       ggtitle('(Known) Contraband Hit rates') +\n",
    "       xlab('Stop Date') +\n",
    "       ylab('Hit Rate') +\n",
    "       labs(colour = 'Driver Race')"
   ]
  },
  {
   "cell_type": "code",
   "execution_count": 15,
   "metadata": {
    "_uuid": "92b31ab66e65b38e250ae9f3e7a33d29fb0aa614"
   },
   "outputs": [
    {
     "name": "stderr",
     "output_type": "stream",
     "text": [
      "Don't know how to automatically pick scale for object of type yearmon. Defaulting to continuous.\n"
     ]
    },
    {
     "data": {},
     "metadata": {},
     "output_type": "display_data"
    },
    {
     "data": {
      "image/png": "[encoded data removed]",
      "text/plain": [
       "plot without title"
      ]
     },
     "metadata": {},
     "output_type": "display_data"
    }
   ],
   "source": [
    "options(repr.plot.width=8, repr.plot.height=4)\n",
    "ggplot(data = time_data, aes(x = stop_date, y = count, colour = driver_race)) + \n",
    "       geom_line(size = 0.60) +\n",
    "       ggtitle('Number of stops by Race') +\n",
    "       xlab('Stop Date') +\n",
    "       ylab('Number of Stops') +\n",
    "       labs(colour = 'Driver Race')"
   ]
  },
  {
   "cell_type": "code",
   "execution_count": 16,
   "metadata": {
    "_uuid": "1ebd875abcd67bf3957d06ea6cd22c5cea6945f8"
   },
   "outputs": [
    {
     "name": "stderr",
     "output_type": "stream",
     "text": [
      "Don't know how to automatically pick scale for object of type yearmon. Defaulting to continuous.\n"
     ]
    },
    {
     "data": {},
     "metadata": {},
     "output_type": "display_data"
    },
    {
     "data": {
      "image/png": "[encoded data removed]",
      "text/plain": [
       "plot without title"
      ]
     },
     "metadata": {},
     "output_type": "display_data"
    }
   ],
   "source": [
    "options(repr.plot.width=8, repr.plot.height=4)\n",
    "ggplot(data = time_data, aes(x = stop_date, y = search_conducted, colour = driver_race)) + \n",
    "       geom_line(size = 0.60) +\n",
    "       ggtitle('Number of searches by Race') +\n",
    "       xlab('Stop Date') +\n",
    "       ylab('Number of Searches') +\n",
    "       labs(colour = 'Driver Race')"
   ]
  },
  {
   "cell_type": "code",
   "execution_count": 17,
   "metadata": {
    "_uuid": "75d45258a6721d0000b8da1e9f53b4e3f92a35e3"
   },
   "outputs": [
    {
     "name": "stderr",
     "output_type": "stream",
     "text": [
      "Don't know how to automatically pick scale for object of type yearmon. Defaulting to continuous.\n"
     ]
    },
    {
     "data": {},
     "metadata": {},
     "output_type": "display_data"
    },
    {
     "data": {
      "image/png": "[encoded data removed]",
      "text/plain": [
       "plot without title"
      ]
     },
     "metadata": {},
     "output_type": "display_data"
    }
   ],
   "source": [
    "options(repr.plot.width=8, repr.plot.height=4)\n",
    "ggplot(data = time_data, aes(x = stop_date, y = contraband_found, colour = driver_race)) + \n",
    "       geom_line(size = 0.60) +\n",
    "       ggtitle('Count of contraband by Race') +\n",
    "       xlab('Stop Date') +\n",
    "       ylab('(Known) Contraband Count') +\n",
    "       labs(colour = 'Driver Race')"
   ]
  },
  {
   "cell_type": "code",
   "execution_count": 18,
   "metadata": {
    "_uuid": "77ea9091a42a0be08abed603ae1ac84a35fbfecb"
   },
   "outputs": [
    {
     "data": {
      "text/html": [
       "<dl class=dl-horizontal>\n",
       "\t<dt>time_data</dt>\n",
       "\t\t<dd>7288</dd>\n",
       "\t<dt>miss_cntrbnd</dt>\n",
       "\t\t<dd>20114768</dd>\n",
       "\t<dt>data</dt>\n",
       "\t\t<dd>746680016</dd>\n",
       "</dl>\n"
      ],
      "text/latex": [
       "\\begin{description*}\n",
       "\\item[time\\textbackslash{}\\_data] 7288\n",
       "\\item[miss\\textbackslash{}\\_cntrbnd] 20114768\n",
       "\\item[data] 746680016\n",
       "\\end{description*}\n"
      ],
      "text/markdown": [
       "time_data\n",
       ":   7288miss_cntrbnd\n",
       ":   20114768data\n",
       ":   746680016\n",
       "\n"
      ],
      "text/plain": [
       "   time_data miss_cntrbnd         data \n",
       "        7288     20114768    746680016 "
      ]
     },
     "metadata": {},
     "output_type": "display_data"
    }
   ],
   "source": [
    "sort( sapply(ls(),function(x){object.size(get(x))})) "
   ]
  },
  {
   "cell_type": "markdown",
   "metadata": {
    "_uuid": "63b39a544fccc1066ecd4fda985e3b6250eab75f"
   },
   "source": [
    "**Parameter estimates and simulations**"
   ]
  },
  {
   "cell_type": "code",
   "execution_count": 19,
   "metadata": {
    "_uuid": "a3406ea1558fbdd3d8fa279db37bdc063dbed0bc"
   },
   "outputs": [
    {
     "data": {
      "text/html": [
       "0.697369123116038"
      ],
      "text/latex": [
       "0.697369123116038"
      ],
      "text/markdown": [
       "0.697369123116038"
      ],
      "text/plain": [
       "[1] 0.6973691"
      ]
     },
     "metadata": {},
     "output_type": "display_data"
    }
   ],
   "source": [
    "#proportion of males in the data\n",
    "mean(data$driver_gender)"
   ]
  },
  {
   "cell_type": "code",
   "execution_count": 20,
   "metadata": {
    "_uuid": "19754cbf98f390bc5567214dee1248031a8e6139"
   },
   "outputs": [
    {
     "data": {},
     "metadata": {},
     "output_type": "display_data"
    },
    {
     "data": {
      "image/png": "[encoded data removed]",
      "text/plain": [
       "plot without title"
      ]
     },
     "metadata": {},
     "output_type": "display_data"
    }
   ],
   "source": [
    "n_stops <- dim(data)[1]\n",
    "n_search <- sum(data$search_conducted)\n",
    "n_hits <- sum(data$contraband_found, na.rm = TRUE)\n",
    "srch_rate <- n_search / n_stops\n",
    "hit_rate <- n_hits / n_search\n",
    "#plot the posterior distribution\n",
    "#prior is beta(1/2, 1/2)\n",
    "srch_samples <- rbeta(n = 5000, shape1 = n_search + 1/2, shape2 = n_stops - n_search + 1/2)\n",
    "hit_samples <- rbeta(n = 5000, shape1 = n_hits + 1/2, shape2 = n_search - n_hits + 1/2)\n",
    "\n",
    "ggplot() + \n",
    "    geom_density(aes(x = srch_samples), \n",
    "                   alpha = 0.65, \n",
    "                   fill = 'blue') +\n",
    "    xlab('Search Rate') +\n",
    "    geom_vline(xintercept = srch_rate) +\n",
    "    geom_text(x = srch_rate, label = srch_rate)"
   ]
  },
  {
   "cell_type": "code",
   "execution_count": 21,
   "metadata": {
    "_uuid": "41a41e7bd9fa735d73aa27f39d765159e064b63d"
   },
   "outputs": [
    {
     "data": {},
     "metadata": {},
     "output_type": "display_data"
    },
    {
     "data": {
      "image/png": "[encoded data removed]",
      "text/plain": [
       "plot without title"
      ]
     },
     "metadata": {},
     "output_type": "display_data"
    }
   ],
   "source": [
    "ggplot() + \n",
    "    geom_density(aes(x = hit_samples), \n",
    "                   alpha = 0.45,\n",
    "                   fill = 'red') +\n",
    "    xlab('Hit Rate') +\n",
    "    geom_vline(xintercept = hit_rate) +\n",
    "    geom_text(x = hit_rate, label =  hit_rate)"
   ]
  },
  {
   "cell_type": "code",
   "execution_count": 22,
   "metadata": {
    "_uuid": "3395ddc12c677aec448ed19a92466a273756a5fd"
   },
   "outputs": [
    {
     "data": {},
     "metadata": {},
     "output_type": "display_data"
    },
    {
     "data": {
      "image/png": "[encoded data removed]",
      "text/plain": [
       "plot without title"
      ]
     },
     "metadata": {},
     "output_type": "display_data"
    }
   ],
   "source": [
    "wht_n_stop <- dim(data[data$driver_race == 'White', ])[1]\n",
    "wht_n_search <- sum(data[data$driver_race == 'White', ]$search_conducted)\n",
    "wht_srch_rate <- wht_n_search / wht_n_stop\n",
    "\n",
    "his_n_stop <- dim(data[data$driver_race == 'Hispanic', ])[1]\n",
    "his_n_search <- sum(data[data$driver_race == 'Hispanic', ]$search_conducted)\n",
    "his_srch_rate <- his_n_search / his_n_stop\n",
    "\n",
    "blk_n_stop <- dim(data[data$driver_race == 'Black', ])[1]\n",
    "blk_n_search <- sum(data[data$driver_race == 'Black', ]$search_conducted)\n",
    "blk_srch_rate <- blk_n_search / blk_n_stop\n",
    "\n",
    "asn_n_stop <- dim(data[data$driver_race == 'Asian', ])[1]\n",
    "asn_n_search <- sum(data[data$driver_race == 'Asian', ]$search_conducted)\n",
    "asn_srch_rate <- asn_n_search / asn_n_stop\n",
    "\n",
    "otr_n_stop <- dim(data[data$driver_race == 'Other'])[1]\n",
    "otr_n_search <- sum(data[data$driver_race == 'Other', ]$search_conducted)\n",
    "otr_srch_rate <- otr_n_search / otr_n_stop\n",
    "\n",
    "## MAKE AND PLOT PRIOR DISTRIBUTION OF SEARCH RATES FOR EACH RACE\n",
    "## REPEAT THE SAME PROCESS IN ANOTHER BLOCK FOR THE HIT RATES\n",
    "\n",
    "white_est <- data.frame(length = rbeta(n = 2000, \n",
    "                                       shape1 = wht_n_search + 1/2, \n",
    "                                       shape2 = wht_n_stop - wht_n_search + 1/2))\n",
    "black_est <- data.frame(length = rbeta(n = 2000, \n",
    "                                          shape1 = blk_n_search + 1/2,\n",
    "                                          shape2 = blk_n_stop - blk_n_search + 1/2))\n",
    "\n",
    "hispanic_est <- data.frame(length = rbeta(n = 2000, \n",
    "                                          shape1 = his_n_search + 1/2,\n",
    "                                          shape2 = his_n_stop - his_n_search + 1/2))\n",
    "\n",
    "asian_est <- data.frame(length = rbeta(n = 2000, \n",
    "                                          shape1 = asn_n_search + 1/2,\n",
    "                                          shape2 = asn_n_stop - asn_n_search + 1/2))\n",
    "\n",
    "other_est <- data.frame(length = rbeta(n = 2000, \n",
    "                                          shape1 = otr_n_search + 1/2,\n",
    "                                          shape2 = otr_n_stop - otr_n_search + 1/2))\n",
    "\n",
    "white_est$race <- 'White'\n",
    "black_est$race <- 'Black'\n",
    "asian_est$race <- 'Asian'\n",
    "hispanic_est$race <- 'Hispanic'\n",
    "other_est$race <- 'Other'\n",
    "\n",
    "sim_data <- rbind(white_est, \n",
    "                  black_est, \n",
    "                  asian_est, \n",
    "                  hispanic_est, \n",
    "                  other_est)\n",
    "\n",
    "ggplot(sim_data, aes(length, fill = race)) + \n",
    "    geom_density(alpha = 0.60) +\n",
    "    xlab('Posterior distribution for Pr(Search|Stop & Race)')"
   ]
  },
  {
   "cell_type": "markdown",
   "metadata": {
    "_uuid": "28f2b6f1d38d025b61d802d16b66c815a9d191bd"
   },
   "source": [
    "The following analyses will be done with complete case analysis"
   ]
  },
  {
   "cell_type": "code",
   "execution_count": 23,
   "metadata": {
    "_uuid": "91899703b25fb6ad4b50af4ea246a090dc02211d"
   },
   "outputs": [],
   "source": [
    "data <- data[complete.cases(data[, 'contraband_found']),]"
   ]
  },
  {
   "cell_type": "code",
   "execution_count": 24,
   "metadata": {
    "_uuid": "1f765aa01ef9e591bcdf12df4edbb49e8a365d04"
   },
   "outputs": [
    {
     "data": {},
     "metadata": {},
     "output_type": "display_data"
    },
    {
     "data": {
      "image/png": "[encoded data removed]",
      "text/plain": [
       "plot without title"
      ]
     },
     "metadata": {},
     "output_type": "display_data"
    }
   ],
   "source": [
    "wht_n_hits <- sum(data[data$driver_race == 'White' &\n",
    "                             data$search_conducted == 1, ]$contraband_found)\n",
    "wht_hit_rate <- wht_n_hits / wht_n_search\n",
    "\n",
    "his_n_hits <- sum(data[data$driver_race == 'Hispanic' &\n",
    "                             data$search_conducted == 1, ]$contraband_found)\n",
    "his_hit_rate <- his_n_hits / his_n_search \n",
    "\n",
    "blk_n_hits <- sum(data[data$driver_race == 'Black' &\n",
    "                             data$search_conducted == 1, ]$contraband_found)\n",
    "blk_hit_rate <- blk_n_hits / blk_n_search\n",
    "\n",
    "asn_n_hits <- sum(data[data$driver_race == 'Asian' &\n",
    "                             data$search_conducted == 1, ]$contraband_found)\n",
    "asn_hit_rate <- asn_n_hits / asn_n_search\n",
    "\n",
    "otr_n_hits <- sum(data[data$driver_race == 'Other' & \n",
    "                             data$search_conducted == 1, ]$contraband_found)\n",
    "otr_hit_rate <- otr_n_hits / otr_n_search \n",
    "\n",
    "## MAKE AND PLOT PRIOR DISTRIBUTION OF SEARCH RATES FOR EACH RACE\n",
    "## REPEAT THE SAME PROCESS IN ANOTHER BLOCK FOR THE HIT RATES\n",
    "\n",
    "white_est <- data.frame(length = rbeta(n = 2000, \n",
    "                                       shape1 = wht_n_hits + 1/2, \n",
    "                                       shape2 = wht_n_search - wht_n_hits + 1/2))\n",
    "black_est <- data.frame(length = rbeta(n = 2000, \n",
    "                                          shape1 = blk_n_hits + 1/2,\n",
    "                                          shape2 = blk_n_search - blk_n_hits + 1/2))\n",
    "\n",
    "hispanic_est <- data.frame(length = rbeta(n = 2000, \n",
    "                                          shape1 = his_n_hits + 1/2,\n",
    "                                          shape2 = his_n_search - his_n_hits + 1/2))\n",
    "\n",
    "asian_est <- data.frame(length = rbeta(n = 2000, \n",
    "                                          shape1 = asn_n_hits + 1/2,\n",
    "                                          shape2 = asn_n_search - asn_n_hits + 1/2))\n",
    "\n",
    "other_est <- data.frame(length = rbeta(n = 2000, \n",
    "                                          shape1 = otr_n_hits + 1/2,\n",
    "                                          shape2 = otr_n_search - otr_n_hits + 1/2))\n",
    "\n",
    "white_est$race <- 'White'\n",
    "black_est$race <- 'Black'\n",
    "asian_est$race <- 'Asian'\n",
    "hispanic_est$race <- 'Hispanic'\n",
    "other_est$race <- 'Other'\n",
    "\n",
    "sim_data <- rbind(white_est, \n",
    "                  black_est, \n",
    "                  asian_est, \n",
    "                  hispanic_est, \n",
    "                  other_est)\n",
    "\n",
    "ggplot(sim_data, aes(length, fill = race)) + \n",
    "    geom_density(alpha = 0.60) +\n",
    "    geom_vline(xintercept = wht_hit_rate, linetype = 'dashed') +\n",
    "    geom_vline(xintercept = blk_hit_rate, linetype = 'dashed') +\n",
    "    geom_vline(xintercept = asn_hit_rate, linetype = 'dashed') +\n",
    "    geom_vline(xintercept = otr_hit_rate, linetype = 'dashed') +\n",
    "    geom_vline(xintercept = his_hit_rate, linetype = 'dashed') +\n",
    "    xlab('Posterior distribution for Pr(Contraband|Search & Race)')"
   ]
  },
  {
   "cell_type": "code",
   "execution_count": 25,
   "metadata": {
    "_uuid": "2fab918be5b527c43d7ab2c053db73bc3ecdcacd"
   },
   "outputs": [
    {
     "data": {},
     "metadata": {},
     "output_type": "display_data"
    },
    {
     "data": {
      "image/png": "[encoded data removed]",
      "text/plain": [
       "plot without title"
      ]
     },
     "metadata": {},
     "output_type": "display_data"
    }
   ],
   "source": [
    "wht_n_search <- sum(data[data$driver_race == 'White' &\n",
    "                               data$driver_age_raw == '2', ]$search_conducted)\n",
    "\n",
    "wht_n_hits <- sum(data[data$driver_race == 'White' &\n",
    "                             data$search_conducted == 1 &\n",
    "                             data$driver_age_raw == '2', ]$contraband_found)\n",
    "wht_hit_rate <- wht_n_hits / wht_n_search\n",
    "\n",
    "his_n_search <- sum(data[data$driver_race == 'Hispanic' &\n",
    "                               data$driver_age_raw == '2', ]$search_conducted)\n",
    "\n",
    "his_n_hits <- sum(data[data$driver_race == 'Hispanic' &\n",
    "                             data$search_conducted == 1 &\n",
    "                             data$driver_age_raw == '2', ]$contraband_found)\n",
    "his_hit_rate <- his_n_hits / his_n_search \n",
    "\n",
    "blk_n_search <- sum(data[data$driver_race == 'Black' &\n",
    "                               data$driver_age_raw == '2', ]$search_conducted)\n",
    "\n",
    "blk_n_hits <- sum(data[data$driver_race == 'Black' &\n",
    "                             data$search_conducted == 1 &\n",
    "                             data$driver_age_raw == '2', ]$contraband_found)\n",
    "blk_hit_rate <- blk_n_hits / blk_n_search\n",
    "\n",
    "asn_n_search <- sum(data[data$driver_race == 'Asian' &\n",
    "                               data$driver_age_raw == '2', ]$search_conducted)\n",
    "\n",
    "asn_n_hits <- sum(data[data$driver_race == 'Asian' &\n",
    "                             data$search_conducted == 1 &\n",
    "                             data$driver_age_raw == '2', ]$contraband_found)\n",
    "asn_hit_rate <- asn_n_hits / asn_n_search\n",
    "\n",
    "otr_n_search <- sum(data[data$driver_race == 'Other' & \n",
    "                               data$driver_age_raw == '2', ]$search_conducted)\n",
    "\n",
    "otr_n_hits <- sum(data[data$driver_race == 'Other' & \n",
    "                             data$search_conducted == 1 &\n",
    "                             data$driver_age_raw == '2', ]$contraband_found)\n",
    "otr_hit_rate <- otr_n_hits / otr_n_search \n",
    "\n",
    "## MAKE AND PLOT PRIOR DISTRIBUTION OF SEARCH RATES FOR EACH RACE\n",
    "## REPEAT THE SAME PROCESS IN ANOTHER BLOCK FOR THE HIT RATES\n",
    "\n",
    "white_est <- data.frame(length = rbeta(n = 2000, \n",
    "                                       shape1 = wht_n_hits + 1/2, \n",
    "                                       shape2 = wht_n_search - wht_n_hits + 1/2))\n",
    "black_est <- data.frame(length = rbeta(n = 2000, \n",
    "                                          shape1 = blk_n_hits + 1/2,\n",
    "                                          shape2 = blk_n_search - blk_n_hits + 1/2))\n",
    "\n",
    "hispanic_est <- data.frame(length = rbeta(n = 2000, \n",
    "                                          shape1 = his_n_hits + 1/2,\n",
    "                                          shape2 = his_n_search - his_n_hits + 1/2))\n",
    "\n",
    "asian_est <- data.frame(length = rbeta(n = 2000, \n",
    "                                          shape1 = asn_n_hits + 1/2,\n",
    "                                          shape2 = asn_n_search - asn_n_hits + 1/2))\n",
    "\n",
    "other_est <- data.frame(length = rbeta(n = 2000, \n",
    "                                          shape1 = otr_n_hits + 1/2,\n",
    "                                          shape2 = otr_n_search - otr_n_hits + 1/2))\n",
    "\n",
    "white_est$race <- 'White'\n",
    "black_est$race <- 'Black'\n",
    "asian_est$race <- 'Asian'\n",
    "hispanic_est$race <- 'Hispanic'\n",
    "other_est$race <- 'Other'\n",
    "\n",
    "sim_data <- rbind(white_est, \n",
    "                  black_est, \n",
    "                  asian_est, \n",
    "                  hispanic_est, \n",
    "                  other_est)\n",
    "\n",
    "ggplot(sim_data, aes(length, fill = race)) + \n",
    "    geom_density(alpha = 0.60) +\n",
    "    geom_vline(xintercept = wht_hit_rate, linetype = 'dashed') +\n",
    "    geom_vline(xintercept = blk_hit_rate, linetype = 'dashed') +\n",
    "    geom_vline(xintercept = asn_hit_rate, linetype = 'dashed') +\n",
    "    geom_vline(xintercept = otr_hit_rate, linetype = 'dashed') +\n",
    "    geom_vline(xintercept = his_hit_rate, linetype = 'dashed') +\n",
    "    xlab('Posterior distribution for Pr(Contraband|Search & Race & 15-25 y/o)')"
   ]
  },
  {
   "cell_type": "markdown",
   "metadata": {
    "_uuid": "0def2fd64610809cb8c45d8f61685c4467ecd838"
   },
   "source": [
    "It is possible that the inclusion of individuals under suspicion of DUI may be adding a bias term to our estimates of the search and contraband rate. Suppose that a Police Officer pulls someone over for a DUI, and they actually are impaired. In this case, the officer essentially has probable cause on a silver platter, and will likely go forward with a search after arresting the driver. So, let's have a look at only those who have \"Moving Violations\". I.e., they were speeding, ran a light, or otherwise had an infraction that is fairly common on the road. We will stick to drivers who are 15-25, as they seem to carry contraband at higher rates."
   ]
  },
  {
   "cell_type": "code",
   "execution_count": 26,
   "metadata": {
    "_uuid": "503eb54bcb83fe3480ec9a2cde6244200ba00750"
   },
   "outputs": [
    {
     "data": {},
     "metadata": {},
     "output_type": "display_data"
    },
    {
     "data": {
      "image/png": "[encoded data removed]",
      "text/plain": [
       "plot without title"
      ]
     },
     "metadata": {},
     "output_type": "display_data"
    }
   ],
   "source": [
    "wht_n_search <- sum(data[data$driver_race == 'White' &\n",
    "                               data$driver_age_raw == '2' &\n",
    "                               violation == 2, ]$search_conducted)\n",
    "\n",
    "wht_n_hits <- sum(data[data$driver_race == 'White' &\n",
    "                             data$search_conducted == 1 &\n",
    "                             data$driver_age_raw == '2' &\n",
    "                             violation == 2, ]$contraband_found)\n",
    "wht_hit_rate <- wht_n_hits / wht_n_search\n",
    "\n",
    "his_n_search <- sum(data[data$driver_race == 'Hispanic' &\n",
    "                               data$driver_age_raw == '2' &\n",
    "                               violation == 2, ]$search_conducted)\n",
    "\n",
    "his_n_hits <- sum(data[data$driver_race == 'Hispanic' &\n",
    "                             data$search_conducted == 1 &\n",
    "                             data$driver_age_raw == '2' &\n",
    "                             violation ==2, ]$contraband_found)\n",
    "his_hit_rate <- his_n_hits / his_n_search \n",
    "\n",
    "blk_n_search <- sum(data[data$driver_race == 'Black' &\n",
    "                               data$driver_age_raw == '2' &\n",
    "                               violation == 2, ]$search_conducted)\n",
    "\n",
    "blk_n_hits <- sum(data[data$driver_race == 'Black' &\n",
    "                             data$search_conducted == 1 &\n",
    "                             data$driver_age_raw == '2' &\n",
    "                             violation == 2, ]$contraband_found)\n",
    "blk_hit_rate <- blk_n_hits / blk_n_search\n",
    "\n",
    "asn_n_search <- sum(data[data$driver_race == 'Asian' &\n",
    "                               data$driver_age_raw == '2' &\n",
    "                               violation == 2, ]$search_conducted)\n",
    "\n",
    "asn_n_hits <- sum(data[data$driver_race == 'Asian' &\n",
    "                             data$search_conducted == 1 &\n",
    "                             data$driver_age_raw == '2' &\n",
    "                             violation == 2, ]$contraband_found)\n",
    "asn_hit_rate <- asn_n_hits / asn_n_search\n",
    "\n",
    "otr_n_search <- sum(data[data$driver_race == 'Other' & \n",
    "                               data$driver_age_raw == '2' &\n",
    "                               violation == 2, ]$search_conducted)\n",
    "\n",
    "otr_n_hits <- sum(data[data$driver_race == 'Other' & \n",
    "                             data$search_conducted == 1 &\n",
    "                             data$driver_age_raw == '2' &\n",
    "                             violation ==2, ]$contraband_found)\n",
    "otr_hit_rate <- otr_n_hits / otr_n_search \n",
    "\n",
    "## MAKE AND PLOT PRIOR DISTRIBUTION OF SEARCH RATES FOR EACH RACE\n",
    "## REPEAT THE SAME PROCESS IN ANOTHER BLOCK FOR THE HIT RATES\n",
    "\n",
    "white_est <- data.frame(length = rbeta(n = 5000, \n",
    "                                       shape1 = wht_n_hits + 1/2, \n",
    "                                       shape2 = wht_n_search - wht_n_hits + 1/2))\n",
    "black_est <- data.frame(length = rbeta(n = 5000, \n",
    "                                          shape1 = blk_n_hits + 1/2,\n",
    "                                          shape2 = blk_n_search - blk_n_hits + 1/2))\n",
    "\n",
    "hispanic_est <- data.frame(length = rbeta(n = 5000, \n",
    "                                          shape1 = his_n_hits + 1/2,\n",
    "                                          shape2 = his_n_search - his_n_hits + 1/2))\n",
    "\n",
    "asian_est <- data.frame(length = rbeta(n = 5000, \n",
    "                                          shape1 = asn_n_hits + 1/2,\n",
    "                                          shape2 = asn_n_search - asn_n_hits + 1/2))\n",
    "\n",
    "other_est <- data.frame(length = rbeta(n = 5000, \n",
    "                                          shape1 = otr_n_hits + 1/2,\n",
    "                                          shape2 = otr_n_search - otr_n_hits + 1/2))\n",
    "\n",
    "white_est$race <- 'White'\n",
    "black_est$race <- 'Black'\n",
    "asian_est$race <- 'Asian'\n",
    "hispanic_est$race <- 'Hispanic'\n",
    "other_est$race <- 'Other'\n",
    "\n",
    "sim_data <- rbind(white_est, \n",
    "                  black_est, \n",
    "                  asian_est, \n",
    "                  hispanic_est, \n",
    "                  other_est)\n",
    "\n",
    "ggplot(sim_data, aes(length, fill = race)) + \n",
    "    geom_density(alpha = 0.60) +\n",
    "    geom_vline(xintercept = wht_hit_rate, linetype = 'dashed') +\n",
    "    geom_vline(xintercept = blk_hit_rate, linetype = 'dashed') +\n",
    "    geom_vline(xintercept = asn_hit_rate, linetype = 'dashed') +\n",
    "    geom_vline(xintercept = otr_hit_rate, linetype = 'dashed') +\n",
    "    geom_vline(xintercept = his_hit_rate, linetype = 'dashed') +\n",
    "    xlab('Posterior distribution for Pr(Contraband|Search & Race & Age & Moving Violation)')"
   ]
  },
  {
   "cell_type": "markdown",
   "metadata": {
    "_uuid": "334bbee07598d69a8d5ffceef2f9802dbd8899a7"
   },
   "source": [
    "What if we only look at those individuals who were searched because of \"probable cause\"? This is an interesting one, because \"probable cause\" is essentially a judgement made by the officer. If the officer sees a certain amount of evidence of wrong doing, they then may decide that they have \"probable cause\". The long running joke here is the officer stating \"I smell weed in your car\", then conducting a search, when maurijuana may or may not actually be present.\n",
    "\n",
    "More or less, these are searches that were made up to the officer's personal discretion, as opposed to a search conducted in the face of a confirmed DUI, which happens essentially automatically. "
   ]
  },
  {
   "cell_type": "code",
   "execution_count": 27,
   "metadata": {
    "_uuid": "d33ab5815df87c17a50261e6fd735443edcdeb55"
   },
   "outputs": [
    {
     "data": {
      "text/html": [
       "<ol class=list-inline>\n",
       "\t<li>NA</li>\n",
       "\t<li>'Probable Cause'</li>\n",
       "\t<li>'Consent'</li>\n",
       "</ol>\n"
      ],
      "text/latex": [
       "\\begin{enumerate*}\n",
       "\\item NA\n",
       "\\item 'Probable Cause'\n",
       "\\item 'Consent'\n",
       "\\end{enumerate*}\n"
      ],
      "text/markdown": [
       "1. NA\n",
       "2. 'Probable Cause'\n",
       "3. 'Consent'\n",
       "\n",
       "\n"
      ],
      "text/plain": [
       "[1] NA               \"Probable Cause\" \"Consent\"       "
      ]
     },
     "metadata": {},
     "output_type": "display_data"
    },
    {
     "data": {
      "text/html": [
       "<ol class=list-inline>\n",
       "\t<li>10087</li>\n",
       "\t<li>12</li>\n",
       "</ol>\n"
      ],
      "text/latex": [
       "\\begin{enumerate*}\n",
       "\\item 10087\n",
       "\\item 12\n",
       "\\end{enumerate*}\n"
      ],
      "text/markdown": [
       "1. 10087\n",
       "2. 12\n",
       "\n",
       "\n"
      ],
      "text/plain": [
       "[1] 10087    12"
      ]
     },
     "metadata": {},
     "output_type": "display_data"
    }
   ],
   "source": [
    "unique(data$search_type)\n",
    "dim(data[data$search_type == 'Probable Cause',])"
   ]
  },
  {
   "cell_type": "code",
   "execution_count": 28,
   "metadata": {
    "_uuid": "b85712ecaf4223437fdf20dccf3ba9263b114622"
   },
   "outputs": [
    {
     "data": {},
     "metadata": {},
     "output_type": "display_data"
    },
    {
     "data": {
      "image/png": "[encoded data removed]",
      "text/plain": [
       "plot without title"
      ]
     },
     "metadata": {},
     "output_type": "display_data"
    }
   ],
   "source": [
    "wht_n_search <- sum(data[data$driver_race == 'White' &\n",
    "                         data$search_type == 'Probable Cause', ]$search_conducted)\n",
    "\n",
    "wht_n_hits <- sum(data[data$driver_race == 'White' &\n",
    "                             data$search_conducted == 1 &\n",
    "                             data$search_type == 'Probable Cause', ]$contraband_found)\n",
    "wht_hit_rate <- wht_n_hits / wht_n_search\n",
    "\n",
    "his_n_search <- sum(data[data$driver_race == 'Hispanic' &\n",
    "                         data$search_type == 'Probable Cause', ]$search_conducted)\n",
    "\n",
    "his_n_hits <- sum(data[data$driver_race == 'Hispanic' &\n",
    "                       data$search_conducted == 1 &\n",
    "                       data$search_type == 'Probable Cause', ]$contraband_found)\n",
    "his_hit_rate <- his_n_hits / his_n_search \n",
    "\n",
    "blk_n_search <- sum(data[data$driver_race == 'Black' &\n",
    "                         data$search_type == 'Probable Cause', ]$search_conducted)\n",
    "\n",
    "blk_n_hits <- sum(data[data$driver_race == 'Black' &\n",
    "                       data$search_conducted == 1 &\n",
    "                       data$search_type == 'Probable Cause', ]$contraband_found)\n",
    "blk_hit_rate <- blk_n_hits / blk_n_search\n",
    "\n",
    "asn_n_search <- sum(data[data$driver_race == 'Asian' &\n",
    "                         data$search_type == 'Probable Cause', ]$search_conducted)\n",
    "\n",
    "asn_n_hits <- sum(data[data$driver_race == 'Asian' &\n",
    "                       data$search_conducted == 1 &\n",
    "                       data$search_type == 'Probable Cause', ]$contraband_found)\n",
    "asn_hit_rate <- asn_n_hits / asn_n_search\n",
    "\n",
    "otr_n_search <- sum(data[data$driver_race == 'Other' & \n",
    "                         data$search_type == 'Probable Cause', ]$search_conducted)\n",
    "\n",
    "otr_n_hits <- sum(data[data$driver_race == 'Other' & \n",
    "                       data$search_conducted == 1 &\n",
    "                       data$search_type == 'Probable Cause', ]$contraband_found)\n",
    "otr_hit_rate <- otr_n_hits / otr_n_search \n",
    "\n",
    "## MAKE AND PLOT PRIOR DISTRIBUTION OF SEARCH RATES FOR EACH RACE\n",
    "## REPEAT THE SAME PROCESS IN ANOTHER BLOCK FOR THE HIT RATES\n",
    "\n",
    "white_est <- data.frame(length = rbeta(n = 2000, \n",
    "                                       shape1 = wht_n_hits + 1/2, \n",
    "                                       shape2 = wht_n_search - wht_n_hits + 1/2))\n",
    "black_est <- data.frame(length = rbeta(n = 2000, \n",
    "                                          shape1 = blk_n_hits + 1/2,\n",
    "                                          shape2 = blk_n_search - blk_n_hits + 1/2))\n",
    "\n",
    "hispanic_est <- data.frame(length = rbeta(n = 2000, \n",
    "                                          shape1 = his_n_hits + 1/2,\n",
    "                                          shape2 = his_n_search - his_n_hits + 1/2))\n",
    "\n",
    "asian_est <- data.frame(length = rbeta(n = 2000, \n",
    "                                          shape1 = asn_n_hits + 1/2,\n",
    "                                          shape2 = asn_n_search - asn_n_hits + 1/2))\n",
    "\n",
    "other_est <- data.frame(length = rbeta(n = 2000, \n",
    "                                          shape1 = otr_n_hits + 1/2,\n",
    "                                          shape2 = otr_n_search - otr_n_hits + 1/2))\n",
    "\n",
    "white_est$race <- 'White'\n",
    "black_est$race <- 'Black'\n",
    "asian_est$race <- 'Asian'\n",
    "hispanic_est$race <- 'Hispanic'\n",
    "other_est$race <- 'Other'\n",
    "\n",
    "sim_data <- rbind(white_est, \n",
    "                  black_est, \n",
    "                  asian_est, \n",
    "                  hispanic_est, \n",
    "                  other_est)\n",
    "\n",
    "ggplot(sim_data, aes(length, fill = race)) + \n",
    "    geom_density(alpha = 0.60) +\n",
    "    geom_vline(xintercept = wht_hit_rate, linetype = 'dashed') +\n",
    "    geom_vline(xintercept = blk_hit_rate, linetype = 'dashed') +\n",
    "    geom_vline(xintercept = asn_hit_rate, linetype = 'dashed') +\n",
    "    geom_vline(xintercept = otr_hit_rate, linetype = 'dashed') +\n",
    "    geom_vline(xintercept = his_hit_rate, linetype = 'dashed') +\n",
    "    xlab('Posterior distribution for Pr(Contraband|Search & Race & Probable Cause)')"
   ]
  },
  {
   "cell_type": "markdown",
   "metadata": {
    "_uuid": "42df3beb76ad4040b9d0e1704e4d82c943738f1b"
   },
   "source": [
    "####TODO: impute missing values, rerun visualizations. Possibly use propensity scores?"
   ]
  }
 ],
 "metadata": {
  "kernelspec": {
   "display_name": "R",
   "language": "R",
   "name": "ir"
  },
  "language_info": {
   "codemirror_mode": "r",
   "file_extension": ".r",
   "mimetype": "text/x-r-source",
   "name": "R",
   "pygments_lexer": "r",
   "version": "3.5.1"
  }
 },
 "nbformat": 4,
 "nbformat_minor": 1
}
