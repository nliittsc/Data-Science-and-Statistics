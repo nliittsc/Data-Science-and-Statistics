{
 "cells": [
  {
   "cell_type": "code",
   "execution_count": 144,
   "metadata": {},
   "outputs": [],
   "source": [
    "import pandas as pd\n",
    "import numpy as np\n",
    "import matplotlib.pyplot as plt\n",
    "import seaborn as sns\n",
    "import math\n",
    "from collections import defaultdict\n",
    "import nltk\n",
    "import string\n",
    "from nltk.corpus import stopwords\n",
    "import scipy.stats as ss\n",
    "from scipy.special import btdtri\n",
    "plt.style.use('ggplot')"
   ]
  },
  {
   "cell_type": "code",
   "execution_count": 174,
   "metadata": {},
   "outputs": [
    {
     "name": "stdout",
     "output_type": "stream",
     "text": [
      "[nltk_data] Downloading package stopwords to\n",
      "[nltk_data]     C:\\Users\\acros\\AppData\\Roaming\\nltk_data...\n",
      "[nltk_data]   Package stopwords is already up-to-date!\n",
      "[nltk_data] Downloading package punkt to\n",
      "[nltk_data]     C:\\Users\\acros\\AppData\\Roaming\\nltk_data...\n",
      "[nltk_data]   Unzipping tokenizers\\punkt.zip.\n"
     ]
    },
    {
     "data": {
      "text/plain": [
       "True"
      ]
     },
     "execution_count": 174,
     "metadata": {},
     "output_type": "execute_result"
    }
   ],
   "source": [
    "nltk.download('stopwords')\n",
    "nltk.download('punkt')"
   ]
  },
  {
   "cell_type": "code",
   "execution_count": 2,
   "metadata": {},
   "outputs": [
    {
     "name": "stdout",
     "output_type": "stream",
     "text": [
      "Reading in data...\n",
      "Done.\n",
      "Wall time: 4.38 s\n"
     ]
    }
   ],
   "source": [
    "%%time\n",
    "print(\"Reading in data...\")\n",
    "data = pd.read_csv('train.csv.zip')\n",
    "print('Done.')"
   ]
  },
  {
   "cell_type": "code",
   "execution_count": 3,
   "metadata": {},
   "outputs": [
    {
     "data": {
      "text/plain": [
       "(1306122, 3)"
      ]
     },
     "execution_count": 3,
     "metadata": {},
     "output_type": "execute_result"
    }
   ],
   "source": [
    "data.shape"
   ]
  },
  {
   "cell_type": "code",
   "execution_count": 4,
   "metadata": {},
   "outputs": [
    {
     "data": {
      "text/html": [
       "<div>\n",
       "<style scoped>\n",
       "    .dataframe tbody tr th:only-of-type {\n",
       "        vertical-align: middle;\n",
       "    }\n",
       "\n",
       "    .dataframe tbody tr th {\n",
       "        vertical-align: top;\n",
       "    }\n",
       "\n",
       "    .dataframe thead th {\n",
       "        text-align: right;\n",
       "    }\n",
       "</style>\n",
       "<table border=\"1\" class=\"dataframe\">\n",
       "  <thead>\n",
       "    <tr style=\"text-align: right;\">\n",
       "      <th></th>\n",
       "      <th>qid</th>\n",
       "      <th>question_text</th>\n",
       "      <th>target</th>\n",
       "    </tr>\n",
       "  </thead>\n",
       "  <tbody>\n",
       "    <tr>\n",
       "      <th>0</th>\n",
       "      <td>00002165364db923c7e6</td>\n",
       "      <td>How did Quebec nationalists see their province...</td>\n",
       "      <td>0</td>\n",
       "    </tr>\n",
       "    <tr>\n",
       "      <th>1</th>\n",
       "      <td>000032939017120e6e44</td>\n",
       "      <td>Do you have an adopted dog, how would you enco...</td>\n",
       "      <td>0</td>\n",
       "    </tr>\n",
       "    <tr>\n",
       "      <th>2</th>\n",
       "      <td>0000412ca6e4628ce2cf</td>\n",
       "      <td>Why does velocity affect time? Does velocity a...</td>\n",
       "      <td>0</td>\n",
       "    </tr>\n",
       "    <tr>\n",
       "      <th>3</th>\n",
       "      <td>000042bf85aa498cd78e</td>\n",
       "      <td>How did Otto von Guericke used the Magdeburg h...</td>\n",
       "      <td>0</td>\n",
       "    </tr>\n",
       "    <tr>\n",
       "      <th>4</th>\n",
       "      <td>0000455dfa3e01eae3af</td>\n",
       "      <td>Can I convert montra helicon D to a mountain b...</td>\n",
       "      <td>0</td>\n",
       "    </tr>\n",
       "    <tr>\n",
       "      <th>5</th>\n",
       "      <td>00004f9a462a357c33be</td>\n",
       "      <td>Is Gaza slowly becoming Auschwitz, Dachau or T...</td>\n",
       "      <td>0</td>\n",
       "    </tr>\n",
       "    <tr>\n",
       "      <th>6</th>\n",
       "      <td>00005059a06ee19e11ad</td>\n",
       "      <td>Why does Quora automatically ban conservative ...</td>\n",
       "      <td>0</td>\n",
       "    </tr>\n",
       "    <tr>\n",
       "      <th>7</th>\n",
       "      <td>0000559f875832745e2e</td>\n",
       "      <td>Is it crazy if I wash or wipe my groceries off...</td>\n",
       "      <td>0</td>\n",
       "    </tr>\n",
       "    <tr>\n",
       "      <th>8</th>\n",
       "      <td>00005bd3426b2d0c8305</td>\n",
       "      <td>Is there such a thing as dressing moderately, ...</td>\n",
       "      <td>0</td>\n",
       "    </tr>\n",
       "    <tr>\n",
       "      <th>9</th>\n",
       "      <td>00006e6928c5df60eacb</td>\n",
       "      <td>Is it just me or have you ever been in this ph...</td>\n",
       "      <td>0</td>\n",
       "    </tr>\n",
       "  </tbody>\n",
       "</table>\n",
       "</div>"
      ],
      "text/plain": [
       "                    qid                                      question_text  \\\n",
       "0  00002165364db923c7e6  How did Quebec nationalists see their province...   \n",
       "1  000032939017120e6e44  Do you have an adopted dog, how would you enco...   \n",
       "2  0000412ca6e4628ce2cf  Why does velocity affect time? Does velocity a...   \n",
       "3  000042bf85aa498cd78e  How did Otto von Guericke used the Magdeburg h...   \n",
       "4  0000455dfa3e01eae3af  Can I convert montra helicon D to a mountain b...   \n",
       "5  00004f9a462a357c33be  Is Gaza slowly becoming Auschwitz, Dachau or T...   \n",
       "6  00005059a06ee19e11ad  Why does Quora automatically ban conservative ...   \n",
       "7  0000559f875832745e2e  Is it crazy if I wash or wipe my groceries off...   \n",
       "8  00005bd3426b2d0c8305  Is there such a thing as dressing moderately, ...   \n",
       "9  00006e6928c5df60eacb  Is it just me or have you ever been in this ph...   \n",
       "\n",
       "   target  \n",
       "0       0  \n",
       "1       0  \n",
       "2       0  \n",
       "3       0  \n",
       "4       0  \n",
       "5       0  \n",
       "6       0  \n",
       "7       0  \n",
       "8       0  \n",
       "9       0  "
      ]
     },
     "execution_count": 4,
     "metadata": {},
     "output_type": "execute_result"
    }
   ],
   "source": [
    "data.head(10)"
   ]
  },
  {
   "cell_type": "markdown",
   "metadata": {},
   "source": [
    "### Checking the balance of the target label"
   ]
  },
  {
   "cell_type": "code",
   "execution_count": 5,
   "metadata": {},
   "outputs": [
    {
     "data": {
      "image/png": "[encoded data removed]",
      "text/plain": [
       "<Figure size 432x288 with 1 Axes>"
      ]
     },
     "metadata": {
      "needs_background": "light"
     },
     "output_type": "display_data"
    }
   ],
   "source": [
    "figsize = (10, 7)\n",
    "sns.countplot(x = 'target', data = data)\n",
    "plt.show()"
   ]
  },
  {
   "cell_type": "code",
   "execution_count": 6,
   "metadata": {},
   "outputs": [
    {
     "name": "stdout",
     "output_type": "stream",
     "text": [
      "The positive to negative label ratio in the training data is 40405:612656\n"
     ]
    }
   ],
   "source": [
    "#ratio of positive class to negative class\n",
    "positive_count = len(data[data.target == 1])\n",
    "negative_count = len(data[data.target == 0])\n",
    "gc_divisor = math.gcd(negative_count, positive_count) \n",
    "positive_count = positive_count / gc_divisor\n",
    "negative_count = negative_count /gc_divisor\n",
    "\n",
    "print(\"The positive to negative label ratio in the training data is %s:%s\" % (int(positive_count), int(negative_count)))"
   ]
  },
  {
   "cell_type": "code",
   "execution_count": 60,
   "metadata": {},
   "outputs": [
    {
     "name": "stdout",
     "output_type": "stream",
     "text": [
      "The proportion of positive labels in the training data is 0.06187 with standard error 0.00021\n"
     ]
    }
   ],
   "source": [
    "p = data.target.mean()\n",
    "q = 1 - p\n",
    "std_error = np.sqrt(p * q / len(data))\n",
    "std_error = round(std_error, 5)\n",
    "proportion = round(p, 5)\n",
    "print(\"The proportion of positive labels in the training data is %s with standard error %s\" % (proportion,  std_error))"
   ]
  },
  {
   "cell_type": "code",
   "execution_count": 65,
   "metadata": {},
   "outputs": [
    {
     "name": "stdout",
     "output_type": "stream",
     "text": [
      "The 95 percent confidence interval for the mean is (0.061459, 0.062282)\n"
     ]
    }
   ],
   "source": [
    "lowerConfidence = round(p - 1.96 * std_error, 6)\n",
    "upperConfidence = round(p + 1.96 * std_error, 6)\n",
    "print(\"The 95 percent confidence interval for the mean is (%s, %s)\" % (lowerConfidence, upperConfidence))"
   ]
  },
  {
   "cell_type": "markdown",
   "metadata": {},
   "source": [
    "## For fun:\n",
    "#### It is well known in statistics that normal-theory confidence intervals can be inaccurate for probabilities close to 0 or 1\n",
    "Our proportion here, from a statistical point of view, can be seen as the probability of a success given some sequence of trials. Or, rather, the probability a comment on Quora is an \"insincere comment\". \n",
    "\n",
    "$p$ is fairly close to 0, so it may be more informative to try a different kind of interval. One common recommendation is the Bayesian Jeffrey's interval.\n",
    "The prior distribution in this case is the non-informative Jeffrey's prior, which is a Beta distribution with parameters $(1/2, 1/2)$. The plot looks like this:"
   ]
  },
  {
   "cell_type": "code",
   "execution_count": 122,
   "metadata": {},
   "outputs": [
    {
     "data": {
      "image/png": "[encoded data removed]",
      "text/plain": [
       "<Figure size 432x288 with 1 Axes>"
      ]
     },
     "metadata": {},
     "output_type": "display_data"
    }
   ],
   "source": [
    "x = np.linspace(-5, 5, 1000)\n",
    "alpha = 1/2\n",
    "beta = 1/2\n",
    "#generate prior distribution and plot it\n",
    "y = ss.beta.pdf(x, alpha, beta)\n",
    "plt.xlim((0, 1))\n",
    "plt.plot(x, y, label='Prior Distribution')\n",
    "plt.legend();"
   ]
  },
  {
   "cell_type": "markdown",
   "metadata": {},
   "source": [
    "The posterior distribution is then given as a beta distribution with parameters $( X + 1/2, N - X + 1/2)$, where $X$ is the number of \"positive\" trials, and $N$ is the number of trials. In our case, $X$ is the number of positive labels and $N$ is the number of data points. This is the Bayesian \"updating\" in practice."
   ]
  },
  {
   "cell_type": "code",
   "execution_count": 130,
   "metadata": {},
   "outputs": [
    {
     "data": {
      "image/png": "[encoded data removed]",
      "text/plain": [
       "<Figure size 432x288 with 1 Axes>"
      ]
     },
     "metadata": {},
     "output_type": "display_data"
    }
   ],
   "source": [
    "x = np.linspace(-5, 5, 1000)\n",
    "X = data.target.sum()\n",
    "N = len(data)\n",
    "alpha = X + 1/2\n",
    "beta = N - X + 1/2\n",
    "\n",
    "y = ss.beta.pdf(x, alpha, beta)\n",
    "plt.xlim((-0.01, 1))\n",
    "plt.plot(x, y, label='Posterior')\n",
    "plt.legend();"
   ]
  },
  {
   "cell_type": "markdown",
   "metadata": {},
   "source": [
    "The density is centered in one point, because we have a large amount of data, so the posterior distribution becomes quite precise. The prior we used is non-informative, and so lets the data speak for itself. The 95% credible interval is now the interval that consists of the 2.5% and 97.5% quantiles of the distribution. It is computed with the `beta.ppf()` in Python."
   ]
  },
  {
   "cell_type": "code",
   "execution_count": 120,
   "metadata": {},
   "outputs": [
    {
     "data": {
      "text/plain": [
       "array([0.06145798, 0.06228432])"
      ]
     },
     "execution_count": 120,
     "metadata": {},
     "output_type": "execute_result"
    }
   ],
   "source": [
    "#95% credible interval\n",
    "ss.beta.ppf([0.025, 0.975], alpha, beta)"
   ]
  },
  {
   "cell_type": "markdown",
   "metadata": {},
   "source": [
    "We get nearly the same result. This is intuitive, as we have over a million data points!"
   ]
  },
  {
   "cell_type": "markdown",
   "metadata": {},
   "source": [
    "##### We can see that less than 10% of the data consists of positive labels\n",
    "However, more than 5% of the data consists of positive labels. We could say our data set is moderately imbalanced, thus classifiers should likely account for this imbalance, assuming a similar distribution in the test set. Note that accuracy would be a poor metric of performance here, since predicting all labels to be negative will achieve over 90% accuracy.\n",
    "\n",
    "Now do we have any duplicate qustions?"
   ]
  },
  {
   "cell_type": "code",
   "execution_count": 8,
   "metadata": {},
   "outputs": [
    {
     "data": {
      "text/plain": [
       "1306122"
      ]
     },
     "execution_count": 8,
     "metadata": {},
     "output_type": "execute_result"
    }
   ],
   "source": [
    "# number of unique question IDs\n",
    "data.qid.nunique()"
   ]
  },
  {
   "cell_type": "code",
   "execution_count": 9,
   "metadata": {},
   "outputs": [
    {
     "data": {
      "text/plain": [
       "1306122"
      ]
     },
     "execution_count": 9,
     "metadata": {},
     "output_type": "execute_result"
    }
   ],
   "source": [
    "#number of data points\n",
    "len(data)"
   ]
  },
  {
   "cell_type": "markdown",
   "metadata": {},
   "source": [
    "### There appear to be no duplicate questions\n",
    "\n",
    "Let's now look at some statistics related to the questions themselves. We'll show with and without removed stop words."
   ]
  },
  {
   "cell_type": "code",
   "execution_count": 269,
   "metadata": {},
   "outputs": [
    {
     "name": "stdout",
     "output_type": "stream",
     "text": [
      "258289\n"
     ]
    }
   ],
   "source": [
    "wordCount = defaultdict(int)\n",
    "punctuation = set(string.punctuation)\n",
    "def word_counter(d):\n",
    "    r = ''.join([c for c in d.lower() if not c in punctuation])\n",
    "    for w in r.split():\n",
    "        #w = stemmer.stem(w) # with stemming\n",
    "        wordCount[w] += 1\n",
    "\n",
    "data.question_text.apply(word_counter)\n",
    "print(len(wordCount))"
   ]
  },
  {
   "cell_type": "code",
   "execution_count": 270,
   "metadata": {},
   "outputs": [
    {
     "name": "stdout",
     "output_type": "stream",
     "text": [
      "The mean word frequency is 64.673, with standard devation 2898.658, standard error 5.704\n"
     ]
    }
   ],
   "source": [
    "#compute the mean and standard errors for the word frequency\n",
    "word_frequencies = np.asarray(list(wordCount.values()))\n",
    "mean_frequency = round(word_frequencies.mean(), 3)\n",
    "\n",
    "std_dev = round(np.std(word_frequencies), 3)\n",
    "\n",
    "std_error = round(std_dev / np.sqrt( len(word_frequencies)), 3)\n",
    "print(\"The mean word frequency is %s, with standard devation %s, standard error %s\" %\n",
    "     (mean_frequency, std_dev, std_error))"
   ]
  },
  {
   "cell_type": "code",
   "execution_count": 271,
   "metadata": {},
   "outputs": [
    {
     "name": "stdout",
     "output_type": "stream",
     "text": [
      "The 95 percent confidence interval is (53.49316, 75.85284)\n"
     ]
    }
   ],
   "source": [
    "lowerConfidence = mean_frequency - 1.96 * std_error\n",
    "upperConfidence = mean_frequency + 1.96 * std_error\n",
    "print(\"The 95 percent confidence interval is (%s, %s)\" % (lowerConfidence, upperConfidence))"
   ]
  },
  {
   "cell_type": "markdown",
   "metadata": {},
   "source": [
    "What does the distribution look like?"
   ]
  },
  {
   "cell_type": "code",
   "execution_count": 281,
   "metadata": {},
   "outputs": [
    {
     "data": {
      "image/png": "[encoded data removed]",
      "text/plain": [
       "<Figure size 432x288 with 1 Axes>"
      ]
     },
     "metadata": {},
     "output_type": "display_data"
    }
   ],
   "source": [
    "sns.distplot(word_frequencies, color = 'red')\n",
    "plt.xlabel('Frequency of words')\n",
    "plt.ylabel('Density')\n",
    "plt.show()"
   ]
  },
  {
   "cell_type": "markdown",
   "metadata": {},
   "source": [
    "The x-axis corresponds to the word frequencies in our data, the y-axis is a relative measure of density. (Higher bars = that particular frequency was more common)\n",
    "The word frequencies are extremely skewed, which is why the plot looks weird."
   ]
  },
  {
   "cell_type": "code",
   "execution_count": 282,
   "metadata": {},
   "outputs": [
    {
     "data": {
      "text/plain": [
       "665465"
      ]
     },
     "execution_count": 282,
     "metadata": {},
     "output_type": "execute_result"
    }
   ],
   "source": [
    "word_frequencies.max()"
   ]
  },
  {
   "cell_type": "code",
   "execution_count": 283,
   "metadata": {},
   "outputs": [
    {
     "data": {
      "text/plain": [
       "1"
      ]
     },
     "execution_count": 283,
     "metadata": {},
     "output_type": "execute_result"
    }
   ],
   "source": [
    "word_frequencies.min()"
   ]
  },
  {
   "cell_type": "code",
   "execution_count": 284,
   "metadata": {},
   "outputs": [
    {
     "data": {
      "text/plain": [
       "1638"
      ]
     },
     "execution_count": 284,
     "metadata": {},
     "output_type": "execute_result"
    }
   ],
   "source": [
    "len(word_frequencies[word_frequencies >= 1000])"
   ]
  },
  {
   "cell_type": "markdown",
   "metadata": {},
   "source": [
    "The minimum frequency of a word is 1, the maximum is nearly 700,000. This is an extreme range, which is why the standard deviation was so high. Moreover, less than 2000 words actually show up more than 1000 times across all quora comments. These must be very common words used in every day speech.\n",
    "\n",
    "We can trim the data and see if we can get a more sensible plot. Let's stick to frequencies a little closer to the mean."
   ]
  },
  {
   "cell_type": "code",
   "execution_count": 296,
   "metadata": {},
   "outputs": [
    {
     "data": {
      "image/png": "[encoded data removed]",
      "text/plain": [
       "<Figure size 432x288 with 1 Axes>"
      ]
     },
     "metadata": {},
     "output_type": "display_data"
    }
   ],
   "source": [
    "sns.distplot(word_frequencies[word_frequencies < 100], color = 'red')\n",
    "plt.xlabel('Frequency of words')\n",
    "plt.ylabel('Density')\n",
    "plt.show()"
   ]
  },
  {
   "cell_type": "markdown",
   "metadata": {},
   "source": [
    "Still extremely skewed. The vast majority of words in our dictionary appear less than 20 times across. That means each quora comment uses some vocabulary that none of the rest share. That can be useful, however it could *potentially* hurt any model's generalization. Since the words appear so infrequently, there may be no other quora comments with the same words in the test set. We should think carefully about what to do with words like this.\n",
    "\n",
    "Let's try trimming again."
   ]
  },
  {
   "cell_type": "code",
   "execution_count": 292,
   "metadata": {},
   "outputs": [
    {
     "data": {
      "image/png": "[encoded data removed]",
      "text/plain": [
       "<Figure size 432x288 with 1 Axes>"
      ]
     },
     "metadata": {},
     "output_type": "display_data"
    }
   ],
   "source": [
    "sns.distplot(word_frequencies[word_frequencies < 20], color = 'red')\n",
    "plt.xlabel('Frequency of words')\n",
    "plt.ylabel('Density')\n",
    "plt.show()"
   ]
  },
  {
   "cell_type": "markdown",
   "metadata": {},
   "source": [
    "Lots of little peaks in the distribution. This is mostly because our frequencies are round integers, so there is \"space\" in between the bars. What if we trim the lower end now?"
   ]
  },
  {
   "cell_type": "code",
   "execution_count": 295,
   "metadata": {},
   "outputs": [
    {
     "data": {
      "image/png": "[encoded data removed]",
      "text/plain": [
       "<Figure size 432x288 with 1 Axes>"
      ]
     },
     "metadata": {},
     "output_type": "display_data"
    }
   ],
   "source": [
    "sns.distplot(word_frequencies[word_frequencies >= 25000], color = 'red')\n",
    "plt.xlabel('Frequency of words')\n",
    "plt.ylabel('Density')\n",
    "plt.show()"
   ]
  },
  {
   "cell_type": "markdown",
   "metadata": {},
   "source": [
    "While this is more reasonable, we still have a similar looking distribution. It looks to me that the distribution of the word counts is a heavily scaled version of the exponential distribution, plotted below."
   ]
  },
  {
   "cell_type": "code",
   "execution_count": 316,
   "metadata": {},
   "outputs": [
    {
     "data": {
      "image/png": "[encoded data removed]",
      "text/plain": [
       "<Figure size 432x288 with 1 Axes>"
      ]
     },
     "metadata": {},
     "output_type": "display_data"
    }
   ],
   "source": [
    "x = np.linspace(-1, 5, 5000)\n",
    "y = ss.expon.pdf(x, scale = 1/65)\n",
    "plt.xlim((-0.001, 1))\n",
    "plt.plot(x, y, label='Exponential')\n",
    "plt.legend();"
   ]
  },
  {
   "cell_type": "markdown",
   "metadata": {},
   "source": [
    "### What are the 20 most popular words?"
   ]
  },
  {
   "cell_type": "code",
   "execution_count": 317,
   "metadata": {},
   "outputs": [
    {
     "data": {
      "text/plain": [
       "['the',\n",
       " 'what',\n",
       " 'is',\n",
       " 'a',\n",
       " 'to',\n",
       " 'in',\n",
       " 'of',\n",
       " 'i',\n",
       " 'how',\n",
       " 'and',\n",
       " 'do',\n",
       " 'are',\n",
       " 'for',\n",
       " 'you',\n",
       " 'can',\n",
       " 'why',\n",
       " 'it',\n",
       " 'my',\n",
       " 'that',\n",
       " 'if']"
      ]
     },
     "execution_count": 317,
     "metadata": {},
     "output_type": "execute_result"
    }
   ],
   "source": [
    "counts = [(wordCount[w], w) for w in wordCount]\n",
    "counts.sort()\n",
    "counts.reverse()\n",
    "\n",
    "words = [x[1] for x in counts[:1000]]\n",
    "words[0:20]"
   ]
  },
  {
   "cell_type": "markdown",
   "metadata": {},
   "source": [
    "### The smost popular words all look like stop words.\n",
    "Lets remove those and try again."
   ]
  },
  {
   "cell_type": "code",
   "execution_count": 339,
   "metadata": {},
   "outputs": [
    {
     "name": "stdout",
     "output_type": "stream",
     "text": [
      "258142\n"
     ]
    }
   ],
   "source": [
    "wordCount = defaultdict(int)\n",
    "punctuation = set(string.punctuation)\n",
    "#load in stop words\n",
    "stopwordz = set(stopwords.words('english'))\n",
    "#define a function to be used with apply\n",
    "def word_counter(d):\n",
    "    #first remove punctuation, then remove stop words\n",
    "    r = ''.join([c for c in d.lower() if not c in punctuation])\n",
    "    j = ' '.join([c for c in r.split() if not c in stopwordz])\n",
    "    for w in j.split():\n",
    "        #w = stemmer.stem(w) # with stemming\n",
    "        wordCount[w] += 1\n",
    "\n",
    "#use .apply to iterate over dataframe\n",
    "data.question_text.apply(word_counter)\n",
    "print(len(wordCount))"
   ]
  },
  {
   "cell_type": "markdown",
   "metadata": {},
   "source": [
    "######  We can now look at the new list of the 20 most popular words"
   ]
  },
  {
   "cell_type": "code",
   "execution_count": 340,
   "metadata": {},
   "outputs": [
    {
     "data": {
      "text/plain": [
       "['get',\n",
       " 'best',\n",
       " 'would',\n",
       " 'people',\n",
       " 'like',\n",
       " 'good',\n",
       " 'one',\n",
       " 'india',\n",
       " 'make',\n",
       " 'think',\n",
       " 'many',\n",
       " 'much',\n",
       " 'time',\n",
       " 'life',\n",
       " 'someone',\n",
       " 'use',\n",
       " 'way',\n",
       " 'know',\n",
       " 'us',\n",
       " 'want']"
      ]
     },
     "execution_count": 340,
     "metadata": {},
     "output_type": "execute_result"
    }
   ],
   "source": [
    "counts = [(wordCount[w], w) for w in wordCount]\n",
    "counts.sort()\n",
    "counts.reverse()\n",
    "\n",
    "words = [x[1] for x in counts[:1000]]\n",
    "words[0:20]"
   ]
  },
  {
   "cell_type": "markdown",
   "metadata": {},
   "source": [
    "#### How has the mean and standard errors changed?"
   ]
  },
  {
   "cell_type": "code",
   "execution_count": 341,
   "metadata": {},
   "outputs": [
    {
     "name": "stdout",
     "output_type": "stream",
     "text": [
      "The mean word frequency is 33.007, with standard devation 442.35, standard error 0.871\n"
     ]
    }
   ],
   "source": [
    "#compute the mean and standard errors for the word frequency\n",
    "word_frequencies = np.asarray(list(wordCount.values()))\n",
    "mean_frequency = round(word_frequencies.mean(), 3)\n",
    "\n",
    "std_dev = round(np.std(word_frequencies), 3)\n",
    "\n",
    "std_error = round(std_dev / np.sqrt( len(word_frequencies)), 3)\n",
    "print(\"The mean word frequency is %s, with standard devation %s, standard error %s\" %\n",
    "     (mean_frequency, std_dev, std_error))"
   ]
  },
  {
   "cell_type": "code",
   "execution_count": 342,
   "metadata": {},
   "outputs": [
    {
     "name": "stdout",
     "output_type": "stream",
     "text": [
      "The 95 percent confidence interval is (31.29984, 34.71416)\n"
     ]
    }
   ],
   "source": [
    "lowerConfidence = round(mean_frequency - 1.96 * std_error, 6)\n",
    "upperConfidence = round(mean_frequency + 1.96 * std_error, 6)\n",
    "print(\"The 95 percent confidence interval is (%s, %s)\" % (lowerConfidence, upperConfidence))"
   ]
  },
  {
   "cell_type": "markdown",
   "metadata": {},
   "source": [
    "#### So we can see that the mean frequency and standard deviation/errors have shrunk a lot\n",
    "This makes sense. We have removed stopwords which would appear in nearly every quora question. Since they appear so frequently, their frequency is very high, and would drag the mean and standard deviations up considerably. What if we use a trimmed mean in order to get rid of some outliers?"
   ]
  },
  {
   "cell_type": "code",
   "execution_count": 358,
   "metadata": {},
   "outputs": [
    {
     "data": {
      "text/plain": [
       "6.295070870508408"
      ]
     },
     "execution_count": 358,
     "metadata": {},
     "output_type": "execute_result"
    }
   ],
   "source": [
    "ss.trim_mean(word_frequencies, proportiontocut = 0.025)"
   ]
  },
  {
   "cell_type": "markdown",
   "metadata": {},
   "source": [
    "Slicing 2.5% from the lower half, and 2.5% from the upper half of the data results in a very different mean. There are not too many words with that high of a frequency. That means there are likely some words used very commonly in english, but the rest of the words are likely descriptors used for the actual formulation of the question"
   ]
  },
  {
   "cell_type": "code",
   "execution_count": 344,
   "metadata": {},
   "outputs": [
    {
     "data": {
      "image/png": "[encoded data removed]",
      "text/plain": [
       "<Figure size 432x288 with 1 Axes>"
      ]
     },
     "metadata": {},
     "output_type": "display_data"
    }
   ],
   "source": [
    "sns.distplot(word_frequencies[word_frequencies < 100], color = 'red')\n",
    "plt.xlabel('Frequency of words')\n",
    "plt.ylabel('Density')\n",
    "plt.show()"
   ]
  },
  {
   "cell_type": "markdown",
   "metadata": {},
   "source": [
    "The distribution of frequencies under 100 looks about the same. Makes sense since removing stop words shouldn't affect rare words. What about the other side?"
   ]
  },
  {
   "cell_type": "code",
   "execution_count": 346,
   "metadata": {},
   "outputs": [
    {
     "data": {
      "image/png": "[encoded data removed]",
      "text/plain": [
       "<Figure size 432x288 with 1 Axes>"
      ]
     },
     "metadata": {},
     "output_type": "display_data"
    }
   ],
   "source": [
    "sns.distplot(word_frequencies[word_frequencies >= 10000], color = 'red')\n",
    "plt.xlabel('Frequency of words')\n",
    "plt.ylabel('Density')\n",
    "plt.show()"
   ]
  },
  {
   "cell_type": "markdown",
   "metadata": {},
   "source": [
    "Looks like the upper tail of the distribution has changed! So removing stopped words has changed the distribution of the upper tail of the word frequencies. What's the distribution of the frequencies with the upper and lower tails removed?"
   ]
  },
  {
   "cell_type": "code",
   "execution_count": 373,
   "metadata": {},
   "outputs": [
    {
     "data": {
      "image/png": "[encoded data removed]",
      "text/plain": [
       "<Figure size 432x288 with 1 Axes>"
      ]
     },
     "metadata": {},
     "output_type": "display_data"
    }
   ],
   "source": [
    "sns.distplot(word_frequencies[(2 < word_frequencies) & (word_frequencies < 60)], color = 'red')\n",
    "plt.xlabel('Frequency of words')\n",
    "plt.ylabel('Density')\n",
    "plt.show()"
   ]
  },
  {
   "cell_type": "markdown",
   "metadata": {},
   "source": [
    "Looks almost exactly like an exponential distribution. What are the bottom tail words, anyway?"
   ]
  },
  {
   "cell_type": "code",
   "execution_count": 352,
   "metadata": {},
   "outputs": [
    {
     "data": {
      "text/plain": [
       "[(1, '00002cm'),\n",
       " (1, '00002673'),\n",
       " (1, '00002'),\n",
       " (1, '0000125'),\n",
       " (1, '0000036'),\n",
       " (1, '0000032099'),\n",
       " (1, '00000218'),\n",
       " (1, '000001cm'),\n",
       " (1, '00000100'),\n",
       " (1, '000001'),\n",
       " (1, '0000001'),\n",
       " (1, '000000030'),\n",
       " (1, '00000000010009999560'),\n",
       " (1, '0000000000001'),\n",
       " (1, '00000000000000025'),\n",
       " (1, '00000000000000000021e800'),\n",
       " (1, '000000000000000000000000000000000000000000125'),\n",
       " (1, '000000000000000000000000000'),\n",
       " (1, '0000000000'),\n",
       " (1, '000000'),\n",
       " (1, '0\\x02tñ\\x7f¼é\\x1aaùõ\\x8d¶rwìiìñó'),\n",
       " (1, '\\x10œø\\x17'),\n",
       " (1, '\\x10new'),\n",
       " (1, '\\x10i')]"
      ]
     },
     "execution_count": 352,
     "metadata": {},
     "output_type": "execute_result"
    }
   ],
   "source": [
    "counts[258118: 258142]"
   ]
  },
  {
   "cell_type": "markdown",
   "metadata": {},
   "source": [
    "These look like gibberish and are probably not useful.\n",
    "\n",
    "Let's look at the most popular words in the sincere questions and the insincere questions.\n",
    "\n",
    "First, the insincere questions."
   ]
  },
  {
   "cell_type": "code",
   "execution_count": 377,
   "metadata": {},
   "outputs": [
    {
     "name": "stdout",
     "output_type": "stream",
     "text": [
      "45321\n"
     ]
    }
   ],
   "source": [
    "badCount = defaultdict(int)\n",
    "punctuation = set(string.punctuation)\n",
    "#load in stop words\n",
    "stopwordz = set(stopwords.words('english'))\n",
    "#define a function to be used with apply\n",
    "def word_counter(d):\n",
    "    #first remove punctuation, then remove stop words\n",
    "    r = ''.join([c for c in d.lower() if not c in punctuation])\n",
    "    j = ' '.join([c for c in r.split() if not c in stopwordz])\n",
    "    for w in j.split():\n",
    "        #w = stemmer.stem(w) # with stemming\n",
    "        badCount[w] += 1\n",
    "\n",
    "#use .apply to iterate over dataframe\n",
    "data[data.target == 1].question_text.apply(word_counter)\n",
    "print(len(badCount))"
   ]
  },
  {
   "cell_type": "code",
   "execution_count": 378,
   "metadata": {},
   "outputs": [
    {
     "data": {
      "text/plain": [
       "['people',\n",
       " 'like',\n",
       " 'trump',\n",
       " 'women',\n",
       " 'would',\n",
       " 'men',\n",
       " 'think',\n",
       " 'white',\n",
       " 'many',\n",
       " 'muslims',\n",
       " 'dont',\n",
       " 'quora',\n",
       " 'us',\n",
       " 'get',\n",
       " 'india',\n",
       " 'indian',\n",
       " 'black',\n",
       " 'americans',\n",
       " 'sex',\n",
       " 'girls',\n",
       " 'indians',\n",
       " 'want',\n",
       " 'world',\n",
       " 'hate',\n",
       " 'liberals',\n",
       " 'chinese',\n",
       " 'much',\n",
       " 'make',\n",
       " 'muslim',\n",
       " 'country',\n",
       " 'even',\n",
       " 'american',\n",
       " 'one',\n",
       " 'feel',\n",
       " 'america',\n",
       " 'know',\n",
       " 'president',\n",
       " 'believe',\n",
       " 'donald',\n",
       " 'true',\n",
       " 'say',\n",
       " 'really',\n",
       " 'jews',\n",
       " 'gay',\n",
       " 'good',\n",
       " 'countries',\n",
       " 'questions',\n",
       " 'still',\n",
       " 'cant',\n",
       " 'democrats']"
      ]
     },
     "execution_count": 378,
     "metadata": {},
     "output_type": "execute_result"
    }
   ],
   "source": [
    "counts = [(badCount[w], w) for w in badCount]\n",
    "counts.sort()\n",
    "counts.reverse()\n",
    "\n",
    "badwords = [x[1] for x in counts[:1000]]\n",
    "badwords[0:50]"
   ]
  },
  {
   "cell_type": "markdown",
   "metadata": {},
   "source": [
    "Now the sincere questions"
   ]
  },
  {
   "cell_type": "code",
   "execution_count": 379,
   "metadata": {},
   "outputs": [
    {
     "name": "stdout",
     "output_type": "stream",
     "text": [
      "246881\n"
     ]
    }
   ],
   "source": [
    "goodCount = defaultdict(int)\n",
    "punctuation = set(string.punctuation)\n",
    "#load in stop words\n",
    "stopwordz = set(stopwords.words('english'))\n",
    "#define a function to be used with apply\n",
    "def word_counter(d):\n",
    "    #first remove punctuation, then remove stop words\n",
    "    r = ''.join([c for c in d.lower() if not c in punctuation])\n",
    "    j = ' '.join([c for c in r.split() if not c in stopwordz])\n",
    "    for w in j.split():\n",
    "        #w = stemmer.stem(w) # with stemming\n",
    "        goodCount[w] += 1\n",
    "\n",
    "#use .apply to iterate over dataframe\n",
    "data[data.target == 0].question_text.apply(word_counter)\n",
    "print(len(goodCount))"
   ]
  },
  {
   "cell_type": "code",
   "execution_count": 380,
   "metadata": {},
   "outputs": [
    {
     "data": {
      "text/plain": [
       "['best',\n",
       " 'get',\n",
       " 'would',\n",
       " 'like',\n",
       " 'people',\n",
       " 'good',\n",
       " 'one',\n",
       " 'india',\n",
       " 'make',\n",
       " 'time',\n",
       " 'think',\n",
       " 'much',\n",
       " 'life',\n",
       " 'someone',\n",
       " 'many',\n",
       " 'use',\n",
       " 'way',\n",
       " 'know',\n",
       " 'work',\n",
       " 'take',\n",
       " 'ever',\n",
       " 'find',\n",
       " 'us',\n",
       " 'want',\n",
       " 'become',\n",
       " 'without',\n",
       " 'could',\n",
       " 'person',\n",
       " 'better',\n",
       " 'feel',\n",
       " 'world',\n",
       " 'year',\n",
       " 'possible',\n",
       " 'whats',\n",
       " 'job',\n",
       " 'go',\n",
       " 'new',\n",
       " 'dont',\n",
       " 'im',\n",
       " 'years',\n",
       " 'mean',\n",
       " 'used',\n",
       " 'start',\n",
       " 'need',\n",
       " 'difference',\n",
       " 'quora',\n",
       " 'first',\n",
       " 'different',\n",
       " 'money',\n",
       " 'learn']"
      ]
     },
     "execution_count": 380,
     "metadata": {},
     "output_type": "execute_result"
    }
   ],
   "source": [
    "counts = [(goodCount[w], w) for w in goodCount]\n",
    "counts.sort()\n",
    "counts.reverse()\n",
    "\n",
    "goodwords = [x[1] for x in counts[:1000]]\n",
    "goodwords[0:50]"
   ]
  },
  {
   "cell_type": "markdown",
   "metadata": {},
   "source": [
    "The difference is pretty clear. Insincere reviews' most popular words largely are concerned with groups of people, either their ethnicities, religion, or political affiliations. The sincere reviews are more ambiguous, but do include some positives, such as \"learn\", \"think\", \"best\", \"good\".\n",
    "\n",
    "#### Opinion: One possible approach would be to train a classifier on *just* words the negative reviews, since it might be easier to fish out the most popular words that are associated with the target label.\n",
    "However, this approach needs some care. The correct procedure would be to seperate our data into train and validation splits FIRST, *then* compute the most popular bad words on only the train split, and train the model on those features. This will give us a more accurate estimate of generalization performance than if we extracted the features BEFORE the split. (It's often called \"data leakage\").\n",
    "\n",
    "What about bigrams, real quick?"
   ]
  },
  {
   "cell_type": "code",
   "execution_count": 381,
   "metadata": {},
   "outputs": [
    {
     "name": "stderr",
     "output_type": "stream",
     "text": [
      "C:\\Users\\acros\\Anaconda3\\lib\\site-packages\\ipykernel_launcher.py:12: DeprecationWarning: generator 'ngrams' raised StopIteration\n",
      "  if sys.path[0] == '':\n"
     ]
    },
    {
     "name": "stdout",
     "output_type": "stream",
     "text": [
      "453080\n"
     ]
    }
   ],
   "source": [
    "badCount = defaultdict(int)\n",
    "punctuation = set(string.punctuation)\n",
    "#load in stop words\n",
    "stopwordz = set(stopwords.words('english'))\n",
    "#define a function to be used with apply\n",
    "\n",
    "def bigram_counter(d):\n",
    "    #first remove punctuation, then remove stop words\n",
    "    n = 2\n",
    "    r = ''.join([c for c in d.lower() if not c in punctuation])\n",
    "    j = ' '.join([c for c in r.split() if not c in stopwordz])\n",
    "    for w in nltk.ngrams(j.split(), n):\n",
    "        #w = stemmer.stem(w) # with stemming\n",
    "        badCount[w] += 1\n",
    "\n",
    "#use .apply to iterate over dataframe\n",
    "data[data.target == 1].question_text.apply(bigram_counter)\n",
    "print(len(badCount))"
   ]
  },
  {
   "cell_type": "code",
   "execution_count": 383,
   "metadata": {},
   "outputs": [
    {
     "data": {
      "text/plain": [
       "[('donald', 'trump'),\n",
       " ('white', 'people'),\n",
       " ('black', 'people'),\n",
       " ('united', 'states'),\n",
       " ('president', 'trump'),\n",
       " ('trump', 'supporters'),\n",
       " ('many', 'people'),\n",
       " ('hillary', 'clinton'),\n",
       " ('year', 'old'),\n",
       " ('even', 'though'),\n",
       " ('people', 'think'),\n",
       " ('chinese', 'people'),\n",
       " ('indian', 'muslims'),\n",
       " ('indian', 'girls'),\n",
       " ('north', 'korea'),\n",
       " ('north', 'indians'),\n",
       " ('white', 'women'),\n",
       " ('white', 'men'),\n",
       " ('people', 'hate'),\n",
       " ('black', 'men'),\n",
       " ('look', 'like'),\n",
       " ('people', 'quora'),\n",
       " ('gun', 'control'),\n",
       " ('people', 'like'),\n",
       " ('south', 'indians'),\n",
       " ('indian', 'women'),\n",
       " ('women', 'like'),\n",
       " ('indian', 'men'),\n",
       " ('middle', 'east'),\n",
       " ('narendra', 'modi'),\n",
       " ('questions', 'quora'),\n",
       " ('years', 'old'),\n",
       " ('people', 'say'),\n",
       " ('african', 'americans'),\n",
       " ('would', 'happen'),\n",
       " ('black', 'women'),\n",
       " ('dont', 'like'),\n",
       " ('indian', 'people'),\n",
       " ('dont', 'want'),\n",
       " ('illegal', 'immigrants'),\n",
       " ('feel', 'like'),\n",
       " ('gay', 'people'),\n",
       " ('people', 'believe'),\n",
       " ('american', 'people'),\n",
       " ('act', 'like'),\n",
       " ('men', 'women'),\n",
       " ('girls', 'like'),\n",
       " ('dont', 'know'),\n",
       " ('democratic', 'party'),\n",
       " ('stupid', 'questions')]"
      ]
     },
     "execution_count": 383,
     "metadata": {},
     "output_type": "execute_result"
    }
   ],
   "source": [
    "counts = [(badCount[w], w) for w in badCount]\n",
    "counts.sort()\n",
    "counts.reverse()\n",
    "\n",
    "badwords = [x[1] for x in counts[:1000]]\n",
    "badwords[0:50]"
   ]
  },
  {
   "cell_type": "markdown",
   "metadata": {},
   "source": [
    "Looks about how I expected. How about $n$grams when $n = 5$?"
   ]
  },
  {
   "cell_type": "code",
   "execution_count": 385,
   "metadata": {},
   "outputs": [
    {
     "name": "stderr",
     "output_type": "stream",
     "text": [
      "C:\\Users\\acros\\Anaconda3\\lib\\site-packages\\ipykernel_launcher.py:12: DeprecationWarning: generator 'ngrams' raised StopIteration\n",
      "  if sys.path[0] == '':\n"
     ]
    },
    {
     "data": {
      "text/plain": [
       "[('ever', 'deny', 'causing', 'black', 'death'),\n",
       " ('jew', 'ever', 'deny', 'causing', 'black'),\n",
       " ('testicles', 'replaced', 'testicles', 'another', 'animal'),\n",
       " ('like', 'iraq', 'first', 'world', 'country'),\n",
       " ('human', 'female', 'female', 'species', 'testicles'),\n",
       " ('female', 'female', 'species', 'testicles', 'came'),\n",
       " ('would', 'happen', 'castrated', 'remove', 'testicles'),\n",
       " ('swedish', 'women', 'think', 'ethnic', 'swedes'),\n",
       " ('remove', 'testicles', 'replaced', 'testicles', 'another'),\n",
       " ('happen', 'castrated', 'remove', 'testicles', 'replaced'),\n",
       " ('castrated', 'remove', 'testicles', 'replaced', 'testicles'),\n",
       " ('people', 'say', 'bullies', 'jealous', 'victim'),\n",
       " ('freedom', 'shooting', 'people', 'walking', 'streets'),\n",
       " ('would', 'prefer', 'hear', 'rather', 'reason'),\n",
       " ('victims', 'wells', 'finally', 'kill', 'victims'),\n",
       " ('victims', 'throw', 'victims', 'wells', 'finally'),\n",
       " ('victims', 'shoot', 'victims', 'throw', 'victims'),\n",
       " ('ugly', 'face', 'makes', 'stand', 'much'),\n",
       " ('throw', 'victims', 'wells', 'finally', 'kill'),\n",
       " ('shoot', 'victims', 'throw', 'victims', 'wells'),\n",
       " ('say', 'bullies', 'jealous', 'victim', 'would'),\n",
       " ('pregnant', 'dog', 'licking', 'private', 'area'),\n",
       " ('people', 'ask', 'stupid', 'questions', 'quora'),\n",
       " ('muslims', 'like', 'iraq', 'first', 'world'),\n",
       " ('many', 'indian', 'people', 'really', 'know'),\n",
       " ('living', 'slums', 'begging', 'raaping', 'streets'),\n",
       " ('inside', 'human', 'female', 'female', 'species'),\n",
       " ('get', 'pregnant', 'dog', 'licking', 'private'),\n",
       " ('full', 'muslims', 'like', 'iraq', 'first'),\n",
       " ('freedom', 'shoot', 'people', 'walking', 'streets'),\n",
       " ('ejaculated', 'inside', 'human', 'female', 'female'),\n",
       " ('ejaculated', 'human', 'female', 'female', 'species'),\n",
       " ('dog', 'ejaculated', 'human', 'female', 'female'),\n",
       " ('country', 'full', 'muslims', 'like', 'iraq'),\n",
       " ('birthday', 'hire', 'young', 'man', 'stud'),\n",
       " ('bastard', 'country', 'created', 'people', 'like'),\n",
       " ('white', 'people', 'hate', 'black', 'people'),\n",
       " ('white', 'people', 'first', 'people', 'inhabit'),\n",
       " ('teachings', 'islam', 'muslims', 'end', 'becoming'),\n",
       " ('south', 'indians', 'better', 'north', 'indians'),\n",
       " ('slums', 'begging', 'raaping', 'streets', 'daily'),\n",
       " ('shooting', 'people', 'walking', 'streets', 'bombing'),\n",
       " ('shoot', 'people', 'walking', 'streets', 'bomb'),\n",
       " ('sex', 'sister', 'without', 'condom', 'happened'),\n",
       " ('set', 'fire', 'victims', 'shoot', 'victims'),\n",
       " ('serial', 'raapist', 'nehru', 'made', 'india'),\n",
       " ('real', 'outcome', 'teachings', 'islam', 'muslims'),\n",
       " ('raapist', 'nehru', 'made', 'india', 'bastard'),\n",
       " ('people', 'walking', 'streets', 'bombing', 'civilians'),\n",
       " ('people', 'walking', 'streets', 'bomb', 'civilians')]"
      ]
     },
     "execution_count": 385,
     "metadata": {},
     "output_type": "execute_result"
    }
   ],
   "source": [
    "badCount = defaultdict(int)\n",
    "punctuation = set(string.punctuation)\n",
    "#load in stop words\n",
    "stopwordz = set(stopwords.words('english'))\n",
    "#define a function to be used with apply\n",
    "\n",
    "def bigram_counter(d):\n",
    "    #first remove punctuation, then remove stop words\n",
    "    n = 5\n",
    "    r = ''.join([c for c in d.lower() if not c in punctuation])\n",
    "    j = ' '.join([c for c in r.split() if not c in stopwordz])\n",
    "    for w in nltk.ngrams(j.split(), n):\n",
    "        #w = stemmer.stem(w) # with stemming\n",
    "        badCount[w] += 1\n",
    "\n",
    "#use .apply to iterate over dataframe\n",
    "data[data.target == 1].question_text.apply(bigram_counter)\n",
    "\n",
    "counts = [(badCount[w], w) for w in badCount]\n",
    "counts.sort()\n",
    "counts.reverse()\n",
    "\n",
    "badwords = [x[1] for x in counts[:1000]]\n",
    "badwords[0:50]"
   ]
  },
  {
   "cell_type": "markdown",
   "metadata": {},
   "source": [
    "# Jesus christ."
   ]
  }
 ],
 "metadata": {
  "kernelspec": {
   "display_name": "Python 3",
   "language": "python",
   "name": "python3"
  },
  "language_info": {
   "codemirror_mode": {
    "name": "ipython",
    "version": 3
   },
   "file_extension": ".py",
   "mimetype": "text/x-python",
   "name": "python",
   "nbconvert_exporter": "python",
   "pygments_lexer": "ipython3",
   "version": "3.6.7"
  }
 },
 "nbformat": 4,
 "nbformat_minor": 2
}
