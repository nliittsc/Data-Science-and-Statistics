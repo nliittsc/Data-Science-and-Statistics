{
 "cells": [
  {
   "cell_type": "markdown",
   "metadata": {
    "_uuid": "cd5e36f3a3c6f68cca9d844bc45919b7d72b497c"
   },
   "source": [
    "# National Heart, Lung, and Blood Institute Mortality Study\n",
    "This data set comes from the NIH's National Longitudinal Mortality Study. Since the data set is quite large, we will only look at a subsample of the data which includes information on smoking. Due to legal obligations regarding this data set, no columns or rows can be shown, and instead only summary statistics may be used. We do provide a description of the relevant variables at work.\n",
    "\n",
    "This data set involves a particular cohort group in which smoking information was collected. In this notebook, the effects of income, smoking, education, and income will be analyzed to observe their assocations with mortality. \n",
    "\n",
    "The data was collected between the 1990's, up to 2005, and was intended to reflect the US population at a target date of April 1, 2000. The maximum followup period for this data was 5 years. Without any data cleaning, the data consists of $493,282$ records with $43$ features. "
   ]
  },
  {
   "cell_type": "code",
   "execution_count": 1,
   "metadata": {
    "_uuid": "3c55fb8cd1cee305786d1053154c7e39b936e4ba"
   },
   "outputs": [],
   "source": [
    "#loading in the data set\n",
    "data <- read.csv('tu.csv')"
   ]
  },
  {
   "cell_type": "code",
   "execution_count": 2,
   "metadata": {
    "_uuid": "ac88c582b999b201b63da6e1f5c1475b647880cd"
   },
   "outputs": [
    {
     "data": {
      "text/html": [
       "<ol class=list-inline>\n",
       "\t<li>493282</li>\n",
       "\t<li>43</li>\n",
       "</ol>\n"
      ],
      "text/latex": [
       "\\begin{enumerate*}\n",
       "\\item 493282\n",
       "\\item 43\n",
       "\\end{enumerate*}\n"
      ],
      "text/markdown": [
       "1. 493282\n",
       "2. 43\n",
       "\n",
       "\n"
      ],
      "text/plain": [
       "[1] 493282     43"
      ]
     },
     "metadata": {},
     "output_type": "display_data"
    }
   ],
   "source": [
    "# rows x columns\n",
    "dim(data)"
   ]
  },
  {
   "cell_type": "code",
   "execution_count": 3,
   "metadata": {
    "_uuid": "d95c51ff6ec6f16f5bec04cb74143b5126dc9201"
   },
   "outputs": [
    {
     "data": {
      "text/html": [
       "<table>\n",
       "<thead><tr><th scope=col>record</th><th scope=col>age</th><th scope=col>race</th><th scope=col>sex</th><th scope=col>ms</th><th scope=col>hisp</th><th scope=col>adjinc</th><th scope=col>educ</th><th scope=col>pob</th><th scope=col>wt</th><th scope=col>...</th><th scope=col>tenure</th><th scope=col>citizen</th><th scope=col>health</th><th scope=col>indalg</th><th scope=col>smok100</th><th scope=col>agesmk</th><th scope=col>smokstat</th><th scope=col>smokhome</th><th scope=col>curruse</th><th scope=col>everuse</th></tr></thead>\n",
       "<tbody>\n",
       "\t<tr><td>255697</td><td>46    </td><td>1     </td><td>1     </td><td>1     </td><td>3     </td><td>3     </td><td> 8    </td><td>917   </td><td>336   </td><td>...   </td><td>2     </td><td>NA    </td><td>NA    </td><td> 1    </td><td>1     </td><td>NA    </td><td>2     </td><td>NA    </td><td>22222 </td><td>22222 </td></tr>\n",
       "\t<tr><td>255698</td><td>40    </td><td>1     </td><td>2     </td><td>1     </td><td>3     </td><td>3     </td><td> 7    </td><td>  0   </td><td>297   </td><td>...   </td><td>2     </td><td>NA    </td><td>NA    </td><td>NA    </td><td>2     </td><td>NA    </td><td>1     </td><td>NA    </td><td>22222 </td><td>22222 </td></tr>\n",
       "\t<tr><td>255699</td><td>16    </td><td>1     </td><td>2     </td><td>5     </td><td>3     </td><td>3     </td><td> 6    </td><td>917   </td><td>303   </td><td>...   </td><td>2     </td><td>NA    </td><td>NA    </td><td>NA    </td><td>1     </td><td>NA    </td><td>2     </td><td>NA    </td><td>22222 </td><td>22222 </td></tr>\n",
       "\t<tr><td>255700</td><td>62    </td><td>1     </td><td>1     </td><td>1     </td><td>3     </td><td>5     </td><td> 4    </td><td>  0   </td><td>325   </td><td>...   </td><td>1     </td><td>NA    </td><td>NA    </td><td>NA    </td><td>1     </td><td>NA    </td><td>2     </td><td>NA    </td><td>22222 </td><td>22222 </td></tr>\n",
       "\t<tr><td>255701</td><td>61    </td><td>1     </td><td>2     </td><td>1     </td><td>3     </td><td>5     </td><td> 9    </td><td>917   </td><td>319   </td><td>...   </td><td>1     </td><td>NA    </td><td>NA    </td><td>NA    </td><td>2     </td><td>NA    </td><td>1     </td><td>NA    </td><td>22222 </td><td>22222 </td></tr>\n",
       "\t<tr><td>255702</td><td>39    </td><td>1     </td><td>1     </td><td>1     </td><td>3     </td><td>9     </td><td>12    </td><td>917   </td><td>279   </td><td>...   </td><td>1     </td><td>NA    </td><td>NA    </td><td>NA    </td><td>2     </td><td>NA    </td><td>1     </td><td>NA    </td><td>12122 </td><td>12122 </td></tr>\n",
       "</tbody>\n",
       "</table>\n"
      ],
      "text/latex": [
       "\\begin{tabular}{r|lllllllllllllllllllllllllllllllllllllllllll}\n",
       " record & age & race & sex & ms & hisp & adjinc & educ & pob & wt & ... & tenure & citizen & health & indalg & smok100 & agesmk & smokstat & smokhome & curruse & everuse\\\\\n",
       "\\hline\n",
       "\t 255697 & 46     & 1      & 1      & 1      & 3      & 3      &  8     & 917    & 336    & ...    & 2      & NA     & NA     &  1     & 1      & NA     & 2      & NA     & 22222  & 22222 \\\\\n",
       "\t 255698 & 40     & 1      & 2      & 1      & 3      & 3      &  7     &   0    & 297    & ...    & 2      & NA     & NA     & NA     & 2      & NA     & 1      & NA     & 22222  & 22222 \\\\\n",
       "\t 255699 & 16     & 1      & 2      & 5      & 3      & 3      &  6     & 917    & 303    & ...    & 2      & NA     & NA     & NA     & 1      & NA     & 2      & NA     & 22222  & 22222 \\\\\n",
       "\t 255700 & 62     & 1      & 1      & 1      & 3      & 5      &  4     &   0    & 325    & ...    & 1      & NA     & NA     & NA     & 1      & NA     & 2      & NA     & 22222  & 22222 \\\\\n",
       "\t 255701 & 61     & 1      & 2      & 1      & 3      & 5      &  9     & 917    & 319    & ...    & 1      & NA     & NA     & NA     & 2      & NA     & 1      & NA     & 22222  & 22222 \\\\\n",
       "\t 255702 & 39     & 1      & 1      & 1      & 3      & 9      & 12     & 917    & 279    & ...    & 1      & NA     & NA     & NA     & 2      & NA     & 1      & NA     & 12122  & 12122 \\\\\n",
       "\\end{tabular}\n"
      ],
      "text/markdown": [
       "\n",
       "record | age | race | sex | ms | hisp | adjinc | educ | pob | wt | ... | tenure | citizen | health | indalg | smok100 | agesmk | smokstat | smokhome | curruse | everuse | \n",
       "|---|---|---|---|---|---|\n",
       "| 255697 | 46     | 1      | 1      | 1      | 3      | 3      |  8     | 917    | 336    | ...    | 2      | NA     | NA     |  1     | 1      | NA     | 2      | NA     | 22222  | 22222  | \n",
       "| 255698 | 40     | 1      | 2      | 1      | 3      | 3      |  7     |   0    | 297    | ...    | 2      | NA     | NA     | NA     | 2      | NA     | 1      | NA     | 22222  | 22222  | \n",
       "| 255699 | 16     | 1      | 2      | 5      | 3      | 3      |  6     | 917    | 303    | ...    | 2      | NA     | NA     | NA     | 1      | NA     | 2      | NA     | 22222  | 22222  | \n",
       "| 255700 | 62     | 1      | 1      | 1      | 3      | 5      |  4     |   0    | 325    | ...    | 1      | NA     | NA     | NA     | 1      | NA     | 2      | NA     | 22222  | 22222  | \n",
       "| 255701 | 61     | 1      | 2      | 1      | 3      | 5      |  9     | 917    | 319    | ...    | 1      | NA     | NA     | NA     | 2      | NA     | 1      | NA     | 22222  | 22222  | \n",
       "| 255702 | 39     | 1      | 1      | 1      | 3      | 9      | 12     | 917    | 279    | ...    | 1      | NA     | NA     | NA     | 2      | NA     | 1      | NA     | 12122  | 12122  | \n",
       "\n",
       "\n"
      ],
      "text/plain": [
       "  record age race sex ms hisp adjinc educ pob wt  ... tenure citizen health\n",
       "1 255697 46  1    1   1  3    3       8   917 336 ... 2      NA      NA    \n",
       "2 255698 40  1    2   1  3    3       7     0 297 ... 2      NA      NA    \n",
       "3 255699 16  1    2   5  3    3       6   917 303 ... 2      NA      NA    \n",
       "4 255700 62  1    1   1  3    5       4     0 325 ... 1      NA      NA    \n",
       "5 255701 61  1    2   1  3    5       9   917 319 ... 1      NA      NA    \n",
       "6 255702 39  1    1   1  3    9      12   917 279 ... 1      NA      NA    \n",
       "  indalg smok100 agesmk smokstat smokhome curruse everuse\n",
       "1  1     1       NA     2        NA       22222   22222  \n",
       "2 NA     2       NA     1        NA       22222   22222  \n",
       "3 NA     1       NA     2        NA       22222   22222  \n",
       "4 NA     1       NA     2        NA       22222   22222  \n",
       "5 NA     2       NA     1        NA       22222   22222  \n",
       "6 NA     2       NA     1        NA       12122   12122  "
      ]
     },
     "metadata": {},
     "output_type": "display_data"
    }
   ],
   "source": [
    "head(data)"
   ]
  },
  {
   "cell_type": "markdown",
   "metadata": {
    "_uuid": "774064e27d9e5c0f9280dceea1608de90180eb5c"
   },
   "source": [
    "### A description of the features\n",
    "The data consists of $43$ features. We provide some descriptions of the data here, as well as codings. The data is fairly complete, but some columns are missing. We provide a brief description on the most relevant variables that we are interested in controlling for.\n",
    "\n",
    "-  record: ID number pertaining to a particular person\n",
    "-  hhid: Household ID number\n",
    "-  age: The integer valued age of a person in the study at the time of followup\n",
    "-  $\\textbf{follow:}$ Length of follow up.\n",
    "-  $\\textbf{race:}$ Race of the person. 1 = white, 2 = black, 3 = american indian/alaskan native, 4 = asian, 5 = other nonwhite\n",
    "-  $\\textbf{sex:}$ Sex of the person. 1 = male, 2 = female.\n",
    "-  hisp: Hispanic Origin. 1 = mexican, 2 = other hispanic, 3 = non-hispanic\n",
    "-  $\\textbf{adjinc:}$ Inflation adjusted income. Ordinal categorical. Amounts in dollars. 1 = 0-4,999, 2 = 5,000 - 7,499, 3 = 7,499-9,999, 4 = 10,000 - 14,999, ..., 12 = 50,000 - 59,999, 13= 60,000 - 75,000, 14 = 75,000+\n",
    "-  $\\textbf{povpct:}$ Income as a percent of poverty level. Ordinal categorical. Income is less than 100% of the poverty level for codes 1-3. Then is above poverty level for codes 3-21. 21 = GT 700% of poverty level. \n",
    "-  $\\textbf{hhnum:}$ Number of people in household.\n",
    "-  $\\textbf{stater:}$ State of residence. Codes are given in a manual.\n",
    "-  $\\textbf{ms:}$ Marital Status. 1 = married, 2 = widowed, 3 = divorced, 4 = seperated, 5 = never married\n",
    "-  educ: Highest grade completed. Numeric. 1 corresponds to no education, 14 corresponds to advanced achievement\n",
    "-  wt: Adjusted weights for the records. From the documentation: \"All records have been weighted to give population totals for the non-institutionalized population of the U.S. on April 1, 1983 for File 11 and File 6a, April 1, 1993 for File 6b, and April 1, 2002 for File 6c, and April 1, 2000 for File tu. Weights were obtained by raking age-sex-race group totals by state totals for each survey. Survey weights were then readjusted to the target dates  of the associated U.S. population and  accounting for the different numbers of records by survey in this each of the four files.  \"\n",
    "-  pob: Place of birth. Multiple codings. Codes beginning with a \"9\" indicate person was born in the US, 108 indicates individual born in Mexico. Other codes indicate other regions in the world, such as specific parts of Europe and Africa. \n",
    "-  tenure:  Status of home ownership. 1 = house owned by individual, 2 = house is rented by individual, 3 = house is rented via non-cash payments\n",
    "-  vt: Veteran Status.  0 = not a veteran, 1 = veteran\n",
    "-  citizen: Citizenship status. 1 = Native, born in US. 2 = Native, born in US controlled territory (such as Peurto Rico). 3 = Native, born abroad by US parents. 4 = Foreign born, but naturalized/citizen. 5 = Foreign born, NOT a citizen\n",
    "-  $\\textbf{health:}$ Response to the question \"You would say your/that person's health is...?\" 1 = Excellent, 2 = Very Good, 3 = Good, 4 = Fair, 5 = Poor.\n",
    "-  esr: Employment Status Recode. 1 = Employed. 2 = Employed, but absent from work. 3 = Unemployed, looking for work. 4 = Disabled or otherwise unable to work. 5 = Not in labor force (student, retired, other)\n",
    "- $\\textbf{histype:}$ Health insurance status. 0 = Person not covered by acceptable health insurance plan. 1 = Had insurance. \n",
    "-  $\\textbf{inddea}$: Death indicator. 0 = Alive. 1 = Dead.\n",
    "-  $\\textbf{smoke100:}$ Person has smoked 100 cigarettes in lifetime? 0 = no, 1 = yes\n",
    "-  $\\textbf{agesmk:}$ Given a \"yes\" to smoke100, gives an age of when person started smoking regularly.\n",
    "-  $\\textbf{smokestat:}$ Categorical variable indicating smoking status. 1 = never smoked, 2 = every day smoker, 3 = smokes some days, 4 = former smoker\n",
    "-  $\\textbf{smokehome:}$ Rules for smoking at home. 1 = No smoking allowed anywhere in house. 2 = Smoking allowed in some places, or at some times. 3 = smoking permitted anywhere at any time.\n"
   ]
  },
  {
   "cell_type": "markdown",
   "metadata": {
    "_uuid": "8d4a4abb03d550c63e28777a47bed36b2bde83cb"
   },
   "source": [
    "The following line of code simply computes the percentage of missing rows in each column. Note that \"urban\" and \"smsast\" are both entirely missing. Urban is an indicator for whether the household is located in an urban area or not, and smsast is an indicator for whether the house was located \"in an SMSA or not\". (Not clear what this means). "
   ]
  },
  {
   "cell_type": "code",
   "execution_count": 4,
   "metadata": {
    "_uuid": "d3b443e044ffbc3ef238370a46f8a7028355ae46"
   },
   "outputs": [
    {
     "data": {
      "text/html": [
       "<dl class=dl-horizontal>\n",
       "\t<dt>record</dt>\n",
       "\t\t<dd>0</dd>\n",
       "\t<dt>age</dt>\n",
       "\t\t<dd>0</dd>\n",
       "\t<dt>race</dt>\n",
       "\t\t<dd>2.83813315709878e-05</dd>\n",
       "\t<dt>sex</dt>\n",
       "\t\t<dd>0</dd>\n",
       "\t<dt>ms</dt>\n",
       "\t\t<dd>0.00553435965634262</dd>\n",
       "\t<dt>hisp</dt>\n",
       "\t\t<dd>0.0216955007480508</dd>\n",
       "\t<dt>adjinc</dt>\n",
       "\t\t<dd>0.0101037540392717</dd>\n",
       "\t<dt>educ</dt>\n",
       "\t\t<dd>0.00607968667009946</dd>\n",
       "\t<dt>pob</dt>\n",
       "\t\t<dd>0</dd>\n",
       "\t<dt>wt</dt>\n",
       "\t\t<dd>0.000889957468547403</dd>\n",
       "\t<dt>hhid</dt>\n",
       "\t\t<dd>0</dd>\n",
       "\t<dt>hhnum</dt>\n",
       "\t\t<dd>0</dd>\n",
       "\t<dt>reltrf</dt>\n",
       "\t\t<dd>0</dd>\n",
       "\t<dt>occ</dt>\n",
       "\t\t<dd>0.33343807396175</dd>\n",
       "\t<dt>majocc</dt>\n",
       "\t\t<dd>0.33343807396175</dd>\n",
       "\t<dt>ind</dt>\n",
       "\t\t<dd>0.333326575873436</dd>\n",
       "\t<dt>majind</dt>\n",
       "\t\t<dd>0.333326575873436</dd>\n",
       "\t<dt>esr</dt>\n",
       "\t\t<dd>0.00686422776424033</dd>\n",
       "\t<dt>urban</dt>\n",
       "\t\t<dd>1</dd>\n",
       "\t<dt>smsast</dt>\n",
       "\t\t<dd>1</dd>\n",
       "\t<dt>inddea</dt>\n",
       "\t\t<dd>0</dd>\n",
       "\t<dt>cause113</dt>\n",
       "\t\t<dd>0</dd>\n",
       "\t<dt>follow</dt>\n",
       "\t\t<dd>0</dd>\n",
       "\t<dt>dayod</dt>\n",
       "\t\t<dd>0.959145073203563</dd>\n",
       "\t<dt>hosp</dt>\n",
       "\t\t<dd>0.961216910408245</dd>\n",
       "\t<dt>hospd</dt>\n",
       "\t\t<dd>0.962121058542578</dd>\n",
       "\t<dt>ssnyn</dt>\n",
       "\t\t<dd>0</dd>\n",
       "\t<dt>vt</dt>\n",
       "\t\t<dd>0.0223948978474787</dd>\n",
       "\t<dt>histatus</dt>\n",
       "\t\t<dd>0.206851253441236</dd>\n",
       "\t<dt>hitype</dt>\n",
       "\t\t<dd>0.206851253441236</dd>\n",
       "\t<dt>povpct</dt>\n",
       "\t\t<dd>0.0125972567415799</dd>\n",
       "\t<dt>stater</dt>\n",
       "\t\t<dd>0</dd>\n",
       "\t<dt>rcow</dt>\n",
       "\t\t<dd>0.347557786418317</dd>\n",
       "\t<dt>tenure</dt>\n",
       "\t\t<dd>0.000419638259656748</dd>\n",
       "\t<dt>citizen</dt>\n",
       "\t\t<dd>0.395611435243938</dd>\n",
       "\t<dt>health</dt>\n",
       "\t\t<dd>0.378852258951269</dd>\n",
       "\t<dt>indalg</dt>\n",
       "\t\t<dd>0.852670480577033</dd>\n",
       "\t<dt>smok100</dt>\n",
       "\t\t<dd>0</dd>\n",
       "\t<dt>agesmk</dt>\n",
       "\t\t<dd>0.608562647734967</dd>\n",
       "\t<dt>smokstat</dt>\n",
       "\t\t<dd>0.00118998868801213</dd>\n",
       "\t<dt>smokhome</dt>\n",
       "\t\t<dd>0.448528427958044</dd>\n",
       "\t<dt>curruse</dt>\n",
       "\t\t<dd>0.0501335949821806</dd>\n",
       "\t<dt>everuse</dt>\n",
       "\t\t<dd>0.0501335949821806</dd>\n",
       "</dl>\n"
      ],
      "text/latex": [
       "\\begin{description*}\n",
       "\\item[record] 0\n",
       "\\item[age] 0\n",
       "\\item[race] 2.83813315709878e-05\n",
       "\\item[sex] 0\n",
       "\\item[ms] 0.00553435965634262\n",
       "\\item[hisp] 0.0216955007480508\n",
       "\\item[adjinc] 0.0101037540392717\n",
       "\\item[educ] 0.00607968667009946\n",
       "\\item[pob] 0\n",
       "\\item[wt] 0.000889957468547403\n",
       "\\item[hhid] 0\n",
       "\\item[hhnum] 0\n",
       "\\item[reltrf] 0\n",
       "\\item[occ] 0.33343807396175\n",
       "\\item[majocc] 0.33343807396175\n",
       "\\item[ind] 0.333326575873436\n",
       "\\item[majind] 0.333326575873436\n",
       "\\item[esr] 0.00686422776424033\n",
       "\\item[urban] 1\n",
       "\\item[smsast] 1\n",
       "\\item[inddea] 0\n",
       "\\item[cause113] 0\n",
       "\\item[follow] 0\n",
       "\\item[dayod] 0.959145073203563\n",
       "\\item[hosp] 0.961216910408245\n",
       "\\item[hospd] 0.962121058542578\n",
       "\\item[ssnyn] 0\n",
       "\\item[vt] 0.0223948978474787\n",
       "\\item[histatus] 0.206851253441236\n",
       "\\item[hitype] 0.206851253441236\n",
       "\\item[povpct] 0.0125972567415799\n",
       "\\item[stater] 0\n",
       "\\item[rcow] 0.347557786418317\n",
       "\\item[tenure] 0.000419638259656748\n",
       "\\item[citizen] 0.395611435243938\n",
       "\\item[health] 0.378852258951269\n",
       "\\item[indalg] 0.852670480577033\n",
       "\\item[smok100] 0\n",
       "\\item[agesmk] 0.608562647734967\n",
       "\\item[smokstat] 0.00118998868801213\n",
       "\\item[smokhome] 0.448528427958044\n",
       "\\item[curruse] 0.0501335949821806\n",
       "\\item[everuse] 0.0501335949821806\n",
       "\\end{description*}\n"
      ],
      "text/markdown": [
       "record\n",
       ":   0age\n",
       ":   0race\n",
       ":   2.83813315709878e-05sex\n",
       ":   0ms\n",
       ":   0.00553435965634262hisp\n",
       ":   0.0216955007480508adjinc\n",
       ":   0.0101037540392717educ\n",
       ":   0.00607968667009946pob\n",
       ":   0wt\n",
       ":   0.000889957468547403hhid\n",
       ":   0hhnum\n",
       ":   0reltrf\n",
       ":   0occ\n",
       ":   0.33343807396175majocc\n",
       ":   0.33343807396175ind\n",
       ":   0.333326575873436majind\n",
       ":   0.333326575873436esr\n",
       ":   0.00686422776424033urban\n",
       ":   1smsast\n",
       ":   1inddea\n",
       ":   0cause113\n",
       ":   0follow\n",
       ":   0dayod\n",
       ":   0.959145073203563hosp\n",
       ":   0.961216910408245hospd\n",
       ":   0.962121058542578ssnyn\n",
       ":   0vt\n",
       ":   0.0223948978474787histatus\n",
       ":   0.206851253441236hitype\n",
       ":   0.206851253441236povpct\n",
       ":   0.0125972567415799stater\n",
       ":   0rcow\n",
       ":   0.347557786418317tenure\n",
       ":   0.000419638259656748citizen\n",
       ":   0.395611435243938health\n",
       ":   0.378852258951269indalg\n",
       ":   0.852670480577033smok100\n",
       ":   0agesmk\n",
       ":   0.608562647734967smokstat\n",
       ":   0.00118998868801213smokhome\n",
       ":   0.448528427958044curruse\n",
       ":   0.0501335949821806everuse\n",
       ":   0.0501335949821806\n",
       "\n"
      ],
      "text/plain": [
       "      record          age         race          sex           ms         hisp \n",
       "0.000000e+00 0.000000e+00 2.838133e-05 0.000000e+00 5.534360e-03 2.169550e-02 \n",
       "      adjinc         educ          pob           wt         hhid        hhnum \n",
       "1.010375e-02 6.079687e-03 0.000000e+00 8.899575e-04 0.000000e+00 0.000000e+00 \n",
       "      reltrf          occ       majocc          ind       majind          esr \n",
       "0.000000e+00 3.334381e-01 3.334381e-01 3.333266e-01 3.333266e-01 6.864228e-03 \n",
       "       urban       smsast       inddea     cause113       follow        dayod \n",
       "1.000000e+00 1.000000e+00 0.000000e+00 0.000000e+00 0.000000e+00 9.591451e-01 \n",
       "        hosp        hospd        ssnyn           vt     histatus       hitype \n",
       "9.612169e-01 9.621211e-01 0.000000e+00 2.239490e-02 2.068513e-01 2.068513e-01 \n",
       "      povpct       stater         rcow       tenure      citizen       health \n",
       "1.259726e-02 0.000000e+00 3.475578e-01 4.196383e-04 3.956114e-01 3.788523e-01 \n",
       "      indalg      smok100       agesmk     smokstat     smokhome      curruse \n",
       "8.526705e-01 0.000000e+00 6.085626e-01 1.189989e-03 4.485284e-01 5.013359e-02 \n",
       "     everuse \n",
       "5.013359e-02 "
      ]
     },
     "metadata": {},
     "output_type": "display_data"
    }
   ],
   "source": [
    "apply(data, 2, function(col)sum(is.na(col))/length(col))"
   ]
  },
  {
   "cell_type": "markdown",
   "metadata": {
    "_uuid": "05c84bced6e171b9940cc5137f21c53a20d74949"
   },
   "source": [
    "### Plan for Analysis\n",
    "Because our data set is relatively large (at nearly half a million samples), and only makes up a piece of the entire NIH mortality data set, we will proceed with complete case analysis. If we were interested in more generalizable inference, we would likely want to impute data by some technique, such as MICE (Multivariate Imputation by Chained Equations), as well as consider the other subsets of the mortality data set. Due to a lack of computing power (this analysis is being done on an old laptop), imputation will be foregone except in basic cases where the correct imputation choice is readily available. Columns containing information which we don't desire to control for will be dropped. Columns with largely missing data will be dropped. While this may potentially add omitted variable bias to our results, we take that risk here in order to end up with a more readily interpretable model. \n",
    "\n",
    "When the data has been adequately cleaned, we will estimate parameters for the variables in which we are interested. We will occasionally control for race, sex, marital status, etc. A logistic regression model will be fit to the data to estimate effect sizes on mortality. Afterwards, we will control for various parameters and fit a Generalized Random Forest to estimate the effect of various \"Treatment\" variables on mortality. \n",
    "\n",
    "We are making several assumptions here about the data we are removing. \n",
    "\n",
    "1) That while industry choice of employment may have an effect on mortality, we believe that income and employment status will have stronger effects, and act as a proxy for industry choice, as econometric studies have shown that income is closely associated with industry choice of employment.\n",
    "\n",
    "2) Smokeless tobacco has a negligable effect on mortality, and since we are more interested in smoking, we remove it. The variable agesmk likely has some effect, but there isn't an obvious interpretation for how to code for individuals who have never smoked. Whether smoking is allowed at home or not may be important, but we will assume the effect size of second hand smoke is much smaller than first-hand smoke.\n",
    "\n",
    "3) cause113: this indicates cause of death. At the moment, we are not interested in analyzing this.\n",
    "\n",
    "4) citizen: Being a citizen in the US or not likely does not have as strong of an effect on mortality as income. And since lack of citizenship may preclude individuals from high income jobs, we can take income and proverty level as a proxy for citizenship. We remove this variable since a large proportion of entries are missing.\n"
   ]
  },
  {
   "cell_type": "code",
   "execution_count": 5,
   "metadata": {
    "_uuid": "df8c4774fd5bbb630931c576de733ae4779ba8f7"
   },
   "outputs": [],
   "source": [
    "#dropping empty and needless columns\n",
    "#Most of these contain information such as what day of the week the person died, whether they used smokeless tobacco\n",
    "#Some columns also contain categories on what industry the person worked in. At the moment, we will not control for this.\n",
    "#we also drop the smokehome, and agesmk variables as the majority of the records have missing data.\n",
    "#We will make an assumption that being a citizen has no or small effect on mortality\n",
    "drops <- c(\"urban\", \"dayod\", \"hosp\", \"hospd\", \"hitype\", \"rcow\", \"indalg\", \"curruse\", \"everuse\", \"majind\", \"occ\", \"majocc\",\n",
    "           \"ind\", \"cause113\", \"smokhome\", \"agesmk\", \"esr\", \"smsast\", 'citizen')\n",
    "df <- data[,!(names(data) %in% drops)]"
   ]
  },
  {
   "cell_type": "markdown",
   "metadata": {
    "_uuid": "c3fff63feecab30676a52af9855ca69e33de5f28"
   },
   "source": [
    "The next line of code simply removes any incomplete cases from the data. Unfortunately, this removes almost $200,000$ records. There is a good chance that this will introduce bias into the analysis, but since proper imputation can be a difficult problem to solve, we accept this potential bias for the time being. (And we may always come back to this and attempt imputation later)."
   ]
  },
  {
   "cell_type": "code",
   "execution_count": 6,
   "metadata": {
    "_uuid": "8d24b7bcc43044db4d5b0053288e69efc1a4f37e"
   },
   "outputs": [
    {
     "data": {
      "text/html": [
       "<ol class=list-inline>\n",
       "\t<li>284753</li>\n",
       "\t<li>24</li>\n",
       "</ol>\n"
      ],
      "text/latex": [
       "\\begin{enumerate*}\n",
       "\\item 284753\n",
       "\\item 24\n",
       "\\end{enumerate*}\n"
      ],
      "text/markdown": [
       "1. 284753\n",
       "2. 24\n",
       "\n",
       "\n"
      ],
      "text/plain": [
       "[1] 284753     24"
      ]
     },
     "metadata": {},
     "output_type": "display_data"
    }
   ],
   "source": [
    "df <- df[complete.cases(df),]\n",
    "dim(df)"
   ]
  },
  {
   "cell_type": "code",
   "execution_count": 7,
   "metadata": {
    "_uuid": "4be2939a02c6790fc3007842132c33a416f3703b"
   },
   "outputs": [
    {
     "data": {
      "text/plain": [
       "     record            age             race            sex       \n",
       " Min.   :     1   Min.   :16.00   Min.   :1.000   Min.   :1.000  \n",
       " 1st Qu.: 81975   1st Qu.:31.00   1st Qu.:1.000   1st Qu.:1.000  \n",
       " Median :169169   Median :43.00   Median :1.000   Median :2.000  \n",
       " Mean   :236315   Mean   :45.02   Mean   :1.244   Mean   :1.534  \n",
       " 3rd Qu.:411552   3rd Qu.:57.00   3rd Qu.:1.000   3rd Qu.:2.000  \n",
       " Max.   :493282   Max.   :90.00   Max.   :5.000   Max.   :2.000  \n",
       "       ms             hisp           adjinc            educ       \n",
       " Min.   :1.000   Min.   :1.000   Min.   : 1.000   Min.   : 1.000  \n",
       " 1st Qu.:1.000   1st Qu.:3.000   1st Qu.: 6.000   1st Qu.: 8.000  \n",
       " Median :1.000   Median :3.000   Median : 9.000   Median : 8.000  \n",
       " Mean   :2.207   Mean   :2.829   Mean   : 8.875   Mean   : 9.313  \n",
       " 3rd Qu.:3.000   3rd Qu.:3.000   3rd Qu.:12.000   3rd Qu.:11.000  \n",
       " Max.   :5.000   Max.   :3.000   Max.   :14.000   Max.   :14.000  \n",
       "      pob              wt              hhid            hhnum       \n",
       " Min.   :  0.0   Min.   :   6.0   Min.   : 87634   Min.   : 1.000  \n",
       " 1st Qu.:909.0   1st Qu.: 146.0   1st Qu.:132160   1st Qu.: 2.000  \n",
       " Median :926.0   Median : 274.0   Median :176618   Median : 3.000  \n",
       " Mean   :824.9   Mean   : 292.3   Mean   :177224   Mean   : 3.023  \n",
       " 3rd Qu.:940.0   3rd Qu.: 385.0   3rd Qu.:221877   3rd Qu.: 4.000  \n",
       " Max.   :956.0   Max.   :2904.0   Max.   :268755   Max.   :16.000  \n",
       "     reltrf        inddea            follow         ssnyn       \n",
       " Min.   :1.0   Min.   :0.00000   Min.   :   0   Min.   :0.0000  \n",
       " 1st Qu.:1.0   1st Qu.:0.00000   1st Qu.:1827   1st Qu.:0.0000  \n",
       " Median :2.0   Median :0.00000   Median :1827   Median :1.0000  \n",
       " Mean   :2.4   Mean   :0.04191   Mean   :1787   Mean   :0.6247  \n",
       " 3rd Qu.:3.0   3rd Qu.:0.00000   3rd Qu.:1827   3rd Qu.:1.0000  \n",
       " Max.   :6.0   Max.   :1.00000   Max.   :1827   Max.   :1.0000  \n",
       "       vt            histatus          povpct          stater     \n",
       " Min.   :0.0000   Min.   :0.0000   Min.   : 1.00   Min.   :11.00  \n",
       " 1st Qu.:0.0000   1st Qu.:1.0000   1st Qu.: 7.00   1st Qu.:32.00  \n",
       " Median :0.0000   Median :1.0000   Median :13.00   Median :54.00  \n",
       " Mean   :0.1174   Mean   :0.8715   Mean   :12.45   Mean   :53.53  \n",
       " 3rd Qu.:0.0000   3rd Qu.:1.0000   3rd Qu.:18.00   3rd Qu.:74.00  \n",
       " Max.   :1.0000   Max.   :1.0000   Max.   :21.00   Max.   :95.00  \n",
       "     tenure          health         smok100         smokstat    \n",
       " Min.   :1.000   Min.   :1.000   Min.   :1.000   Min.   :1.000  \n",
       " 1st Qu.:1.000   1st Qu.:1.000   1st Qu.:1.000   1st Qu.:1.000  \n",
       " Median :1.000   Median :2.000   Median :2.000   Median :1.000  \n",
       " Mean   :1.274   Mean   :2.275   Mean   :1.586   Mean   :1.885  \n",
       " 3rd Qu.:2.000   3rd Qu.:3.000   3rd Qu.:2.000   3rd Qu.:3.000  \n",
       " Max.   :3.000   Max.   :5.000   Max.   :2.000   Max.   :4.000  "
      ]
     },
     "metadata": {},
     "output_type": "display_data"
    }
   ],
   "source": [
    "#summary statistics for the cleaned data frame\n",
    "summary(df)"
   ]
  },
  {
   "cell_type": "code",
   "execution_count": 8,
   "metadata": {
    "_uuid": "2cd1cd4b8d41cd7fa224c27e19d4a28097f05cfe",
    "scrolled": true
   },
   "outputs": [],
   "source": [
    "#recode female as 0\n",
    "df$sex[df['sex'] == 2] = 0\n",
    "#create a column for white and non-white indicators, and likewise for hispanic\n",
    "df$white <- as.numeric(df$race == 1)\n",
    "df$hispanic <- as.numeric(df$hisp < 3)\n",
    "#create a column indicating graduate from  highschool\n",
    "df$highschool <- as.numeric(df$educ >= 08 )\n",
    "\n",
    "#turn smok100 into a binary indicator\n",
    "df$smok100 <- as.numeric(df$smok100 == 1)\n",
    "\n",
    "#convert some non-ordinal columns into factors/dummy variables\n",
    "#this will be important later for fitting models later\n",
    "df$race <- factor(df$race)\n",
    "df$hisp <- factor(df$hisp)\n",
    "df$tenure <- factor(df$tenure)\n",
    "df$smokstat <- factor(df$smokstat)\n",
    "df$stater <- factor(df$stater)\n",
    "df$ms <- factor(df$ms)\n",
    "df$smokstat <- factor(df$smokstat)"
   ]
  },
  {
   "cell_type": "code",
   "execution_count": 9,
   "metadata": {
    "_uuid": "18a0c5e95e2c4f6f420b5a0c641260d99a9c44e3"
   },
   "outputs": [
    {
     "data": {
      "text/html": [
       "<ol class=list-inline>\n",
       "\t<li>'351500'</li>\n",
       "\t<li>'351504'</li>\n",
       "\t<li>'351505'</li>\n",
       "\t<li>'351506'</li>\n",
       "\t<li>'351507'</li>\n",
       "\t<li>'351512'</li>\n",
       "</ol>\n"
      ],
      "text/latex": [
       "\\begin{enumerate*}\n",
       "\\item '351500'\n",
       "\\item '351504'\n",
       "\\item '351505'\n",
       "\\item '351506'\n",
       "\\item '351507'\n",
       "\\item '351512'\n",
       "\\end{enumerate*}\n"
      ],
      "text/markdown": [
       "1. '351500'\n",
       "2. '351504'\n",
       "3. '351505'\n",
       "4. '351506'\n",
       "5. '351507'\n",
       "6. '351512'\n",
       "\n",
       "\n"
      ],
      "text/plain": [
       "[1] \"351500\" \"351504\" \"351505\" \"351506\" \"351507\" \"351512\""
      ]
     },
     "metadata": {},
     "output_type": "display_data"
    }
   ],
   "source": [
    "head(df[df['smokstat'] == 4])"
   ]
  },
  {
   "cell_type": "markdown",
   "metadata": {
    "_uuid": "3ddb9ad0e1a48680e5fcc3fced31b0ecd79ee1a3"
   },
   "source": [
    "### Visualization of the data\n",
    "\n",
    "We now visualize some of the data in order to have a more intuitive understanding of what the distribution of the data and the disparities between groups."
   ]
  },
  {
   "cell_type": "code",
   "execution_count": 10,
   "metadata": {
    "_uuid": "7514e96fc5fc1dd778498fd009f5c6e62767a1ec"
   },
   "outputs": [
    {
     "name": "stderr",
     "output_type": "stream",
     "text": [
      "Warning message:\n",
      "\"package 'ggplot2' was built under R version 3.4.4\"Warning message:\n",
      "\"package 'repr' was built under R version 3.4.4\""
     ]
    }
   ],
   "source": [
    "library(ggplot2)\n",
    "library(repr)\n",
    "options(repr.plot.width=4.5, repr.plot.height=3.5)"
   ]
  },
  {
   "cell_type": "code",
   "execution_count": 11,
   "metadata": {
    "_uuid": "dc50c8f810a9658adaa87d067780f29518995104"
   },
   "outputs": [
    {
     "data": {},
     "metadata": {},
     "output_type": "display_data"
    },
    {
     "data": {
      "image/png": "[encoded data removed]",
      "text/plain": [
       "plot without title"
      ]
     },
     "metadata": {},
     "output_type": "display_data"
    }
   ],
   "source": [
    "ggplot(data = df, aes(x = factor(inddea), fill = factor(inddea))) +\n",
    "    geom_bar(aes(y = prop.table(..count..) * 100),\n",
    "             position = \"dodge\") + \n",
    "    geom_text(aes(y = prop.table(..count..) * 100 + 0.5, \n",
    "                  label = paste0(prop.table(..count..) * 100, '%')), \n",
    "              stat = 'count', \n",
    "              position = position_dodge(1), \n",
    "              size = 3) +\n",
    "scale_x_discrete(labels = c(\"No\", \"Yes\"))+\n",
    "labs(x = \"Died\", y = \"Percentage\", fill = \"inddea\")"
   ]
  },
  {
   "cell_type": "code",
   "execution_count": 12,
   "metadata": {
    "_uuid": "b90d3897b7175dbbf8f8dcf78708a63f4b4f801d"
   },
   "outputs": [
    {
     "data": {},
     "metadata": {},
     "output_type": "display_data"
    },
    {
     "data": {
      "image/png": "[encoded data removed]",
      "text/plain": [
       "plot without title"
      ]
     },
     "metadata": {},
     "output_type": "display_data"
    }
   ],
   "source": [
    "ggplot(df, aes(age)) +\n",
    "geom_histogram( col = 'black', aes(fill = ..count..), alpha = 1, bins = 20) +\n",
    "scale_x_continuous(name = \"Age\", breaks = seq(15, 90, by = 10))+\n",
    "labs(title = 'Distribution of Age')"
   ]
  },
  {
   "cell_type": "code",
   "execution_count": 13,
   "metadata": {
    "_uuid": "9ed2e052bd72027a5226d22ee68f78bca8ab65f2"
   },
   "outputs": [
    {
     "data": {},
     "metadata": {},
     "output_type": "display_data"
    },
    {
     "data": {
      "image/png": "[encoded data removed]",
      "text/plain": [
       "plot without title"
      ]
     },
     "metadata": {},
     "output_type": "display_data"
    }
   ],
   "source": [
    "ggplot(df, aes(race)) +\n",
    "geom_bar( col = 'black', aes(fill = ..count..), alpha = 0.8) +\n",
    "scale_x_discrete(name = \"Race\", labels = c(\"White\", \"Black\", \"American Native\", \"Asian\", \"Other Non-white\"))+\n",
    "labs(title = 'Distribution of Race') +\n",
    "theme(axis.text.x = element_text(angle = 90, hjust = 1))"
   ]
  },
  {
   "cell_type": "code",
   "execution_count": 14,
   "metadata": {
    "_uuid": "4d7e8776a525bd2a19aeadf77840f07b7c4ab371"
   },
   "outputs": [
    {
     "data": {},
     "metadata": {},
     "output_type": "display_data"
    },
    {
     "data": {
      "image/png": "[encoded data removed]",
      "text/plain": [
       "plot without title"
      ]
     },
     "metadata": {},
     "output_type": "display_data"
    }
   ],
   "source": [
    "ggplot(df, aes(factor(sex))) +\n",
    "geom_bar(col = 'black', aes(fill = ..count..), alpha = 0.8) +\n",
    "scale_x_discrete(name = \"Sex\", labels = c(\"0\" = \"Female\", \"1\" = \"Male\"))+\n",
    "labs(title = 'Distribution of Sex') +\n",
    "theme(axis.text.x = element_text(angle = 90, hjust = 1))\n"
   ]
  },
  {
   "cell_type": "code",
   "execution_count": 15,
   "metadata": {
    "_uuid": "1d29782182f5a099fbb5a0f00446fefe5d3efa74"
   },
   "outputs": [
    {
     "data": {},
     "metadata": {},
     "output_type": "display_data"
    },
    {
     "data": {
      "image/png": "[encoded data removed]",
      "text/plain": [
       "plot without title"
      ]
     },
     "metadata": {},
     "output_type": "display_data"
    }
   ],
   "source": [
    "ggplot(df, aes(ms)) +\n",
    "geom_bar( col = 'black', aes(fill = ..count..), alpha = 0.8) +\n",
    "scale_x_discrete(name = \"Marital Status\", labels = c(\"Married\", \"Widowed\", \"Divorced\", \"Separated\", \"Never Married\"))+\n",
    "labs(title = 'Distribution of Marital Status') +\n",
    "theme(axis.text.x = element_text(angle = 90, hjust = 1))"
   ]
  },
  {
   "cell_type": "code",
   "execution_count": 16,
   "metadata": {
    "_uuid": "47a6c32195ab22f167947bd1e1339925e6a48de0"
   },
   "outputs": [
    {
     "data": {},
     "metadata": {},
     "output_type": "display_data"
    },
    {
     "data": {
      "image/png": "[encoded data removed]",
      "text/plain": [
       "plot without title"
      ]
     },
     "metadata": {},
     "output_type": "display_data"
    }
   ],
   "source": [
    "labelz <- c(\"$0-4999\", \"$5000-7499\", \"$7500 - 9999\", \"$10,000 - 12,499\", \"$12,500 - 14,999\", \"$15,000 - 19,999\",\n",
    "           \"$20,000 - 24,999\", \"$25,000 - 29,999\", \"$30,000 - 34,999\", \"$35,000 - 39,999\", \"$40,000 - 49,999\",\n",
    "           \"$50,000 - $59,999\", \"60,000 - 74,999\", \"$75,000+\")\n",
    "\n",
    "ggplot(df, aes(factor(adjinc))) +\n",
    "geom_bar( col = 'black', aes(fill = ..count..), alpha = 0.8) +\n",
    "scale_x_discrete(name = \"Adjusted Income Bracket\", labels = labelz)+\n",
    "labs(title = 'Distribution of Income') +\n",
    "theme(axis.text.x = element_text(angle = 90, hjust = 1))\n",
    "rm(labelz)"
   ]
  },
  {
   "cell_type": "code",
   "execution_count": 17,
   "metadata": {
    "_uuid": "2bd9d9870c797c6c5cfafe87d2c65d24c784f8f3"
   },
   "outputs": [
    {
     "data": {},
     "metadata": {},
     "output_type": "display_data"
    },
    {
     "data": {
      "image/png": "[encoded data removed]",
      "text/plain": [
       "plot without title"
      ]
     },
     "metadata": {},
     "output_type": "display_data"
    }
   ],
   "source": [
    "labelz <- c(\"None\", \"4th Grade\", \"6th Grade\", \"8th Grade\", \"9th Grade\", \"10th Grade\", \"11th Grade\", \n",
    "           \"12th Grade\", \"3 Year College\",\"4 Year College\", \"Advanced Degree\")\n",
    "\n",
    "ggplot(df, aes(factor(educ))) +\n",
    "geom_bar( col = 'black', aes(fill = ..count..), alpha = 0.8) +\n",
    "scale_x_discrete(name = \"Education Level Completed\", labels = labelz)+\n",
    "labs(title = 'Distribution of Education') +\n",
    "theme(axis.text.x = element_text(angle = 90, hjust = 1))\n",
    "rm(labelz)"
   ]
  },
  {
   "cell_type": "markdown",
   "metadata": {
    "_uuid": "ceaa8dc3f59ef4ae938f92ba10b0219601f1d9e2"
   },
   "source": [
    "### Parameter Estimates\n",
    "\n",
    "We provide some simple parameter estimates of the mortality rates among different cohorts in the study. We do not control for many variables here.\n",
    "\n",
    "The following cell creates a function to deploy a Wald Score Interval at 99% confidence. We choose a high level of confidence to reflect the large sample size, and choose the Wald Score Interval due to the mortality proportion being fairly close to 0. In this case, a normal approximation interval will have fairly bad coverage.\n",
    "\n",
    "##### (NB: Work in progress. I want to figure out a nice way to plot all these confidence intervals.)"
   ]
  },
  {
   "cell_type": "code",
   "execution_count": 18,
   "metadata": {
    "_uuid": "e7164e0658973b8759d7b14f5368a7f45f10a152"
   },
   "outputs": [
    {
     "name": "stderr",
     "output_type": "stream",
     "text": [
      "Warning message:\n",
      "\"package 'DescTools' was built under R version 3.4.4\""
     ]
    }
   ],
   "source": [
    "\n",
    "library(DescTools)\n",
    "wald.int <- function(data) {\n",
    "    x_1 <- sum(data)\n",
    "    n_1 <- length(data)\n",
    "    p <- BinomCI(x_1, n_1, conf.level =0.99, method = 'wald')\n",
    "    cat(\"Mortality Rate and 99% Wald interval:\")\n",
    "    return(p)\n",
    "    rm(x_1, n_1, p)\n",
    "}"
   ]
  },
  {
   "cell_type": "markdown",
   "metadata": {
    "_uuid": "d96bf6f0cbabe57eab0bc577caae4fa4a2e3a26a"
   },
   "source": [
    "Now we present a couple confidence intervals using this method. Not much can be gleaned from these estimates in the way of causality, as essentially nothing is being controlled. However, some of the numbers are interesting. In particular, men have a higher mortality than women, blacks have a higher mortality than whites, and those who did not complete high school have almost twice the mortality rate as those who did. "
   ]
  },
  {
   "cell_type": "code",
   "execution_count": 19,
   "metadata": {
    "_uuid": "1f804e3d671e291d71d26fe31b6f5e024eccdf35"
   },
   "outputs": [
    {
     "name": "stdout",
     "output_type": "stream",
     "text": [
      "Mortality Rate and 99% Wald interval:"
     ]
    },
    {
     "data": {
      "text/html": [
       "<table>\n",
       "<thead><tr><th scope=col>est</th><th scope=col>lwr.ci</th><th scope=col>upr.ci</th></tr></thead>\n",
       "<tbody>\n",
       "\t<tr><td>0.04681348</td><td>0.0453205 </td><td>0.04830645</td></tr>\n",
       "</tbody>\n",
       "</table>\n"
      ],
      "text/latex": [
       "\\begin{tabular}{lll}\n",
       " est & lwr.ci & upr.ci\\\\\n",
       "\\hline\n",
       "\t 0.04681348 & 0.0453205  & 0.04830645\\\\\n",
       "\\end{tabular}\n"
      ],
      "text/markdown": [
       "\n",
       "est | lwr.ci | upr.ci | \n",
       "|---|\n",
       "| 0.04681348 | 0.0453205  | 0.04830645 | \n",
       "\n",
       "\n"
      ],
      "text/plain": [
       "     est        lwr.ci    upr.ci    \n",
       "[1,] 0.04681348 0.0453205 0.04830645"
      ]
     },
     "metadata": {},
     "output_type": "display_data"
    }
   ],
   "source": [
    "#Mortality estimate for males\n",
    "wald.int(data = df$inddea[df['sex'] == 1])"
   ]
  },
  {
   "cell_type": "code",
   "execution_count": 20,
   "metadata": {
    "_uuid": "eaa5b8477aec0578922d9381ab67802b79ff3a8a"
   },
   "outputs": [
    {
     "name": "stdout",
     "output_type": "stream",
     "text": [
      "Mortality Rate and 99% Wald interval:"
     ]
    },
    {
     "data": {
      "text/html": [
       "<table>\n",
       "<thead><tr><th scope=col>est</th><th scope=col>lwr.ci</th><th scope=col>upr.ci</th></tr></thead>\n",
       "<tbody>\n",
       "\t<tr><td>0.03762967</td><td>0.03637209</td><td>0.03888724</td></tr>\n",
       "</tbody>\n",
       "</table>\n"
      ],
      "text/latex": [
       "\\begin{tabular}{lll}\n",
       " est & lwr.ci & upr.ci\\\\\n",
       "\\hline\n",
       "\t 0.03762967 & 0.03637209 & 0.03888724\\\\\n",
       "\\end{tabular}\n"
      ],
      "text/markdown": [
       "\n",
       "est | lwr.ci | upr.ci | \n",
       "|---|\n",
       "| 0.03762967 | 0.03637209 | 0.03888724 | \n",
       "\n",
       "\n"
      ],
      "text/plain": [
       "     est        lwr.ci     upr.ci    \n",
       "[1,] 0.03762967 0.03637209 0.03888724"
      ]
     },
     "metadata": {},
     "output_type": "display_data"
    }
   ],
   "source": [
    "#Mortality estimate for females\n",
    "wald.int(data = df$inddea[df['sex'] == 0])"
   ]
  },
  {
   "cell_type": "code",
   "execution_count": 21,
   "metadata": {
    "_uuid": "c5502ed60116d1633e6915f9385bd5c7c26df992"
   },
   "outputs": [
    {
     "name": "stdout",
     "output_type": "stream",
     "text": [
      "Mortality Rate and 99% Wald interval:"
     ]
    },
    {
     "data": {
      "text/html": [
       "<table>\n",
       "<thead><tr><th scope=col>est</th><th scope=col>lwr.ci</th><th scope=col>upr.ci</th></tr></thead>\n",
       "<tbody>\n",
       "\t<tr><td>0.04211534</td><td>0.04106689</td><td>0.04316378</td></tr>\n",
       "</tbody>\n",
       "</table>\n"
      ],
      "text/latex": [
       "\\begin{tabular}{lll}\n",
       " est & lwr.ci & upr.ci\\\\\n",
       "\\hline\n",
       "\t 0.04211534 & 0.04106689 & 0.04316378\\\\\n",
       "\\end{tabular}\n"
      ],
      "text/markdown": [
       "\n",
       "est | lwr.ci | upr.ci | \n",
       "|---|\n",
       "| 0.04211534 | 0.04106689 | 0.04316378 | \n",
       "\n",
       "\n"
      ],
      "text/plain": [
       "     est        lwr.ci     upr.ci    \n",
       "[1,] 0.04211534 0.04106689 0.04316378"
      ]
     },
     "metadata": {},
     "output_type": "display_data"
    }
   ],
   "source": [
    "#Mortality estimate for whites\n",
    "wald.int(data = df$inddea[df['race'] == 1])"
   ]
  },
  {
   "cell_type": "code",
   "execution_count": 22,
   "metadata": {
    "_uuid": "28d40a9e411e4de5216f891c38b49b32ced5cba6"
   },
   "outputs": [
    {
     "name": "stdout",
     "output_type": "stream",
     "text": [
      "Mortality Rate and 99% Wald interval:"
     ]
    },
    {
     "data": {
      "text/html": [
       "<table>\n",
       "<thead><tr><th scope=col>est</th><th scope=col>lwr.ci</th><th scope=col>upr.ci</th></tr></thead>\n",
       "<tbody>\n",
       "\t<tr><td>0.04894306</td><td>0.04551333</td><td>0.05237279</td></tr>\n",
       "</tbody>\n",
       "</table>\n"
      ],
      "text/latex": [
       "\\begin{tabular}{lll}\n",
       " est & lwr.ci & upr.ci\\\\\n",
       "\\hline\n",
       "\t 0.04894306 & 0.04551333 & 0.05237279\\\\\n",
       "\\end{tabular}\n"
      ],
      "text/markdown": [
       "\n",
       "est | lwr.ci | upr.ci | \n",
       "|---|\n",
       "| 0.04894306 | 0.04551333 | 0.05237279 | \n",
       "\n",
       "\n"
      ],
      "text/plain": [
       "     est        lwr.ci     upr.ci    \n",
       "[1,] 0.04894306 0.04551333 0.05237279"
      ]
     },
     "metadata": {},
     "output_type": "display_data"
    }
   ],
   "source": [
    "#Mortality estimate for blacks\n",
    "wald.int(data = df$inddea[df['race'] == 2])"
   ]
  },
  {
   "cell_type": "code",
   "execution_count": 23,
   "metadata": {
    "_uuid": "a0cd50e94173652431dfa89b0b18c8dd48843878"
   },
   "outputs": [
    {
     "name": "stdout",
     "output_type": "stream",
     "text": [
      "Mortality Rate and 99% Wald interval:"
     ]
    },
    {
     "data": {
      "text/html": [
       "<table>\n",
       "<thead><tr><th scope=col>est</th><th scope=col>lwr.ci</th><th scope=col>upr.ci</th></tr></thead>\n",
       "<tbody>\n",
       "\t<tr><td>0.03418579</td><td>0.03320719</td><td>0.03516439</td></tr>\n",
       "</tbody>\n",
       "</table>\n"
      ],
      "text/latex": [
       "\\begin{tabular}{lll}\n",
       " est & lwr.ci & upr.ci\\\\\n",
       "\\hline\n",
       "\t 0.03418579 & 0.03320719 & 0.03516439\\\\\n",
       "\\end{tabular}\n"
      ],
      "text/markdown": [
       "\n",
       "est | lwr.ci | upr.ci | \n",
       "|---|\n",
       "| 0.03418579 | 0.03320719 | 0.03516439 | \n",
       "\n",
       "\n"
      ],
      "text/plain": [
       "     est        lwr.ci     upr.ci    \n",
       "[1,] 0.03418579 0.03320719 0.03516439"
      ]
     },
     "metadata": {},
     "output_type": "display_data"
    }
   ],
   "source": [
    "#Mortality estimate for those who completed highschool\n",
    "wald.int(data = df$inddea[df['highschool'] == 1])"
   ]
  },
  {
   "cell_type": "code",
   "execution_count": 24,
   "metadata": {
    "_uuid": "fda9b46b3bdeb3df6c1a5cae7ff1916272942d7d"
   },
   "outputs": [
    {
     "name": "stdout",
     "output_type": "stream",
     "text": [
      "Mortality Rate and 99% Wald interval:"
     ]
    },
    {
     "data": {
      "text/html": [
       "<table>\n",
       "<thead><tr><th scope=col>est</th><th scope=col>lwr.ci</th><th scope=col>upr.ci</th></tr></thead>\n",
       "<tbody>\n",
       "\t<tr><td>0.07347821</td><td>0.07063821</td><td>0.07631821</td></tr>\n",
       "</tbody>\n",
       "</table>\n"
      ],
      "text/latex": [
       "\\begin{tabular}{lll}\n",
       " est & lwr.ci & upr.ci\\\\\n",
       "\\hline\n",
       "\t 0.07347821 & 0.07063821 & 0.07631821\\\\\n",
       "\\end{tabular}\n"
      ],
      "text/markdown": [
       "\n",
       "est | lwr.ci | upr.ci | \n",
       "|---|\n",
       "| 0.07347821 | 0.07063821 | 0.07631821 | \n",
       "\n",
       "\n"
      ],
      "text/plain": [
       "     est        lwr.ci     upr.ci    \n",
       "[1,] 0.07347821 0.07063821 0.07631821"
      ]
     },
     "metadata": {},
     "output_type": "display_data"
    }
   ],
   "source": [
    "#Mortality estimate for those who did not complete highschool\n",
    "wald.int(data = df$inddea[df['highschool'] == 0])"
   ]
  },
  {
   "cell_type": "markdown",
   "metadata": {
    "_uuid": "8d8d9980c7eaa0e035a02a3388c4e3139dd97a78"
   },
   "source": [
    "### Logistic Regression Analysis\n",
    "\n",
    "###### Under Construction\n",
    "\n",
    "In this section, we fit a logistic regression model in order to get a better understanding of the features' associations with mortality in this study. The choice of logistic regression is clear - the outcome we are interested in is the variable \"inddea\", which is a binary indicator of an individual dying during the followup. We fit multiple models, starting simple, then adding complexity.\n",
    "\n",
    "First, we relabel some of the columns in the data frame so that it is more interpretable, then we fit a logistic regression using just age, health, and gender."
   ]
  },
  {
   "cell_type": "code",
   "execution_count": 25,
   "metadata": {
    "_uuid": "66a7c067a71de557b647486a3fa2d4c15ba01b62"
   },
   "outputs": [],
   "source": [
    "levels(df$ms) <- c(\"Married\", \"Widowed\", \"Divorced\", \"Seperated\", \"Never Married\")\n",
    "levels(df$hisp) <- c(\"Mexican\", \"Other Hispanic\", \"Non-hispanic\")\n",
    "levels(df$race) <- c(\"White\", \"Black\", \"Native American\", \"Asian\", \"Other Nonwhite\")\n",
    "levels(df$smokstat) <- c(\"Never Smoked\", \"Every day\", \"Occasionally\", \"Former\")\n",
    "levels(df$tenure) <- c(\"Owns House\", \"Rents House\", \"Rents house/noncash\")"
   ]
  },
  {
   "cell_type": "code",
   "execution_count": 27,
   "metadata": {
    "_uuid": "4cdc88c574d5514bca017bc11c86dfe88e6c8d96"
   },
   "outputs": [
    {
     "data": {
      "text/plain": [
       "\n",
       "Call:\n",
       "glm(formula = fmla, family = binomial(link = \"logit\"), data = df)\n",
       "\n",
       "Deviance Residuals: \n",
       "    Min       1Q   Median       3Q      Max  \n",
       "-1.5101  -0.2442  -0.1289  -0.0742   3.8842  \n",
       "\n",
       "Coefficients:\n",
       "              Estimate Std. Error z value Pr(>|z|)    \n",
       "(Intercept) -9.2949799  0.0551122 -168.66   <2e-16 ***\n",
       "age          0.0773161  0.0007371  104.89   <2e-16 ***\n",
       "health       0.5149244  0.0092430   55.71   <2e-16 ***\n",
       "sex          0.5167815  0.0205582   25.14   <2e-16 ***\n",
       "---\n",
       "Signif. codes:  0 '***' 0.001 '**' 0.01 '*' 0.05 '.' 0.1 ' ' 1\n",
       "\n",
       "(Dispersion parameter for binomial family taken to be 1)\n",
       "\n",
       "    Null deviance: 99082  on 284752  degrees of freedom\n",
       "Residual deviance: 72104  on 284749  degrees of freedom\n",
       "AIC: 72112\n",
       "\n",
       "Number of Fisher Scoring iterations: 7\n"
      ]
     },
     "metadata": {},
     "output_type": "display_data"
    }
   ],
   "source": [
    "fmla <- inddea ~ age + health + sex\n",
    "\n",
    "model <- glm(fmla, data = df, family = binomial(link = \"logit\"))\n",
    "\n",
    "summary(model)"
   ]
  },
  {
   "cell_type": "markdown",
   "metadata": {
    "_uuid": "d92461272e0e08f14dbb4710f17c378126a9bd1c"
   },
   "source": [
    "We can check how good our model fits the data. Because the positive class is extremely rare, making up less than $5$% of the data, most methods of checking fit (such as error rate and accuracy) are inappropriate. The null model of simply predicting everything into the negative class (not dying) will give an accuracy of over $95$%!\n",
    "\n",
    "Instead, we will use the area under the Reciever Operating Characteristic curve. With this metric, a score of $1$ is a perfect model with no incorrectly predicted classes. A score of $0.50$ is equivalent to random guessing. The ROC curve is computed by testing all possible decision curve cut offs with the prediction probabilities given by the model."
   ]
  },
  {
   "cell_type": "code",
   "execution_count": 28,
   "metadata": {
    "_uuid": "92c531b65cb354f287e166d2b98b91a01290be64"
   },
   "outputs": [
    {
     "name": "stderr",
     "output_type": "stream",
     "text": [
      "Warning message:\n",
      "\"package 'ROCR' was built under R version 3.4.4\"Loading required package: gplots\n",
      "Warning message:\n",
      "\"package 'gplots' was built under R version 3.4.4\"\n",
      "Attaching package: 'gplots'\n",
      "\n",
      "The following object is masked from 'package:stats':\n",
      "\n",
      "    lowess\n",
      "\n"
     ]
    },
    {
     "data": {
      "text/html": [
       "0.877024705326675"
      ],
      "text/latex": [
       "0.877024705326675"
      ],
      "text/markdown": [
       "0.877024705326675"
      ],
      "text/plain": [
       "[1] 0.8770247"
      ]
     },
     "metadata": {},
     "output_type": "display_data"
    },
    {
     "data": {
      "image/png": "[encoded data removed]",
      "text/plain": [
       "plot without title"
      ]
     },
     "metadata": {},
     "output_type": "display_data"
    }
   ],
   "source": [
    "library(ROCR)\n",
    "p <- predict(model, type=\"response\")\n",
    "pr <- prediction(p, df$inddea)\n",
    "prf <- performance(pr, measure = \"tpr\", x.measure = \"fpr\")\n",
    "plot(prf)\n",
    "\n",
    "auc <- performance(pr, measure = \"auc\")\n",
    "auc <- auc@y.values[[1]]\n",
    "auc"
   ]
  },
  {
   "cell_type": "code",
   "execution_count": 29,
   "metadata": {
    "_uuid": "92dd350be79d4d1e3cab3eb995aa069b4fa4e27f"
   },
   "outputs": [
    {
     "data": {
      "text/plain": [
       "\n",
       "Call:\n",
       "glm(formula = fmla, family = binomial(link = \"logit\"), data = df)\n",
       "\n",
       "Deviance Residuals: \n",
       "    Min       1Q   Median       3Q      Max  \n",
       "-1.6341  -0.2456  -0.1236  -0.0682   3.9694  \n",
       "\n",
       "Coefficients: (1 not defined because of singularities)\n",
       "                       Estimate Std. Error  z value Pr(>|z|)    \n",
       "(Intercept)          -9.6717141  0.0593000 -163.098  < 2e-16 ***\n",
       "age                   0.0812641  0.0007837  103.695  < 2e-16 ***\n",
       "health                0.4936017  0.0092752   53.218  < 2e-16 ***\n",
       "sex                   0.4344095  0.0212158   20.476  < 2e-16 ***\n",
       "smok100               0.2900891  0.0236520   12.265  < 2e-16 ***\n",
       "smokstatEvery day     0.4391305  0.0312206   14.065  < 2e-16 ***\n",
       "smokstatOccasionally  0.2588403  0.0619402    4.179 2.93e-05 ***\n",
       "smokstatFormer               NA         NA       NA       NA    \n",
       "---\n",
       "Signif. codes:  0 '***' 0.001 '**' 0.01 '*' 0.05 '.' 0.1 ' ' 1\n",
       "\n",
       "(Dispersion parameter for binomial family taken to be 1)\n",
       "\n",
       "    Null deviance: 99082  on 284752  degrees of freedom\n",
       "Residual deviance: 71513  on 284746  degrees of freedom\n",
       "AIC: 71527\n",
       "\n",
       "Number of Fisher Scoring iterations: 7\n"
      ]
     },
     "metadata": {},
     "output_type": "display_data"
    }
   ],
   "source": [
    "#We add smoking status and whether the person smoked 100 cigarettes to the model\n",
    "#the appearance of the NA for smokstat4 implies that the variable is given as a linear combination of the others\n",
    "#the model must drop it for the system to be solvable, but the rest of the coefficients work\n",
    "fmla <- inddea ~ age + health + sex + smok100 + smokstat\n",
    "\n",
    "model <- glm(fmla, data = df, family = binomial(link = \"logit\"))\n",
    "\n",
    "summary(model)"
   ]
  },
  {
   "cell_type": "code",
   "execution_count": 30,
   "metadata": {
    "_uuid": "9480f36279bc7966899c5fb8c251273e79166aab"
   },
   "outputs": [
    {
     "data": {
      "text/html": [
       "0.880209945549816"
      ],
      "text/latex": [
       "0.880209945549816"
      ],
      "text/markdown": [
       "0.880209945549816"
      ],
      "text/plain": [
       "[1] 0.8802099"
      ]
     },
     "metadata": {},
     "output_type": "display_data"
    },
    {
     "data": {
      "image/png": "[encoded data removed]",
      "text/plain": [
       "plot without title"
      ]
     },
     "metadata": {},
     "output_type": "display_data"
    }
   ],
   "source": [
    "p <- predict(model, type=\"response\")\n",
    "pr <- prediction(p, df$inddea)\n",
    "prf <- performance(pr, measure = \"tpr\", x.measure = \"fpr\")\n",
    "plot(prf)\n",
    "\n",
    "auc <- performance(pr, measure = \"auc\")\n",
    "auc <- auc@y.values[[1]]\n",
    "auc"
   ]
  },
  {
   "cell_type": "code",
   "execution_count": 31,
   "metadata": {
    "_uuid": "4891f73242e7c66d1debab40d269f3ef3d2e0aa0"
   },
   "outputs": [
    {
     "data": {
      "text/plain": [
       "\n",
       "Call:\n",
       "glm(formula = fmla, family = binomial(link = \"logit\"), data = df)\n",
       "\n",
       "Deviance Residuals: \n",
       "    Min       1Q   Median       3Q      Max  \n",
       "-1.6628  -0.2421  -0.1229  -0.0696   3.9857  \n",
       "\n",
       "Coefficients: (1 not defined because of singularities)\n",
       "                       Estimate Std. Error  z value Pr(>|z|)    \n",
       "(Intercept)          -9.287e+00  7.855e-02 -118.230  < 2e-16 ***\n",
       "age                   7.950e-02  8.008e-04   99.276  < 2e-16 ***\n",
       "health                4.702e-01  9.725e-03   48.354  < 2e-16 ***\n",
       "sex                   4.614e-01  2.143e-02   21.532  < 2e-16 ***\n",
       "smok100               2.981e-01  2.370e-02   12.577  < 2e-16 ***\n",
       "smokstatEvery day     4.103e-01  3.142e-02   13.057  < 2e-16 ***\n",
       "smokstatOccasionally  2.288e-01  6.205e-02    3.687 0.000227 ***\n",
       "smokstatFormer               NA         NA       NA       NA    \n",
       "educ                 -6.829e-05  3.648e-03   -0.019 0.985062    \n",
       "adjinc               -2.842e-02  3.064e-03   -9.274  < 2e-16 ***\n",
       "---\n",
       "Signif. codes:  0 '***' 0.001 '**' 0.01 '*' 0.05 '.' 0.1 ' ' 1\n",
       "\n",
       "(Dispersion parameter for binomial family taken to be 1)\n",
       "\n",
       "    Null deviance: 99082  on 284752  degrees of freedom\n",
       "Residual deviance: 71419  on 284744  degrees of freedom\n",
       "AIC: 71437\n",
       "\n",
       "Number of Fisher Scoring iterations: 7\n"
      ]
     },
     "metadata": {},
     "output_type": "display_data"
    }
   ],
   "source": [
    "#now we add adjusted income, and education\n",
    "fmla <- inddea ~  age + health + sex + smok100 + smokstat + educ + adjinc\n",
    "\n",
    "model <- glm(fmla, data = df, family = binomial(link = \"logit\"))\n",
    "\n",
    "summary(model)"
   ]
  },
  {
   "cell_type": "code",
   "execution_count": 32,
   "metadata": {
    "_uuid": "fffe16f638e9d156cbb99ba9dbfde01af98e0d82"
   },
   "outputs": [
    {
     "data": {
      "text/html": [
       "0.880884239667783"
      ],
      "text/latex": [
       "0.880884239667783"
      ],
      "text/markdown": [
       "0.880884239667783"
      ],
      "text/plain": [
       "[1] 0.8808842"
      ]
     },
     "metadata": {},
     "output_type": "display_data"
    },
    {
     "data": {
      "image/png": "[encoded data removed]",
      "text/plain": [
       "plot without title"
      ]
     },
     "metadata": {},
     "output_type": "display_data"
    }
   ],
   "source": [
    "p <- predict(model, type=\"response\")\n",
    "pr <- prediction(p, df$inddea)\n",
    "prf <- performance(pr, measure = \"tpr\", x.measure = \"fpr\")\n",
    "plot(prf)\n",
    "\n",
    "auc <- performance(pr, measure = \"auc\")\n",
    "auc <- auc@y.values[[1]]\n",
    "auc"
   ]
  },
  {
   "cell_type": "code",
   "execution_count": 33,
   "metadata": {
    "_uuid": "18603dfb5c983899f1923a4cc1cfc856ddfee7be"
   },
   "outputs": [
    {
     "data": {
      "text/plain": [
       "\n",
       "Call:\n",
       "glm(formula = fmla, family = binomial(link = \"logit\"), data = df)\n",
       "\n",
       "Deviance Residuals: \n",
       "    Min       1Q   Median       3Q      Max  \n",
       "-1.6831  -0.2398  -0.1219  -0.0708   3.9709  \n",
       "\n",
       "Coefficients: (1 not defined because of singularities)\n",
       "                       Estimate Std. Error z value Pr(>|z|)    \n",
       "(Intercept)          -9.9735773  0.1002591 -99.478  < 2e-16 ***\n",
       "age                   0.0787425  0.0008827  89.210  < 2e-16 ***\n",
       "health                0.4758182  0.0097975  48.565  < 2e-16 ***\n",
       "sex                   0.5397079  0.0225694  23.913  < 2e-16 ***\n",
       "smok100               0.2967462  0.0239622  12.384  < 2e-16 ***\n",
       "smokstatEvery day     0.3708082  0.0316489  11.716  < 2e-16 ***\n",
       "smokstatOccasionally  0.2007904  0.0623065   3.223 0.001270 ** \n",
       "smokstatFormer               NA         NA      NA       NA    \n",
       "educ                 -0.0084037  0.0037770  -2.225 0.026084 *  \n",
       "adjinc               -0.0102866  0.0032604  -3.155 0.001605 ** \n",
       "raceBlack             0.0341007  0.0344563   0.990 0.322331    \n",
       "raceNative American   0.0974945  0.0981955   0.993 0.320777    \n",
       "raceAsian            -0.4108103  0.0753751  -5.450 5.03e-08 ***\n",
       "raceOther Nonwhite   -0.0519358  0.1488591  -0.349 0.727170    \n",
       "hispOther Hispanic    0.1328448  0.0926673   1.434 0.151696    \n",
       "hispNon-hispanic      0.4992438  0.0674978   7.396 1.40e-13 ***\n",
       "msWidowed             0.3445393  0.0285754  12.057  < 2e-16 ***\n",
       "msDivorced            0.2702355  0.0360891   7.488 6.99e-14 ***\n",
       "msSeperated           0.2962986  0.0802063   3.694 0.000221 ***\n",
       "msNever Married       0.5319294  0.0406624  13.082  < 2e-16 ***\n",
       "---\n",
       "Signif. codes:  0 '***' 0.001 '**' 0.01 '*' 0.05 '.' 0.1 ' ' 1\n",
       "\n",
       "(Dispersion parameter for binomial family taken to be 1)\n",
       "\n",
       "    Null deviance: 99082  on 284752  degrees of freedom\n",
       "Residual deviance: 71013  on 284734  degrees of freedom\n",
       "AIC: 71051\n",
       "\n",
       "Number of Fisher Scoring iterations: 7\n"
      ]
     },
     "metadata": {},
     "output_type": "display_data"
    }
   ],
   "source": [
    "#now we add in race and hispanic status and marital status. We also interact some of the strongest effects. \n",
    "fmla <- inddea ~  age + health + sex + smok100 + smokstat + educ + adjinc + race + hisp + ms\n",
    "\n",
    "model <- glm(fmla, data = df, family = binomial(link = \"logit\"))\n",
    "\n",
    "summary(model)"
   ]
  },
  {
   "cell_type": "code",
   "execution_count": 34,
   "metadata": {
    "_uuid": "e93c0e41ff8ca6cfdb6d06066572ccc9d7bb1534"
   },
   "outputs": [
    {
     "data": {
      "text/html": [
       "0.882896725787489"
      ],
      "text/latex": [
       "0.882896725787489"
      ],
      "text/markdown": [
       "0.882896725787489"
      ],
      "text/plain": [
       "[1] 0.8828967"
      ]
     },
     "metadata": {},
     "output_type": "display_data"
    },
    {
     "data": {
      "image/png": "[encoded data removed]",
      "text/plain": [
       "plot without title"
      ]
     },
     "metadata": {},
     "output_type": "display_data"
    }
   ],
   "source": [
    "p <- predict(model, type=\"response\")\n",
    "pr <- prediction(p, df$inddea)\n",
    "prf <- performance(pr, measure = \"tpr\", x.measure = \"fpr\")\n",
    "plot(prf)\n",
    "\n",
    "auc <- performance(pr, measure = \"auc\")\n",
    "auc <- auc@y.values[[1]]\n",
    "auc"
   ]
  },
  {
   "cell_type": "markdown",
   "metadata": {
    "_uuid": "072766f4f86f09c9114ee71ece8ac1b2cf6b39bc"
   },
   "source": [
    "### Generalized Random Forest\n",
    "\n",
    "##### Under construction\n",
    "\n",
    "In this section, we prepare and fit a Generalized Random Forest to estimate the \"treatment effect\" of different variables on the mortality outcome. \n",
    "\n"
   ]
  },
  {
   "cell_type": "code",
   "execution_count": 35,
   "metadata": {
    "_uuid": "824e38035700a810daa46ac0d3163e41767cb6c0"
   },
   "outputs": [
    {
     "name": "stderr",
     "output_type": "stream",
     "text": [
      "Warning message:\n",
      "\"package 'grf' was built under R version 3.4.4\""
     ]
    }
   ],
   "source": [
    "library(grf)"
   ]
  },
  {
   "cell_type": "code",
   "execution_count": 39,
   "metadata": {
    "_uuid": "7cc30443e73ae69cfe814b041f23b1a3125256a2"
   },
   "outputs": [
    {
     "name": "stderr",
     "output_type": "stream",
     "text": [
      "Warning message:\n",
      "\"package 'splitstackshape' was built under R version 3.4.4\""
     ]
    }
   ],
   "source": [
    "library(stats)\n",
    "library(splitstackshape)\n",
    "\n"
   ]
  },
  {
   "cell_type": "code",
   "execution_count": 40,
   "metadata": {
    "_uuid": "77cba4b2e9e628b80356be79586aaf8a44b20bc1"
   },
   "outputs": [],
   "source": [
    "train <- stratified(df, \"inddea\", 1000)"
   ]
  },
  {
   "cell_type": "code",
   "execution_count": 41,
   "metadata": {
    "_uuid": "88368c731edd59e2f9e50a123c4cfd28e06969d2"
   },
   "outputs": [
    {
     "data": {
      "text/html": [
       "<ol class=list-inline>\n",
       "\t<li>2000</li>\n",
       "\t<li>27</li>\n",
       "</ol>\n"
      ],
      "text/latex": [
       "\\begin{enumerate*}\n",
       "\\item 2000\n",
       "\\item 27\n",
       "\\end{enumerate*}\n"
      ],
      "text/markdown": [
       "1. 2000\n",
       "2. 27\n",
       "\n",
       "\n"
      ],
      "text/plain": [
       "[1] 2000   27"
      ]
     },
     "metadata": {},
     "output_type": "display_data"
    }
   ],
   "source": [
    "dim(train)"
   ]
  },
  {
   "cell_type": "code",
   "execution_count": 42,
   "metadata": {
    "_uuid": "a79edc3391208d7e5b127ba6528fd0e9bc3c66db"
   },
   "outputs": [
    {
     "data": {
      "text/html": [
       "0.5"
      ],
      "text/latex": [
       "0.5"
      ],
      "text/markdown": [
       "0.5"
      ],
      "text/plain": [
       "[1] 0.5"
      ]
     },
     "metadata": {},
     "output_type": "display_data"
    }
   ],
   "source": [
    "Y <- train$inddea\n",
    "W <- train$smok100\n",
    "X <- model.matrix(inddea ~ health + race + age + sex, data = train)\n",
    "mean(Y)"
   ]
  },
  {
   "cell_type": "code",
   "execution_count": 46,
   "metadata": {
    "_uuid": "68b05d118afbeeef0a6332baa2286567d3f97cda"
   },
   "outputs": [
    {
     "data": {
      "text/html": [
       "0.0747634543667168"
      ],
      "text/latex": [
       "0.0747634543667168"
      ],
      "text/markdown": [
       "0.0747634543667168"
      ],
      "text/plain": [
       "[1] 0.07476345"
      ]
     },
     "metadata": {},
     "output_type": "display_data"
    },
    {
     "data": {
      "image/png": "[encoded data removed]",
      "text/plain": [
       "Plot with title \"Histogram of tau.hat.oob$predictions\""
      ]
     },
     "metadata": {},
     "output_type": "display_data"
    }
   ],
   "source": [
    "c.forest = causal_forest(X, Y, W)\n",
    "tau.hat.oob = predict(c.forest)\n",
    "hist(tau.hat.oob$predictions)\n",
    "mean(tau.hat.oob$predictions)\n",
    "\n"
   ]
  },
  {
   "cell_type": "code",
   "execution_count": 47,
   "metadata": {
    "_uuid": "3e175613b0e818d85b23831a674f48fbc8ac4a14"
   },
   "outputs": [
    {
     "data": {
      "text/html": [
       "<dl class=dl-horizontal>\n",
       "\t<dt>estimate</dt>\n",
       "\t\t<dd>0.0748776251474763</dd>\n",
       "\t<dt>std.err</dt>\n",
       "\t\t<dd>0.0176210621267473</dd>\n",
       "</dl>\n"
      ],
      "text/latex": [
       "\\begin{description*}\n",
       "\\item[estimate] 0.0748776251474763\n",
       "\\item[std.err] 0.0176210621267473\n",
       "\\end{description*}\n"
      ],
      "text/markdown": [
       "estimate\n",
       ":   0.0748776251474763std.err\n",
       ":   0.0176210621267473\n",
       "\n"
      ],
      "text/plain": [
       "  estimate    std.err \n",
       "0.07487763 0.01762106 "
      ]
     },
     "metadata": {},
     "output_type": "display_data"
    }
   ],
   "source": [
    "average_treatment_effect(c.forest)"
   ]
  },
  {
   "cell_type": "code",
   "execution_count": 48,
   "metadata": {
    "_uuid": "6f9e35aa8a1659d85e195b88622a55cc215fdbaf"
   },
   "outputs": [
    {
     "data": {
      "text/html": [
       "<dl class=dl-horizontal>\n",
       "\t<dt>estimate</dt>\n",
       "\t\t<dd>0.0759740908256833</dd>\n",
       "\t<dt>std.err</dt>\n",
       "\t\t<dd>0.0173488146788728</dd>\n",
       "</dl>\n"
      ],
      "text/latex": [
       "\\begin{description*}\n",
       "\\item[estimate] 0.0759740908256833\n",
       "\\item[std.err] 0.0173488146788728\n",
       "\\end{description*}\n"
      ],
      "text/markdown": [
       "estimate\n",
       ":   0.0759740908256833std.err\n",
       ":   0.0173488146788728\n",
       "\n"
      ],
      "text/plain": [
       "  estimate    std.err \n",
       "0.07597409 0.01734881 "
      ]
     },
     "metadata": {},
     "output_type": "display_data"
    }
   ],
   "source": [
    "average_partial_effect(c.forest)"
   ]
  }
 ],
 "metadata": {
  "kernelspec": {
   "display_name": "R",
   "language": "R",
   "name": "ir"
  },
  "language_info": {
   "codemirror_mode": "r",
   "file_extension": ".r",
   "mimetype": "text/x-r-source",
   "name": "R",
   "pygments_lexer": "r",
   "version": "3.4.3"
  }
 },
 "nbformat": 4,
 "nbformat_minor": 1
}
